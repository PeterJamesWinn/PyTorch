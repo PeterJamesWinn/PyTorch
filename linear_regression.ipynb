{
 "cells": [
  {
   "attachments": {},
   "cell_type": "markdown",
   "metadata": {},
   "source": [
    "Example based on https://www.learnpytorch.io/01_pytorch_workflow/\n",
    "uses nn.Module as base class and defines own weights"
   ]
  },
  {
   "cell_type": "code",
   "execution_count": 1,
   "metadata": {},
   "outputs": [],
   "source": [
    "import matplotlib.pyplot as plt\n",
    "import numpy as np\n",
    "import torch\n",
    "import torch.nn as nn"
   ]
  },
  {
   "cell_type": "code",
   "execution_count": 2,
   "metadata": {},
   "outputs": [
    {
     "data": {
      "text/plain": [
       "tensor([0.0000, 0.5000, 1.0000, 1.5000, 2.0000, 2.5000, 3.0000, 3.5000, 4.0000,\n",
       "        4.5000])"
      ]
     },
     "execution_count": 2,
     "metadata": {},
     "output_type": "execute_result"
    }
   ],
   "source": [
    "# Generate data\n",
    "gradient = 0.3\n",
    "intercept = 0.3\n",
    "start = 0\n",
    "end = 10\n",
    "step = 0.5\n",
    "\n",
    "# diversion to explore data format/slicing\n",
    "X = torch.arange(start, end, step)\n",
    "X[0:10]\n",
    "\n"
   ]
  },
  {
   "cell_type": "code",
   "execution_count": 3,
   "metadata": {},
   "outputs": [
    {
     "data": {
      "text/plain": [
       "(tensor([[0.0000],\n",
       "         [0.5000],\n",
       "         [1.0000],\n",
       "         [1.5000],\n",
       "         [2.0000],\n",
       "         [2.5000],\n",
       "         [3.0000],\n",
       "         [3.5000],\n",
       "         [4.0000],\n",
       "         [4.5000]]),\n",
       " tensor([[0.3000],\n",
       "         [0.4500],\n",
       "         [0.6000],\n",
       "         [0.7500],\n",
       "         [0.9000],\n",
       "         [1.0500],\n",
       "         [1.2000],\n",
       "         [1.3500],\n",
       "         [1.5000],\n",
       "         [1.6500]]))"
      ]
     },
     "execution_count": 3,
     "metadata": {},
     "output_type": "execute_result"
    }
   ],
   "source": [
    "X = torch.arange(start, end, step).unsqueeze(dim=1)\n",
    "Y = gradient * X + intercept\n",
    "X[0:10], Y[0:10]\n",
    "\n"
   ]
  },
  {
   "cell_type": "code",
   "execution_count": 4,
   "metadata": {},
   "outputs": [
    {
     "name": "stdout",
     "output_type": "stream",
     "text": [
      "torch.Size([20, 1]) torch.Size([20, 1])\n"
     ]
    }
   ],
   "source": [
    "print(X.shape,\n",
    "      Y.shape)"
   ]
  },
  {
   "cell_type": "code",
   "execution_count": 5,
   "metadata": {},
   "outputs": [
    {
     "name": "stdout",
     "output_type": "stream",
     "text": [
      "16 16 4 4\n",
      "[[0.0], [0.5], [1.0], [1.5], [2.0], [2.5], [3.0], [3.5], [4.0], [4.5], [5.0], [5.5], [6.0], [6.5], [7.0], [7.5]] [[0.30000001192092896], [0.45000001788139343], [0.6000000238418579], [0.75], [0.9000000357627869], [1.0499999523162842], [1.2000000476837158], [1.3500001430511475], [1.5], [1.6500000953674316], [1.7999999523162842], [1.9500000476837158], [2.1000001430511475], [2.25], [2.4000000953674316], [2.549999952316284]] \n",
      " tensor([[8.0000],\n",
      "        [8.5000],\n",
      "        [9.0000],\n",
      "        [9.5000]]) tensor([[2.7000],\n",
      "        [2.8500],\n",
      "        [3.0000],\n",
      "        [3.1500]])\n"
     ]
    }
   ],
   "source": [
    "X = torch.arange(start, end, step).unsqueeze(dim=1)\n",
    "Y = gradient * X + intercept\n",
    "X[0:10], Y[0:10]\n",
    "\n",
    "# train/test 0.8, 0.2 split\n",
    "train_cut = int(0.8 * len(X))\n",
    "X_train, Y_train = X[:train_cut], Y[:train_cut]\n",
    "X_test, Y_test = X[train_cut:], Y[train_cut:]\n",
    "\n",
    "print(len(X_train), len(Y_train), len(X_test), len(Y_test))\n",
    "X_test.dtype\n",
    "print(X_train.tolist(), Y_train.tolist(),\"\\n\", X_test, Y_test)"
   ]
  },
  {
   "cell_type": "code",
   "execution_count": null,
   "metadata": {},
   "outputs": [],
   "source": [
    "\n"
   ]
  },
  {
   "cell_type": "code",
   "execution_count": 6,
   "metadata": {},
   "outputs": [],
   "source": [
    "import torch.nn as nn\n",
    "# Create a Linear Regression model class\n",
    "class LinearRegressionModel(nn.Module): \n",
    "    \n",
    "    def __init__(self):\n",
    "        super().__init__() \n",
    "        self.weights = nn.Parameter(torch.randn(1, dtype=torch.float), \n",
    "                                                  requires_grad=True) \n",
    "        self.bias = nn.Parameter(torch.zeros(1), \n",
    "                                requires_grad=True)\n",
    "        \n",
    "    def __str__(self) -> str:\n",
    "        return super().__str__()\n",
    "    \n",
    "    def __repr__(self):\n",
    "        #return super().__repr__()\n",
    "        return str(list(self.parameters()))\n",
    "        \n",
    "    def forward(self, x: torch.Tensor) -> torch.Tensor: \n",
    "        return self.weights * x + self.bias"
   ]
  },
  {
   "cell_type": "code",
   "execution_count": 7,
   "metadata": {},
   "outputs": [
    {
     "data": {
      "text/plain": [
       "[Parameter containing:\n",
       " tensor([-0.9796], requires_grad=True),\n",
       " Parameter containing:\n",
       " tensor([0.], requires_grad=True)]"
      ]
     },
     "execution_count": 7,
     "metadata": {},
     "output_type": "execute_result"
    }
   ],
   "source": [
    "# allow reproducability during training.\n",
    "#torch.manual_seed(42)\n",
    "\n",
    "# regression instance\n",
    "regression_0 = LinearRegressionModel()\n",
    "list(regression_0.parameters()) #"
   ]
  },
  {
   "cell_type": "code",
   "execution_count": 8,
   "metadata": {},
   "outputs": [
    {
     "data": {
      "text/plain": [
       "[Parameter containing:\n",
       "tensor([-0.9796], requires_grad=True), Parameter containing:\n",
       "tensor([0.], requires_grad=True)]"
      ]
     },
     "execution_count": 8,
     "metadata": {},
     "output_type": "execute_result"
    }
   ],
   "source": [
    "regression_0"
   ]
  },
  {
   "cell_type": "code",
   "execution_count": 9,
   "metadata": {},
   "outputs": [
    {
     "data": {
      "text/plain": [
       "OrderedDict([('weights', tensor([-0.9796])), ('bias', tensor([0.]))])"
      ]
     },
     "execution_count": 9,
     "metadata": {},
     "output_type": "execute_result"
    }
   ],
   "source": [
    "regression_0.state_dict()"
   ]
  },
  {
   "cell_type": "code",
   "execution_count": 10,
   "metadata": {},
   "outputs": [
    {
     "name": "stdout",
     "output_type": "stream",
     "text": [
      "X_test:\n",
      "tensor([[8.0000],\n",
      "        [8.5000],\n",
      "        [9.0000],\n",
      "        [9.5000]])\n",
      "\n",
      "X_test.dtype: \n",
      "torch.float32\n",
      "\n",
      "Y_preds.dtype: \n",
      "torch.float32\n",
      "\n",
      "Number of testing samples: 4\n",
      "Number of predictions made: 4\n",
      "Predicted values:\n",
      "tensor([[-7.8367],\n",
      "        [-8.3265],\n",
      "        [-8.8163],\n",
      "        [-9.3061]])\n"
     ]
    }
   ],
   "source": [
    "# predictions from untrained model\n",
    "print(f\"X_test:\\n{X_test}\\n\")\n",
    "print(f\"X_test.dtype: \\n{X_test.dtype}\\n\")\n",
    "with torch.inference_mode(): \n",
    "    Y_preds = regression_0(X_test)\n",
    "\n",
    "print(f\"Y_preds.dtype: \\n{Y_preds.dtype}\\n\")\n",
    "# Check expected number of predictions.\n",
    "print(f\"Number of testing samples: {len(X_test)}\") \n",
    "print(f\"Number of predictions made: {len(Y_preds)}\")\n",
    "print(f\"Predicted values:\\n{Y_preds}\")\n",
    "\n"
   ]
  },
  {
   "cell_type": "code",
   "execution_count": 11,
   "metadata": {},
   "outputs": [
    {
     "name": "stdout",
     "output_type": "stream",
     "text": [
      "test_data, predictions [8.0, 8.5, 9.0, 9.5] [-7.836732864379883, -8.326528549194336, -8.816324234008789, -9.306119918823242]\n"
     ]
    },
    {
     "data": {
      "image/png": "[encoded data removed]",
      "text/plain": [
       "<Figure size 1000x700 with 1 Axes>"
      ]
     },
     "metadata": {},
     "output_type": "display_data"
    }
   ],
   "source": [
    "X_train_to_plot = X_train.tolist()\n",
    "Y_train_to_plot = Y_train.tolist()      \n",
    "X_test_to_plot = X_test.squeeze().tolist() \n",
    "Y_test_to_plot = Y_test.squeeze().tolist() \n",
    "predictions = Y_preds.squeeze().tolist()\n",
    "print(\"test_data, predictions\", X_test_to_plot, predictions)\n",
    "\n",
    "plt.figure(figsize=(10, 7))\n",
    "\n",
    "# Plot training data in blue\n",
    "plt.scatter(X_train_to_plot, Y_train_to_plot, c=\"b\", s=4, label=\"Training data\")\n",
    "\n",
    "# Plot ground truth test data in red\n",
    "plt.scatter(X_test_to_plot, Y_test_to_plot, c=\"r\", s=4, label=\"Testing data\")\n",
    "\n",
    "# Plot the predictions with test in grey\n",
    "plt.scatter(X_test_to_plot, predictions, c=\"grey\", s=4, label=\"Predictions\")\n",
    "\n",
    "plt.legend(prop={\"size\": 14});"
   ]
  },
  {
   "cell_type": "code",
   "execution_count": 12,
   "metadata": {},
   "outputs": [],
   "source": [
    "def plot_predictions(X_train_to_plot = X_train.tolist(),\n",
    "                    Y_train_to_plot = Y_train.tolist(),      \n",
    "                    X_test_to_plot = X_test.squeeze().tolist(), \n",
    "                    Y_test_to_plot = Y_test.squeeze().tolist(), \n",
    "                    predictions = Y_preds.squeeze().tolist()):\n",
    "\n",
    "    print(\"X_test, predictions\", X_test_to_plot, predictions)\n",
    "    print(\"Y_test, predictions\", Y_test_to_plot, predictions)\n",
    "    plt.figure(figsize=(10, 7))\n",
    "\n",
    "    # Plot training data in blue\n",
    "    plt.scatter(X_train_to_plot, Y_train_to_plot, c=\"b\", s=4, label=\"Training data\")\n",
    "    # Plot ground truth test data in red\n",
    "    plt.scatter(X_test_to_plot, Y_test_to_plot, c=\"r\", s=4, label=\"Testing data\")\n",
    "    # Plot the predictions with test in grey\n",
    "    plt.scatter(X_test_to_plot, predictions, c=\"grey\", s=4, label=\"Predictions\")\n",
    "    plt.legend(prop={\"size\": 14});"
   ]
  },
  {
   "cell_type": "code",
   "execution_count": 13,
   "metadata": {},
   "outputs": [],
   "source": [
    " \n",
    "optimizer = torch.optim.SGD(params = regression_0.parameters(), \n",
    "                            lr = 0.01)"
   ]
  },
  {
   "cell_type": "code",
   "execution_count": 14,
   "metadata": {},
   "outputs": [
    {
     "name": "stdout",
     "output_type": "stream",
     "text": [
      "Epoch: 0 | MSE Train Loss: 34.69282913208008 | MSE Test Loss: 47.226524353027344 \n",
      "Epoch: 10 | MSE Train Loss: 0.0017253082478418946 | MSE Test Loss: 7.456308958353475e-05 \n",
      "Epoch: 20 | MSE Train Loss: 0.0004924212698824704 | MSE Test Loss: 0.0009200205095112324 \n",
      "Epoch: 30 | MSE Train Loss: 0.00044288282515481114 | MSE Test Loss: 0.0008402500534430146 \n",
      "Epoch: 40 | MSE Train Loss: 0.00039836045471020043 | MSE Test Loss: 0.000755837420001626 \n",
      "Epoch: 50 | MSE Train Loss: 0.0003583150391932577 | MSE Test Loss: 0.000679865013808012 \n",
      "Epoch: 60 | MSE Train Loss: 0.0003222948871552944 | MSE Test Loss: 0.0006115188589319587 \n",
      "Epoch: 70 | MSE Train Loss: 0.0002898970269598067 | MSE Test Loss: 0.000550042896065861 \n",
      "Epoch: 80 | MSE Train Loss: 0.00026075501227751374 | MSE Test Loss: 0.0004947638371959329 \n",
      "Epoch: 90 | MSE Train Loss: 0.00023454203619621694 | MSE Test Loss: 0.0004450211417861283 \n",
      "Epoch: 100 | MSE Train Loss: 0.00021096592536196113 | MSE Test Loss: 0.0004002783098258078 \n",
      "Epoch: 110 | MSE Train Loss: 0.0001897580223158002 | MSE Test Loss: 0.0003600419731810689 \n",
      "Epoch: 120 | MSE Train Loss: 0.00017068226588889956 | MSE Test Loss: 0.0003238563076592982 \n",
      "Epoch: 130 | MSE Train Loss: 0.00015352555783465505 | MSE Test Loss: 0.00029129243921488523 \n",
      "Epoch: 140 | MSE Train Loss: 0.00013809159281663597 | MSE Test Loss: 0.000262014742475003 \n",
      "Epoch: 150 | MSE Train Loss: 0.00012420982238836586 | MSE Test Loss: 0.00023567737662233412 \n",
      "Epoch: 160 | MSE Train Loss: 0.00011172367521794513 | MSE Test Loss: 0.0002119806013070047 \n",
      "Epoch: 170 | MSE Train Loss: 0.00010049192496808246 | MSE Test Loss: 0.00019067226094193757 \n",
      "Epoch: 180 | MSE Train Loss: 9.039064025273547e-05 | MSE Test Loss: 0.00017150977510027587 \n",
      "Epoch: 190 | MSE Train Loss: 8.130409696605057e-05 | MSE Test Loss: 0.00015426382014993578 \n",
      "Epoch: 200 | MSE Train Loss: 7.313065725611523e-05 | MSE Test Loss: 0.00013875948206987232 \n",
      "Epoch: 210 | MSE Train Loss: 6.577865133294836e-05 | MSE Test Loss: 0.00012480668374337256 \n",
      "Epoch: 220 | MSE Train Loss: 5.916694499319419e-05 | MSE Test Loss: 0.00011225934576941654 \n",
      "Epoch: 230 | MSE Train Loss: 5.3219482651911676e-05 | MSE Test Loss: 0.00010097881022375077 \n",
      "Epoch: 240 | MSE Train Loss: 4.7869492846075445e-05 | MSE Test Loss: 9.082909673452377e-05 \n",
      "Epoch: 250 | MSE Train Loss: 4.3057490984210745e-05 | MSE Test Loss: 8.16948595456779e-05 \n",
      "Epoch: 260 | MSE Train Loss: 3.872923116432503e-05 | MSE Test Loss: 7.348431972786784e-05 \n",
      "Epoch: 270 | MSE Train Loss: 3.4836208214983344e-05 | MSE Test Loss: 6.609904812648892e-05 \n",
      "Epoch: 280 | MSE Train Loss: 3.133397694909945e-05 | MSE Test Loss: 5.945120210526511e-05 \n",
      "Epoch: 290 | MSE Train Loss: 2.8184107577544637e-05 | MSE Test Loss: 5.3477706387639046e-05 \n",
      "Epoch: 300 | MSE Train Loss: 2.535094608902e-05 | MSE Test Loss: 4.810120299225673e-05 \n",
      "Epoch: 310 | MSE Train Loss: 2.2802774765295908e-05 | MSE Test Loss: 4.3267602450214326e-05 \n",
      "Epoch: 320 | MSE Train Loss: 2.0510511603788473e-05 | MSE Test Loss: 3.8915328332223e-05 \n",
      "Epoch: 330 | MSE Train Loss: 1.8448583432473242e-05 | MSE Test Loss: 3.500293678371236e-05 \n",
      "Epoch: 340 | MSE Train Loss: 1.6594100088695996e-05 | MSE Test Loss: 3.148529867758043e-05 \n",
      "Epoch: 350 | MSE Train Loss: 1.4925708455848508e-05 | MSE Test Loss: 2.8320304409135133e-05 \n",
      "Epoch: 360 | MSE Train Loss: 1.3425291399471462e-05 | MSE Test Loss: 2.5471788831055164e-05 \n",
      "Epoch: 370 | MSE Train Loss: 1.2075684935553e-05 | MSE Test Loss: 2.2913754946785048e-05 \n",
      "Epoch: 380 | MSE Train Loss: 1.0861979717446957e-05 | MSE Test Loss: 2.0609213606803678e-05 \n",
      "Epoch: 390 | MSE Train Loss: 9.769968528416939e-06 | MSE Test Loss: 1.8535592971602455e-05 \n",
      "Epoch: 400 | MSE Train Loss: 8.787814294919372e-06 | MSE Test Loss: 1.66741283464944e-05 \n",
      "Epoch: 410 | MSE Train Loss: 7.904491212684661e-06 | MSE Test Loss: 1.4996498066466302e-05 \n",
      "Epoch: 420 | MSE Train Loss: 7.109656962711597e-06 | MSE Test Loss: 1.3489201592165045e-05 \n",
      "Epoch: 430 | MSE Train Loss: 6.394910087692551e-06 | MSE Test Loss: 1.213427913171472e-05 \n",
      "Epoch: 440 | MSE Train Loss: 5.752048309659585e-06 | MSE Test Loss: 1.0913130608969368e-05 \n",
      "Epoch: 450 | MSE Train Loss: 5.173726549401181e-06 | MSE Test Loss: 9.816680176299997e-06 \n",
      "Epoch: 460 | MSE Train Loss: 4.653526957554277e-06 | MSE Test Loss: 8.831209925119765e-06 \n",
      "Epoch: 470 | MSE Train Loss: 4.185902980680112e-06 | MSE Test Loss: 7.940726391097996e-06 \n",
      "Epoch: 480 | MSE Train Loss: 3.7650158901669784e-06 | MSE Test Loss: 7.142478807509178e-06 \n",
      "Epoch: 490 | MSE Train Loss: 3.3865749173855875e-06 | MSE Test Loss: 6.425817900890252e-06 \n"
     ]
    }
   ],
   "source": [
    "# define here so that consistent throughout and easy to change.\n",
    "loss_function = nn.MSELoss() \n",
    "epochs = 500\n",
    "\n",
    "# Create lists to track values\n",
    "train_loss_values = []\n",
    "test_loss_values = []\n",
    "epoch_count = []\n",
    "\n",
    "for epoch in range(epochs):\n",
    "    ### Training\n",
    "    regression_0.train()\n",
    "\n",
    "    # 1. Forward pass using the forward() method \n",
    "    Y_pred = regression_0(X_train)\n",
    "    loss = loss_function(Y_pred, Y_train)\n",
    "\n",
    "    # 2. Backward pass \n",
    "    # Zero grad the optimizer\n",
    "    optimizer.zero_grad()\n",
    "    loss.backward()\n",
    "\n",
    "    # 3. Parameter update.\n",
    "    optimizer.step()\n",
    "\n",
    "    ### Testing\n",
    "    # evaluation mode\n",
    "    regression_0.eval()\n",
    "\n",
    "    with torch.inference_mode():\n",
    "      # 1. Forward pass on test data\n",
    "      test_pred = regression_0(X_test)\n",
    "      test_loss = loss_function(test_pred, Y_test) \n",
    "\n",
    "      # Print every 10 steps\n",
    "      if epoch % 10 == 0:\n",
    "            epoch_count.append(epoch)\n",
    "            train_loss_values.append(loss.detach().numpy())\n",
    "            test_loss_values.append(test_loss.detach().numpy())\n",
    "            print(f\"Epoch: {epoch} | MSE Train Loss: {loss} | MSE Test Loss: {test_loss} \")\n"
   ]
  },
  {
   "cell_type": "code",
   "execution_count": null,
   "metadata": {},
   "outputs": [],
   "source": []
  },
  {
   "cell_type": "code",
   "execution_count": 15,
   "metadata": {},
   "outputs": [
    {
     "name": "stdout",
     "output_type": "stream",
     "text": [
      "X_test, predictions [8.0, 8.5, 9.0, 9.5] tensor([[2.7019],\n",
      "        [2.8522],\n",
      "        [3.0026],\n",
      "        [3.1529]])\n",
      "Y_test, predictions [2.700000047683716, 2.8500001430511475, 3.0, 3.1500000953674316] tensor([[2.7019],\n",
      "        [2.8522],\n",
      "        [3.0026],\n",
      "        [3.1529]])\n"
     ]
    },
    {
     "data": {
      "image/png": "[encoded data removed]",
      "text/plain": [
       "<Figure size 1000x700 with 1 Axes>"
      ]
     },
     "metadata": {},
     "output_type": "display_data"
    }
   ],
   "source": [
    "plot_predictions(predictions=test_pred)"
   ]
  },
  {
   "cell_type": "code",
   "execution_count": 16,
   "metadata": {},
   "outputs": [
    {
     "data": {
      "image/png": "[encoded data removed]",
      "text/plain": [
       "<Figure size 640x480 with 1 Axes>"
      ]
     },
     "metadata": {},
     "output_type": "display_data"
    }
   ],
   "source": [
    "plt.plot(epoch_count, train_loss_values, label=\"Train loss\")\n",
    "plt.plot(epoch_count, test_loss_values, label=\"Test loss\")\n",
    "plt.title(\"Training and test loss curves\")\n",
    "plt.ylabel(\"MSE Loss\")\n",
    "plt.xlabel(\"Epochs\")\n",
    "plt.legend();"
   ]
  },
  {
   "cell_type": "code",
   "execution_count": 17,
   "metadata": {},
   "outputs": [
    {
     "name": "stdout",
     "output_type": "stream",
     "text": [
      "MODEL_SAVE_PATH: models\\regression_model_0.pt\n"
     ]
    }
   ],
   "source": [
    "from pathlib import Path\n",
    "\n",
    "# 1. Create models directory \n",
    "MODEL_PATH = Path(\"models\")\n",
    "MODEL_PATH.mkdir(parents=True, exist_ok=True)\n",
    "\n",
    "# 2. Create model save path \n",
    "MODEL_NAME = \"regression_model_0.pt\"\n",
    "MODEL_SAVE_PATH = MODEL_PATH / MODEL_NAME\n",
    "\n",
    "# 3. Save the model state dict \n",
    "print(f\"MODEL_SAVE_PATH: {MODEL_SAVE_PATH}\")\n",
    "torch.save(obj=regression_0.state_dict(), # only saving the parameters\n",
    "           f=MODEL_SAVE_PATH)"
   ]
  }
 ],
 "metadata": {
  "kernelspec": {
   "display_name": "Python 3",
   "language": "python",
   "name": "python3"
  },
  "language_info": {
   "codemirror_mode": {
    "name": "ipython",
    "version": 3
   },
   "file_extension": ".py",
   "mimetype": "text/x-python",
   "name": "python",
   "nbconvert_exporter": "python",
   "pygments_lexer": "ipython3",
   "version": "3.10.0"
  },
  "orig_nbformat": 4
 },
 "nbformat": 4,
 "nbformat_minor": 2
}
