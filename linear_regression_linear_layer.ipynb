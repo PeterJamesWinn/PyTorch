{
 "cells": [
  {
   "attachments": {},
   "cell_type": "markdown",
   "metadata": {},
   "source": [
    "Example based on https://www.learnpytorch.io/01_pytorch_workflow/ - compared to linear_regression.ipynb this uses the nn.linear() class for the linear regression and looks at moving tensors between devices, including creating device agnostice code - i.e. to take a gpu if present but run on cpu if not. "
   ]
  },
  {
   "cell_type": "code",
   "execution_count": 1,
   "metadata": {},
   "outputs": [],
   "source": [
    "import matplotlib.pyplot as plt\n",
    "import numpy as np\n",
    "import torch\n",
    "import torch.nn as nn"
   ]
  },
  {
   "cell_type": "code",
   "execution_count": 2,
   "metadata": {},
   "outputs": [
    {
     "data": {
      "text/plain": [
       "tensor([0.0000, 0.5000, 1.0000, 1.5000, 2.0000, 2.5000, 3.0000, 3.5000, 4.0000,\n",
       "        4.5000])"
      ]
     },
     "execution_count": 2,
     "metadata": {},
     "output_type": "execute_result"
    }
   ],
   "source": [
    "# Generate data\n",
    "gradient = 0.3\n",
    "intercept = 0.3\n",
    "start = 0\n",
    "end = 10\n",
    "step = 0.5\n",
    "\n",
    "# diversion to explore data format/slicing\n",
    "X = torch.arange(start, end, step)\n",
    "X[0:10]\n",
    "\n"
   ]
  },
  {
   "cell_type": "code",
   "execution_count": 3,
   "metadata": {},
   "outputs": [
    {
     "data": {
      "text/plain": [
       "(tensor([[0.0000],\n",
       "         [0.5000],\n",
       "         [1.0000],\n",
       "         [1.5000],\n",
       "         [2.0000],\n",
       "         [2.5000],\n",
       "         [3.0000],\n",
       "         [3.5000],\n",
       "         [4.0000],\n",
       "         [4.5000]]),\n",
       " tensor([[0.3000],\n",
       "         [0.4500],\n",
       "         [0.6000],\n",
       "         [0.7500],\n",
       "         [0.9000],\n",
       "         [1.0500],\n",
       "         [1.2000],\n",
       "         [1.3500],\n",
       "         [1.5000],\n",
       "         [1.6500]]))"
      ]
     },
     "execution_count": 3,
     "metadata": {},
     "output_type": "execute_result"
    }
   ],
   "source": [
    "X = torch.arange(start, end, step).unsqueeze(dim=1)\n",
    "Y = gradient * X + intercept\n",
    "X[0:10], Y[0:10]\n",
    "\n"
   ]
  },
  {
   "cell_type": "code",
   "execution_count": 4,
   "metadata": {},
   "outputs": [
    {
     "name": "stdout",
     "output_type": "stream",
     "text": [
      "torch.Size([20, 1]) torch.Size([20, 1])\n"
     ]
    }
   ],
   "source": [
    "print(X.shape,\n",
    "      Y.shape)"
   ]
  },
  {
   "cell_type": "code",
   "execution_count": 5,
   "metadata": {},
   "outputs": [
    {
     "name": "stdout",
     "output_type": "stream",
     "text": [
      "16 16 4 4\n",
      "[[0.0], [0.5], [1.0], [1.5], [2.0], [2.5], [3.0], [3.5], [4.0], [4.5], [5.0], [5.5], [6.0], [6.5], [7.0], [7.5]] [[0.30000001192092896], [0.45000001788139343], [0.6000000238418579], [0.75], [0.9000000357627869], [1.0499999523162842], [1.2000000476837158], [1.3500001430511475], [1.5], [1.6500000953674316], [1.7999999523162842], [1.9500000476837158], [2.1000001430511475], [2.25], [2.4000000953674316], [2.549999952316284]] \n",
      " tensor([[8.0000],\n",
      "        [8.5000],\n",
      "        [9.0000],\n",
      "        [9.5000]]) tensor([[2.7000],\n",
      "        [2.8500],\n",
      "        [3.0000],\n",
      "        [3.1500]])\n"
     ]
    }
   ],
   "source": [
    "X = torch.arange(start, end, step).unsqueeze(dim=1)\n",
    "Y = gradient * X + intercept\n",
    "X[0:10], Y[0:10]\n",
    "\n",
    "# train/test 0.8, 0.2 split\n",
    "train_cut = int(0.8 * len(X))\n",
    "X_train, Y_train = X[:train_cut], Y[:train_cut]\n",
    "X_test, Y_test = X[train_cut:], Y[train_cut:]\n",
    "\n",
    "print(len(X_train), len(Y_train), len(X_test), len(Y_test))\n",
    "X_test.dtype\n",
    "print(X_train.tolist(), Y_train.tolist(),\"\\n\", X_test, Y_test)"
   ]
  },
  {
   "cell_type": "code",
   "execution_count": 6,
   "metadata": {},
   "outputs": [
    {
     "name": "stdout",
     "output_type": "stream",
     "text": [
      "Using device: cpu\n"
     ]
    }
   ],
   "source": [
    "# device agnostic code - allows us to put on gpu if available\n",
    "# or default to cpu if not. Store in device variable. \n",
    "device = \"cuda\" if torch.cuda.is_available() else \"cpu\"\n",
    "print(f\"Using device: {device}\")\n"
   ]
  },
  {
   "cell_type": "code",
   "execution_count": 7,
   "metadata": {},
   "outputs": [
    {
     "data": {
      "text/plain": [
       "(LinearRegressionModel(\n",
       "   (linear_layer): Linear(in_features=1, out_features=1, bias=True)\n",
       " ),\n",
       " OrderedDict([('linear_layer.weight', tensor([[-0.6537]])),\n",
       "              ('linear_layer.bias', tensor([0.6325]))]))"
      ]
     },
     "execution_count": 7,
     "metadata": {},
     "output_type": "execute_result"
    }
   ],
   "source": [
    "import torch.nn as nn\n",
    "# Create a Linear Regression model classl\n",
    "class LinearRegressionModel(nn.Module):\n",
    "    def __init__(self):\n",
    "        super().__init__()\n",
    "        # Use nn.Linear() instead of creating our own parameters\n",
    "        self.linear_layer = nn.Linear(in_features=1, \n",
    "                                      out_features=1)\n",
    "    \n",
    "    # Define the forward computation (input data x flows through nn.Linear())\n",
    "    def forward(self, x: torch.Tensor) -> torch.Tensor:\n",
    "        return self.linear_layer(x)\n",
    "\n",
    "# Set the manual seed when creating the model (this isn't always need but is used for demonstrative purposes, try commenting it out and seeing what happens)\n",
    "regression_1 = LinearRegressionModel()\n",
    "regression_1, regression_1.state_dict()"
   ]
  },
  {
   "cell_type": "code",
   "execution_count": 8,
   "metadata": {},
   "outputs": [
    {
     "data": {
      "text/plain": [
       "[Parameter containing:\n",
       " tensor([[-0.8117]], requires_grad=True),\n",
       " Parameter containing:\n",
       " tensor([0.5525], requires_grad=True)]"
      ]
     },
     "execution_count": 8,
     "metadata": {},
     "output_type": "execute_result"
    }
   ],
   "source": [
    "# allow reproducability during training.\n",
    "# torch.manual_seed(42)\n",
    "\n",
    "# regression instance\n",
    "regression_1 = LinearRegressionModel()\n",
    "list(regression_1.parameters()) "
   ]
  },
  {
   "cell_type": "code",
   "execution_count": 9,
   "metadata": {},
   "outputs": [
    {
     "data": {
      "text/plain": [
       "LinearRegressionModel(\n",
       "  (linear_layer): Linear(in_features=1, out_features=1, bias=True)\n",
       ")"
      ]
     },
     "execution_count": 9,
     "metadata": {},
     "output_type": "execute_result"
    }
   ],
   "source": [
    "regression_1"
   ]
  },
  {
   "cell_type": "code",
   "execution_count": 10,
   "metadata": {},
   "outputs": [
    {
     "name": "stdout",
     "output_type": "stream",
     "text": [
      "<generator object Module.parameters at 0x0000022014ED74C0>\n",
      "<bound method Module.state_dict of LinearRegressionModel(\n",
      "  (linear_layer): Linear(in_features=1, out_features=1, bias=True)\n",
      ")>\n",
      "OrderedDict([('linear_layer.weight', tensor([[-0.8117]])), ('linear_layer.bias', tensor([0.5525]))])\n"
     ]
    }
   ],
   "source": [
    "print(regression_1.parameters())\n",
    "print(regression_1.state_dict)\n",
    "print(regression_1.state_dict())"
   ]
  },
  {
   "cell_type": "code",
   "execution_count": 11,
   "metadata": {},
   "outputs": [
    {
     "data": {
      "text/plain": [
       "Parameter containing:\n",
       "tensor([[-0.8117]], requires_grad=True)"
      ]
     },
     "execution_count": 11,
     "metadata": {},
     "output_type": "execute_result"
    }
   ],
   "source": [
    "next(regression_1.parameters())"
   ]
  },
  {
   "cell_type": "code",
   "execution_count": 12,
   "metadata": {},
   "outputs": [
    {
     "data": {
      "text/plain": [
       "device(type='cpu')"
      ]
     },
     "execution_count": 12,
     "metadata": {},
     "output_type": "execute_result"
    }
   ],
   "source": [
    "# load model to GPU (cuda) if availalble, otherwise default to CPU\n",
    "regression_1.to(device) \n",
    "next(regression_1.parameters()).device"
   ]
  },
  {
   "cell_type": "code",
   "execution_count": 13,
   "metadata": {},
   "outputs": [
    {
     "data": {
      "text/plain": [
       "OrderedDict([('linear_layer.weight', tensor([[-0.8117]])),\n",
       "             ('linear_layer.bias', tensor([0.5525]))])"
      ]
     },
     "execution_count": 13,
     "metadata": {},
     "output_type": "execute_result"
    }
   ],
   "source": [
    "regression_1.state_dict()"
   ]
  },
  {
   "cell_type": "code",
   "execution_count": 14,
   "metadata": {},
   "outputs": [
    {
     "name": "stdout",
     "output_type": "stream",
     "text": [
      "X_test:\n",
      "tensor([[8.0000],\n",
      "        [8.5000],\n",
      "        [9.0000],\n",
      "        [9.5000]])\n",
      "\n",
      "X_test.dtype: \n",
      "torch.float32\n",
      "\n",
      "Y_preds.dtype: \n",
      "torch.float32\n",
      "\n",
      "Number of testing samples: 4\n",
      "Number of predictions made: 4\n",
      "Predicted values:\n",
      "tensor([[-5.9411],\n",
      "        [-6.3469],\n",
      "        [-6.7528],\n",
      "        [-7.1586]])\n"
     ]
    }
   ],
   "source": [
    "# predictions from untrained model\n",
    "print(f\"X_test:\\n{X_test}\\n\")\n",
    "print(f\"X_test.dtype: \\n{X_test.dtype}\\n\")\n",
    "with torch.inference_mode(): \n",
    "    Y_preds = regression_1(X_test)\n",
    "\n",
    "print(f\"Y_preds.dtype: \\n{Y_preds.dtype}\\n\")\n",
    "# Check expected number of predictions.\n",
    "print(f\"Number of testing samples: {len(X_test)}\") \n",
    "print(f\"Number of predictions made: {len(Y_preds)}\")\n",
    "print(f\"Predicted values:\\n{Y_preds}\")\n",
    "\n"
   ]
  },
  {
   "cell_type": "code",
   "execution_count": 15,
   "metadata": {},
   "outputs": [
    {
     "name": "stdout",
     "output_type": "stream",
     "text": [
      "test_data, predictions [8.0, 8.5, 9.0, 9.5] [-5.941093921661377, -6.3469438552856445, -6.752793788909912, -7.15864372253418]\n"
     ]
    },
    {
     "data": {
      "image/png": "[encoded data removed]",
      "text/plain": [
       "<Figure size 1000x700 with 1 Axes>"
      ]
     },
     "metadata": {},
     "output_type": "display_data"
    }
   ],
   "source": [
    "X_train_to_plot = X_train.tolist()\n",
    "Y_train_to_plot = Y_train.tolist()      \n",
    "X_test_to_plot = X_test.squeeze().tolist() \n",
    "Y_test_to_plot = Y_test.squeeze().tolist() \n",
    "predictions = Y_preds.squeeze().tolist()\n",
    "print(\"test_data, predictions\", X_test_to_plot, predictions)\n",
    "\n",
    "plt.figure(figsize=(10, 7))\n",
    "\n",
    "# Plot training data in blue\n",
    "plt.scatter(X_train_to_plot, Y_train_to_plot, c=\"b\", s=4, label=\"Training data\")\n",
    "\n",
    "# Plot ground truth test data in red\n",
    "plt.scatter(X_test_to_plot, Y_test_to_plot, c=\"r\", s=4, label=\"Testing data\")\n",
    "\n",
    "# Plot the predictions with test in grey\n",
    "plt.scatter(X_test_to_plot, predictions, c=\"grey\", s=4, label=\"Predictions\")\n",
    "\n",
    "plt.legend(prop={\"size\": 14});"
   ]
  },
  {
   "cell_type": "code",
   "execution_count": 16,
   "metadata": {},
   "outputs": [],
   "source": [
    "def plot_predictions(X_train_to_plot = X_train.tolist(),\n",
    "                    Y_train_to_plot = Y_train.tolist(),      \n",
    "                    X_test_to_plot = X_test.squeeze().tolist(), \n",
    "                    Y_test_to_plot = Y_test.squeeze().tolist(), \n",
    "                    predictions = Y_preds.squeeze().tolist()):\n",
    "\n",
    "    print(\"test_data, predictions\", X_test_to_plot, predictions)\n",
    "    plt.figure(figsize=(10, 7))\n",
    "\n",
    "    # Plot training data in blue\n",
    "    plt.scatter(X_train_to_plot, Y_train_to_plot, c=\"b\", s=4, label=\"Training data\")\n",
    "    # Plot ground truth test data in red\n",
    "    plt.scatter(X_test_to_plot, Y_test_to_plot, c=\"r\", s=4, label=\"Testing data\")\n",
    "    # Plot the predictions with test in grey\n",
    "    plt.scatter(X_test_to_plot, predictions, c=\"grey\", s=4, label=\"Predictions\")\n",
    "    plt.legend(prop={\"size\": 14});"
   ]
  },
  {
   "cell_type": "code",
   "execution_count": 17,
   "metadata": {},
   "outputs": [],
   "source": [
    " \n",
    "optimizer = torch.optim.SGD(params = regression_1.parameters(), \n",
    "                            lr = 0.01)"
   ]
  },
  {
   "cell_type": "code",
   "execution_count": 18,
   "metadata": {},
   "outputs": [
    {
     "name": "stdout",
     "output_type": "stream",
     "text": [
      "Epoch: 0 | MSE Train Loss: 21.903545379638672 | MSE Test Loss: 33.71064758300781 \n",
      "Epoch: 50 | MSE Train Loss: 0.03317379578948021 | MSE Test Loss: 0.06294382363557816 \n",
      "Epoch: 100 | MSE Train Loss: 0.01953168958425522 | MSE Test Loss: 0.037059348076581955 \n",
      "Epoch: 150 | MSE Train Loss: 0.011499648913741112 | MSE Test Loss: 0.02181939035654068 \n",
      "Epoch: 200 | MSE Train Loss: 0.006770631298422813 | MSE Test Loss: 0.012846553698182106 \n",
      "Epoch: 250 | MSE Train Loss: 0.003986329771578312 | MSE Test Loss: 0.007563674356788397 \n",
      "Epoch: 300 | MSE Train Loss: 0.0023470264859497547 | MSE Test Loss: 0.0044532231986522675 \n",
      "Epoch: 350 | MSE Train Loss: 0.0013818562729284167 | MSE Test Loss: 0.002621922641992569 \n",
      "Epoch: 400 | MSE Train Loss: 0.0008135942043736577 | MSE Test Loss: 0.0015437295660376549 \n",
      "Epoch: 450 | MSE Train Loss: 0.0004790166567545384 | MSE Test Loss: 0.0009088856168091297 \n",
      "Epoch: 500 | MSE Train Loss: 0.0002820287481881678 | MSE Test Loss: 0.0005351266008801758 \n",
      "Epoch: 550 | MSE Train Loss: 0.00016604889242444187 | MSE Test Loss: 0.00031505769584327936 \n",
      "Epoch: 600 | MSE Train Loss: 9.776549268281087e-05 | MSE Test Loss: 0.00018549725064076483 \n",
      "Epoch: 650 | MSE Train Loss: 5.7561548601370305e-05 | MSE Test Loss: 0.00010921721695922315 \n",
      "Epoch: 700 | MSE Train Loss: 3.389014455024153e-05 | MSE Test Loss: 6.430524808820337e-05 \n",
      "Epoch: 750 | MSE Train Loss: 1.995298771362286e-05 | MSE Test Loss: 3.7858822906855494e-05 \n",
      "Epoch: 800 | MSE Train Loss: 1.1748040378734004e-05 | MSE Test Loss: 2.229110396001488e-05 \n",
      "Epoch: 850 | MSE Train Loss: 6.91657442075666e-06 | MSE Test Loss: 1.3123961252858862e-05 \n",
      "Epoch: 900 | MSE Train Loss: 4.07236211685813e-06 | MSE Test Loss: 7.726619514869526e-06 \n",
      "Epoch: 950 | MSE Train Loss: 2.3975878775672754e-06 | MSE Test Loss: 4.548674951365683e-06 \n"
     ]
    }
   ],
   "source": [
    "# move data to the device selected earlier - gpu if available otherwise\n",
    "# cpu\n",
    "X_train = X_train.to(device)\n",
    "X_test = X_test.to(device)\n",
    "Y_train = Y_train.to(device)\n",
    "Y_test = Y_test.to(device)\n",
    "\n",
    "\n",
    "# define here so that consistent throughout and easy to change.\n",
    "loss_function = nn.MSELoss() \n",
    "epochs = 1000\n",
    "\n",
    "# Create lists to track values\n",
    "train_loss_values = []\n",
    "test_loss_values = []\n",
    "epoch_count = []\n",
    "\n",
    "for epoch in range(epochs):\n",
    "    ### Training\n",
    "    regression_1.train()\n",
    "\n",
    "    # 1. Forward pass using the forward() method \n",
    "    Y_pred = regression_1(X_train)\n",
    "    loss = loss_function(Y_pred, Y_train)\n",
    "\n",
    "    # 2. Backward pass \n",
    "    # Zero grad the optimizer\n",
    "    optimizer.zero_grad()\n",
    "    loss.backward()\n",
    "\n",
    "    # 3. Parameter update.\n",
    "    optimizer.step()\n",
    "\n",
    "    ### Testing\n",
    "    # evaluation mode\n",
    "    regression_1.eval()\n",
    "\n",
    "    with torch.inference_mode():\n",
    "      # 1. Forward pass on test data\n",
    "      test_pred = regression_1(X_test)\n",
    "      test_loss = loss_function(test_pred, Y_test) \n",
    "\n",
    "      # Print every 10 steps\n",
    "      if epoch % 50 == 0:\n",
    "            epoch_count.append(epoch)\n",
    "            train_loss_values.append(loss.detach().numpy())\n",
    "            test_loss_values.append(test_loss.detach().numpy())\n",
    "            print(f\"Epoch: {epoch} | MSE Train Loss: {loss} | MSE Test Loss: {test_loss} \")\n"
   ]
  },
  {
   "cell_type": "code",
   "execution_count": 19,
   "metadata": {},
   "outputs": [
    {
     "name": "stdout",
     "output_type": "stream",
     "text": [
      "test_data, predictions [8.0, 8.5, 9.0, 9.5] tensor([[2.6987],\n",
      "        [2.8485],\n",
      "        [2.9983],\n",
      "        [3.1480]])\n"
     ]
    },
    {
     "data": {
      "image/png": "[encoded data removed]",
      "text/plain": [
       "<Figure size 1000x700 with 1 Axes>"
      ]
     },
     "metadata": {},
     "output_type": "display_data"
    }
   ],
   "source": [
    "plot_predictions(predictions=test_pred)"
   ]
  },
  {
   "cell_type": "code",
   "execution_count": 20,
   "metadata": {},
   "outputs": [
    {
     "data": {
      "image/png": "[encoded data removed]",
      "text/plain": [
       "<Figure size 640x480 with 1 Axes>"
      ]
     },
     "metadata": {},
     "output_type": "display_data"
    }
   ],
   "source": [
    "plt.plot(epoch_count, train_loss_values, label=\"Train loss\")\n",
    "plt.plot(epoch_count, test_loss_values, label=\"Test loss\")\n",
    "plt.title(\"Training and test loss curves\")\n",
    "plt.ylabel(\"MSE Loss\")\n",
    "plt.xlabel(\"Epochs\")\n",
    "plt.legend();"
   ]
  },
  {
   "cell_type": "code",
   "execution_count": 21,
   "metadata": {},
   "outputs": [
    {
     "name": "stdout",
     "output_type": "stream",
     "text": [
      "MODEL_SAVE_PATH: models\\regression_model_1.pt\n"
     ]
    }
   ],
   "source": [
    "from pathlib import Path\n",
    "\n",
    "# 1. Create models directory \n",
    "MODEL_PATH = Path(\"models\")\n",
    "MODEL_PATH.mkdir(parents=True, exist_ok=True)\n",
    "\n",
    "# 2. Create model save path \n",
    "MODEL_NAME = \"regression_model_1.pt\"\n",
    "MODEL_SAVE_PATH = MODEL_PATH / MODEL_NAME\n",
    "\n",
    "# 3. Save the model state dict \n",
    "print(f\"MODEL_SAVE_PATH: {MODEL_SAVE_PATH}\")\n",
    "torch.save(obj=regression_1.state_dict(), # only saving the parameters\n",
    "           f=MODEL_SAVE_PATH)"
   ]
  }
 ],
 "metadata": {
  "kernelspec": {
   "display_name": "Python 3",
   "language": "python",
   "name": "python3"
  },
  "language_info": {
   "codemirror_mode": {
    "name": "ipython",
    "version": 3
   },
   "file_extension": ".py",
   "mimetype": "text/x-python",
   "name": "python",
   "nbconvert_exporter": "python",
   "pygments_lexer": "ipython3",
   "version": "3.10.0"
  },
  "orig_nbformat": 4
 },
 "nbformat": 4,
 "nbformat_minor": 2
}
