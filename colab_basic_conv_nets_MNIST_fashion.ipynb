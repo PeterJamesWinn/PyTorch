{
  "nbformat": 4,
  "nbformat_minor": 0,
  "metadata": {
    "colab": {
      "provenance": []
    },
    "kernelspec": {
      "name": "python3",
      "display_name": "Python 3"
    },
    "language_info": {
      "name": "python"
    },
    "widgets": {
      "application/vnd.jupyter.widget-state+json": {
        "97e4fad82c574401a7aa4b35a89ac4c0": {
          "model_module": "@jupyter-widgets/controls",
          "model_name": "HBoxModel",
          "model_module_version": "1.5.0",
          "state": {
            "_dom_classes": [],
            "_model_module": "@jupyter-widgets/controls",
            "_model_module_version": "1.5.0",
            "_model_name": "HBoxModel",
            "_view_count": null,
            "_view_module": "@jupyter-widgets/controls",
            "_view_module_version": "1.5.0",
            "_view_name": "HBoxView",
            "box_style": "",
            "children": [
              "IPY_MODEL_9dd3b3f8a2754ade81ff21c360e9a06a",
              "IPY_MODEL_965224fdd4514027a560cb6762533c8f",
              "IPY_MODEL_3f5fd0e1e83f45e588d523d315450098"
            ],
            "layout": "IPY_MODEL_9eb707693d584194904e80dcc80260c5"
          }
        },
        "9dd3b3f8a2754ade81ff21c360e9a06a": {
          "model_module": "@jupyter-widgets/controls",
          "model_name": "HTMLModel",
          "model_module_version": "1.5.0",
          "state": {
            "_dom_classes": [],
            "_model_module": "@jupyter-widgets/controls",
            "_model_module_version": "1.5.0",
            "_model_name": "HTMLModel",
            "_view_count": null,
            "_view_module": "@jupyter-widgets/controls",
            "_view_module_version": "1.5.0",
            "_view_name": "HTMLView",
            "description": "",
            "description_tooltip": null,
            "layout": "IPY_MODEL_bf9ebc1cdc484d09a95affcca6bebfa4",
            "placeholder": "​",
            "style": "IPY_MODEL_18641994c50d4d7b98acb3bdccb15ab1",
            "value": "100%"
          }
        },
        "965224fdd4514027a560cb6762533c8f": {
          "model_module": "@jupyter-widgets/controls",
          "model_name": "FloatProgressModel",
          "model_module_version": "1.5.0",
          "state": {
            "_dom_classes": [],
            "_model_module": "@jupyter-widgets/controls",
            "_model_module_version": "1.5.0",
            "_model_name": "FloatProgressModel",
            "_view_count": null,
            "_view_module": "@jupyter-widgets/controls",
            "_view_module_version": "1.5.0",
            "_view_name": "ProgressView",
            "bar_style": "success",
            "description": "",
            "description_tooltip": null,
            "layout": "IPY_MODEL_c550d470191949898bd54edc9d25c6f9",
            "max": 4,
            "min": 0,
            "orientation": "horizontal",
            "style": "IPY_MODEL_6b2110488b124174baef6a02283f7b17",
            "value": 4
          }
        },
        "3f5fd0e1e83f45e588d523d315450098": {
          "model_module": "@jupyter-widgets/controls",
          "model_name": "HTMLModel",
          "model_module_version": "1.5.0",
          "state": {
            "_dom_classes": [],
            "_model_module": "@jupyter-widgets/controls",
            "_model_module_version": "1.5.0",
            "_model_name": "HTMLModel",
            "_view_count": null,
            "_view_module": "@jupyter-widgets/controls",
            "_view_module_version": "1.5.0",
            "_view_name": "HTMLView",
            "description": "",
            "description_tooltip": null,
            "layout": "IPY_MODEL_10097e5dc1104189ae35245f9bbaec99",
            "placeholder": "​",
            "style": "IPY_MODEL_6771f8816f474d01b2170868ba0fd711",
            "value": " 4/4 [01:26&lt;00:00, 20.42s/it]"
          }
        },
        "9eb707693d584194904e80dcc80260c5": {
          "model_module": "@jupyter-widgets/base",
          "model_name": "LayoutModel",
          "model_module_version": "1.2.0",
          "state": {
            "_model_module": "@jupyter-widgets/base",
            "_model_module_version": "1.2.0",
            "_model_name": "LayoutModel",
            "_view_count": null,
            "_view_module": "@jupyter-widgets/base",
            "_view_module_version": "1.2.0",
            "_view_name": "LayoutView",
            "align_content": null,
            "align_items": null,
            "align_self": null,
            "border": null,
            "bottom": null,
            "display": null,
            "flex": null,
            "flex_flow": null,
            "grid_area": null,
            "grid_auto_columns": null,
            "grid_auto_flow": null,
            "grid_auto_rows": null,
            "grid_column": null,
            "grid_gap": null,
            "grid_row": null,
            "grid_template_areas": null,
            "grid_template_columns": null,
            "grid_template_rows": null,
            "height": null,
            "justify_content": null,
            "justify_items": null,
            "left": null,
            "margin": null,
            "max_height": null,
            "max_width": null,
            "min_height": null,
            "min_width": null,
            "object_fit": null,
            "object_position": null,
            "order": null,
            "overflow": null,
            "overflow_x": null,
            "overflow_y": null,
            "padding": null,
            "right": null,
            "top": null,
            "visibility": null,
            "width": null
          }
        },
        "bf9ebc1cdc484d09a95affcca6bebfa4": {
          "model_module": "@jupyter-widgets/base",
          "model_name": "LayoutModel",
          "model_module_version": "1.2.0",
          "state": {
            "_model_module": "@jupyter-widgets/base",
            "_model_module_version": "1.2.0",
            "_model_name": "LayoutModel",
            "_view_count": null,
            "_view_module": "@jupyter-widgets/base",
            "_view_module_version": "1.2.0",
            "_view_name": "LayoutView",
            "align_content": null,
            "align_items": null,
            "align_self": null,
            "border": null,
            "bottom": null,
            "display": null,
            "flex": null,
            "flex_flow": null,
            "grid_area": null,
            "grid_auto_columns": null,
            "grid_auto_flow": null,
            "grid_auto_rows": null,
            "grid_column": null,
            "grid_gap": null,
            "grid_row": null,
            "grid_template_areas": null,
            "grid_template_columns": null,
            "grid_template_rows": null,
            "height": null,
            "justify_content": null,
            "justify_items": null,
            "left": null,
            "margin": null,
            "max_height": null,
            "max_width": null,
            "min_height": null,
            "min_width": null,
            "object_fit": null,
            "object_position": null,
            "order": null,
            "overflow": null,
            "overflow_x": null,
            "overflow_y": null,
            "padding": null,
            "right": null,
            "top": null,
            "visibility": null,
            "width": null
          }
        },
        "18641994c50d4d7b98acb3bdccb15ab1": {
          "model_module": "@jupyter-widgets/controls",
          "model_name": "DescriptionStyleModel",
          "model_module_version": "1.5.0",
          "state": {
            "_model_module": "@jupyter-widgets/controls",
            "_model_module_version": "1.5.0",
            "_model_name": "DescriptionStyleModel",
            "_view_count": null,
            "_view_module": "@jupyter-widgets/base",
            "_view_module_version": "1.2.0",
            "_view_name": "StyleView",
            "description_width": ""
          }
        },
        "c550d470191949898bd54edc9d25c6f9": {
          "model_module": "@jupyter-widgets/base",
          "model_name": "LayoutModel",
          "model_module_version": "1.2.0",
          "state": {
            "_model_module": "@jupyter-widgets/base",
            "_model_module_version": "1.2.0",
            "_model_name": "LayoutModel",
            "_view_count": null,
            "_view_module": "@jupyter-widgets/base",
            "_view_module_version": "1.2.0",
            "_view_name": "LayoutView",
            "align_content": null,
            "align_items": null,
            "align_self": null,
            "border": null,
            "bottom": null,
            "display": null,
            "flex": null,
            "flex_flow": null,
            "grid_area": null,
            "grid_auto_columns": null,
            "grid_auto_flow": null,
            "grid_auto_rows": null,
            "grid_column": null,
            "grid_gap": null,
            "grid_row": null,
            "grid_template_areas": null,
            "grid_template_columns": null,
            "grid_template_rows": null,
            "height": null,
            "justify_content": null,
            "justify_items": null,
            "left": null,
            "margin": null,
            "max_height": null,
            "max_width": null,
            "min_height": null,
            "min_width": null,
            "object_fit": null,
            "object_position": null,
            "order": null,
            "overflow": null,
            "overflow_x": null,
            "overflow_y": null,
            "padding": null,
            "right": null,
            "top": null,
            "visibility": null,
            "width": null
          }
        },
        "6b2110488b124174baef6a02283f7b17": {
          "model_module": "@jupyter-widgets/controls",
          "model_name": "ProgressStyleModel",
          "model_module_version": "1.5.0",
          "state": {
            "_model_module": "@jupyter-widgets/controls",
            "_model_module_version": "1.5.0",
            "_model_name": "ProgressStyleModel",
            "_view_count": null,
            "_view_module": "@jupyter-widgets/base",
            "_view_module_version": "1.2.0",
            "_view_name": "StyleView",
            "bar_color": null,
            "description_width": ""
          }
        },
        "10097e5dc1104189ae35245f9bbaec99": {
          "model_module": "@jupyter-widgets/base",
          "model_name": "LayoutModel",
          "model_module_version": "1.2.0",
          "state": {
            "_model_module": "@jupyter-widgets/base",
            "_model_module_version": "1.2.0",
            "_model_name": "LayoutModel",
            "_view_count": null,
            "_view_module": "@jupyter-widgets/base",
            "_view_module_version": "1.2.0",
            "_view_name": "LayoutView",
            "align_content": null,
            "align_items": null,
            "align_self": null,
            "border": null,
            "bottom": null,
            "display": null,
            "flex": null,
            "flex_flow": null,
            "grid_area": null,
            "grid_auto_columns": null,
            "grid_auto_flow": null,
            "grid_auto_rows": null,
            "grid_column": null,
            "grid_gap": null,
            "grid_row": null,
            "grid_template_areas": null,
            "grid_template_columns": null,
            "grid_template_rows": null,
            "height": null,
            "justify_content": null,
            "justify_items": null,
            "left": null,
            "margin": null,
            "max_height": null,
            "max_width": null,
            "min_height": null,
            "min_width": null,
            "object_fit": null,
            "object_position": null,
            "order": null,
            "overflow": null,
            "overflow_x": null,
            "overflow_y": null,
            "padding": null,
            "right": null,
            "top": null,
            "visibility": null,
            "width": null
          }
        },
        "6771f8816f474d01b2170868ba0fd711": {
          "model_module": "@jupyter-widgets/controls",
          "model_name": "DescriptionStyleModel",
          "model_module_version": "1.5.0",
          "state": {
            "_model_module": "@jupyter-widgets/controls",
            "_model_module_version": "1.5.0",
            "_model_name": "DescriptionStyleModel",
            "_view_count": null,
            "_view_module": "@jupyter-widgets/base",
            "_view_module_version": "1.2.0",
            "_view_name": "StyleView",
            "description_width": ""
          }
        },
        "a976bf0f282c4199a21a975ba260e76b": {
          "model_module": "@jupyter-widgets/controls",
          "model_name": "HBoxModel",
          "model_module_version": "1.5.0",
          "state": {
            "_dom_classes": [],
            "_model_module": "@jupyter-widgets/controls",
            "_model_module_version": "1.5.0",
            "_model_name": "HBoxModel",
            "_view_count": null,
            "_view_module": "@jupyter-widgets/controls",
            "_view_module_version": "1.5.0",
            "_view_name": "HBoxView",
            "box_style": "",
            "children": [
              "IPY_MODEL_28bd62769db44ddcbb4015b3e3eb7023",
              "IPY_MODEL_afb1fe4a057747efaa089bc5d2549349",
              "IPY_MODEL_c061b148fbb741efadde8941c1aeee02"
            ],
            "layout": "IPY_MODEL_3e654627b7004b599bdc4792d926ae3e"
          }
        },
        "28bd62769db44ddcbb4015b3e3eb7023": {
          "model_module": "@jupyter-widgets/controls",
          "model_name": "HTMLModel",
          "model_module_version": "1.5.0",
          "state": {
            "_dom_classes": [],
            "_model_module": "@jupyter-widgets/controls",
            "_model_module_version": "1.5.0",
            "_model_name": "HTMLModel",
            "_view_count": null,
            "_view_module": "@jupyter-widgets/controls",
            "_view_module_version": "1.5.0",
            "_view_name": "HTMLView",
            "description": "",
            "description_tooltip": null,
            "layout": "IPY_MODEL_9b18ae9f38e54ee8a097424bf0f1a84d",
            "placeholder": "​",
            "style": "IPY_MODEL_d7d8345bc42c430b9541a86183b65c09",
            "value": "100%"
          }
        },
        "afb1fe4a057747efaa089bc5d2549349": {
          "model_module": "@jupyter-widgets/controls",
          "model_name": "FloatProgressModel",
          "model_module_version": "1.5.0",
          "state": {
            "_dom_classes": [],
            "_model_module": "@jupyter-widgets/controls",
            "_model_module_version": "1.5.0",
            "_model_name": "FloatProgressModel",
            "_view_count": null,
            "_view_module": "@jupyter-widgets/controls",
            "_view_module_version": "1.5.0",
            "_view_name": "ProgressView",
            "bar_style": "success",
            "description": "",
            "description_tooltip": null,
            "layout": "IPY_MODEL_2a561e98240a43a194852870f00ad99c",
            "max": 4,
            "min": 0,
            "orientation": "horizontal",
            "style": "IPY_MODEL_ca6a6ea2dc344523b97c2ad4f9790389",
            "value": 4
          }
        },
        "c061b148fbb741efadde8941c1aeee02": {
          "model_module": "@jupyter-widgets/controls",
          "model_name": "HTMLModel",
          "model_module_version": "1.5.0",
          "state": {
            "_dom_classes": [],
            "_model_module": "@jupyter-widgets/controls",
            "_model_module_version": "1.5.0",
            "_model_name": "HTMLModel",
            "_view_count": null,
            "_view_module": "@jupyter-widgets/controls",
            "_view_module_version": "1.5.0",
            "_view_name": "HTMLView",
            "description": "",
            "description_tooltip": null,
            "layout": "IPY_MODEL_b61952a945004b689ed03088c53fb709",
            "placeholder": "​",
            "style": "IPY_MODEL_79a732759970422bb19942aa67128c23",
            "value": " 4/4 [04:09&lt;00:00, 62.44s/it]"
          }
        },
        "3e654627b7004b599bdc4792d926ae3e": {
          "model_module": "@jupyter-widgets/base",
          "model_name": "LayoutModel",
          "model_module_version": "1.2.0",
          "state": {
            "_model_module": "@jupyter-widgets/base",
            "_model_module_version": "1.2.0",
            "_model_name": "LayoutModel",
            "_view_count": null,
            "_view_module": "@jupyter-widgets/base",
            "_view_module_version": "1.2.0",
            "_view_name": "LayoutView",
            "align_content": null,
            "align_items": null,
            "align_self": null,
            "border": null,
            "bottom": null,
            "display": null,
            "flex": null,
            "flex_flow": null,
            "grid_area": null,
            "grid_auto_columns": null,
            "grid_auto_flow": null,
            "grid_auto_rows": null,
            "grid_column": null,
            "grid_gap": null,
            "grid_row": null,
            "grid_template_areas": null,
            "grid_template_columns": null,
            "grid_template_rows": null,
            "height": null,
            "justify_content": null,
            "justify_items": null,
            "left": null,
            "margin": null,
            "max_height": null,
            "max_width": null,
            "min_height": null,
            "min_width": null,
            "object_fit": null,
            "object_position": null,
            "order": null,
            "overflow": null,
            "overflow_x": null,
            "overflow_y": null,
            "padding": null,
            "right": null,
            "top": null,
            "visibility": null,
            "width": null
          }
        },
        "9b18ae9f38e54ee8a097424bf0f1a84d": {
          "model_module": "@jupyter-widgets/base",
          "model_name": "LayoutModel",
          "model_module_version": "1.2.0",
          "state": {
            "_model_module": "@jupyter-widgets/base",
            "_model_module_version": "1.2.0",
            "_model_name": "LayoutModel",
            "_view_count": null,
            "_view_module": "@jupyter-widgets/base",
            "_view_module_version": "1.2.0",
            "_view_name": "LayoutView",
            "align_content": null,
            "align_items": null,
            "align_self": null,
            "border": null,
            "bottom": null,
            "display": null,
            "flex": null,
            "flex_flow": null,
            "grid_area": null,
            "grid_auto_columns": null,
            "grid_auto_flow": null,
            "grid_auto_rows": null,
            "grid_column": null,
            "grid_gap": null,
            "grid_row": null,
            "grid_template_areas": null,
            "grid_template_columns": null,
            "grid_template_rows": null,
            "height": null,
            "justify_content": null,
            "justify_items": null,
            "left": null,
            "margin": null,
            "max_height": null,
            "max_width": null,
            "min_height": null,
            "min_width": null,
            "object_fit": null,
            "object_position": null,
            "order": null,
            "overflow": null,
            "overflow_x": null,
            "overflow_y": null,
            "padding": null,
            "right": null,
            "top": null,
            "visibility": null,
            "width": null
          }
        },
        "d7d8345bc42c430b9541a86183b65c09": {
          "model_module": "@jupyter-widgets/controls",
          "model_name": "DescriptionStyleModel",
          "model_module_version": "1.5.0",
          "state": {
            "_model_module": "@jupyter-widgets/controls",
            "_model_module_version": "1.5.0",
            "_model_name": "DescriptionStyleModel",
            "_view_count": null,
            "_view_module": "@jupyter-widgets/base",
            "_view_module_version": "1.2.0",
            "_view_name": "StyleView",
            "description_width": ""
          }
        },
        "2a561e98240a43a194852870f00ad99c": {
          "model_module": "@jupyter-widgets/base",
          "model_name": "LayoutModel",
          "model_module_version": "1.2.0",
          "state": {
            "_model_module": "@jupyter-widgets/base",
            "_model_module_version": "1.2.0",
            "_model_name": "LayoutModel",
            "_view_count": null,
            "_view_module": "@jupyter-widgets/base",
            "_view_module_version": "1.2.0",
            "_view_name": "LayoutView",
            "align_content": null,
            "align_items": null,
            "align_self": null,
            "border": null,
            "bottom": null,
            "display": null,
            "flex": null,
            "flex_flow": null,
            "grid_area": null,
            "grid_auto_columns": null,
            "grid_auto_flow": null,
            "grid_auto_rows": null,
            "grid_column": null,
            "grid_gap": null,
            "grid_row": null,
            "grid_template_areas": null,
            "grid_template_columns": null,
            "grid_template_rows": null,
            "height": null,
            "justify_content": null,
            "justify_items": null,
            "left": null,
            "margin": null,
            "max_height": null,
            "max_width": null,
            "min_height": null,
            "min_width": null,
            "object_fit": null,
            "object_position": null,
            "order": null,
            "overflow": null,
            "overflow_x": null,
            "overflow_y": null,
            "padding": null,
            "right": null,
            "top": null,
            "visibility": null,
            "width": null
          }
        },
        "ca6a6ea2dc344523b97c2ad4f9790389": {
          "model_module": "@jupyter-widgets/controls",
          "model_name": "ProgressStyleModel",
          "model_module_version": "1.5.0",
          "state": {
            "_model_module": "@jupyter-widgets/controls",
            "_model_module_version": "1.5.0",
            "_model_name": "ProgressStyleModel",
            "_view_count": null,
            "_view_module": "@jupyter-widgets/base",
            "_view_module_version": "1.2.0",
            "_view_name": "StyleView",
            "bar_color": null,
            "description_width": ""
          }
        },
        "b61952a945004b689ed03088c53fb709": {
          "model_module": "@jupyter-widgets/base",
          "model_name": "LayoutModel",
          "model_module_version": "1.2.0",
          "state": {
            "_model_module": "@jupyter-widgets/base",
            "_model_module_version": "1.2.0",
            "_model_name": "LayoutModel",
            "_view_count": null,
            "_view_module": "@jupyter-widgets/base",
            "_view_module_version": "1.2.0",
            "_view_name": "LayoutView",
            "align_content": null,
            "align_items": null,
            "align_self": null,
            "border": null,
            "bottom": null,
            "display": null,
            "flex": null,
            "flex_flow": null,
            "grid_area": null,
            "grid_auto_columns": null,
            "grid_auto_flow": null,
            "grid_auto_rows": null,
            "grid_column": null,
            "grid_gap": null,
            "grid_row": null,
            "grid_template_areas": null,
            "grid_template_columns": null,
            "grid_template_rows": null,
            "height": null,
            "justify_content": null,
            "justify_items": null,
            "left": null,
            "margin": null,
            "max_height": null,
            "max_width": null,
            "min_height": null,
            "min_width": null,
            "object_fit": null,
            "object_position": null,
            "order": null,
            "overflow": null,
            "overflow_x": null,
            "overflow_y": null,
            "padding": null,
            "right": null,
            "top": null,
            "visibility": null,
            "width": null
          }
        },
        "79a732759970422bb19942aa67128c23": {
          "model_module": "@jupyter-widgets/controls",
          "model_name": "DescriptionStyleModel",
          "model_module_version": "1.5.0",
          "state": {
            "_model_module": "@jupyter-widgets/controls",
            "_model_module_version": "1.5.0",
            "_model_name": "DescriptionStyleModel",
            "_view_count": null,
            "_view_module": "@jupyter-widgets/base",
            "_view_module_version": "1.2.0",
            "_view_name": "StyleView",
            "description_width": ""
          }
        },
        "b4ef098c98004b93a89421f649b7cc8e": {
          "model_module": "@jupyter-widgets/controls",
          "model_name": "HBoxModel",
          "model_module_version": "1.5.0",
          "state": {
            "_dom_classes": [],
            "_model_module": "@jupyter-widgets/controls",
            "_model_module_version": "1.5.0",
            "_model_name": "HBoxModel",
            "_view_count": null,
            "_view_module": "@jupyter-widgets/controls",
            "_view_module_version": "1.5.0",
            "_view_name": "HBoxView",
            "box_style": "",
            "children": [
              "IPY_MODEL_5efc53327c864e55981d6c8c1bade031",
              "IPY_MODEL_88b2204367fd43738f22787f02759d7e",
              "IPY_MODEL_d7bc51b7ae2b4609b76e0572bbdc0bc1"
            ],
            "layout": "IPY_MODEL_940aa0913029425eb340b6a5f221713a"
          }
        },
        "5efc53327c864e55981d6c8c1bade031": {
          "model_module": "@jupyter-widgets/controls",
          "model_name": "HTMLModel",
          "model_module_version": "1.5.0",
          "state": {
            "_dom_classes": [],
            "_model_module": "@jupyter-widgets/controls",
            "_model_module_version": "1.5.0",
            "_model_name": "HTMLModel",
            "_view_count": null,
            "_view_module": "@jupyter-widgets/controls",
            "_view_module_version": "1.5.0",
            "_view_name": "HTMLView",
            "description": "",
            "description_tooltip": null,
            "layout": "IPY_MODEL_ecb2b5370a1f4c8994d0ad7d60ed2b19",
            "placeholder": "​",
            "style": "IPY_MODEL_1a0d55a7c4024b06a4a9d09f9284c36e",
            "value": "100%"
          }
        },
        "88b2204367fd43738f22787f02759d7e": {
          "model_module": "@jupyter-widgets/controls",
          "model_name": "FloatProgressModel",
          "model_module_version": "1.5.0",
          "state": {
            "_dom_classes": [],
            "_model_module": "@jupyter-widgets/controls",
            "_model_module_version": "1.5.0",
            "_model_name": "FloatProgressModel",
            "_view_count": null,
            "_view_module": "@jupyter-widgets/controls",
            "_view_module_version": "1.5.0",
            "_view_name": "ProgressView",
            "bar_style": "success",
            "description": "",
            "description_tooltip": null,
            "layout": "IPY_MODEL_fa5cc6f739e9449eb315a271451ee589",
            "max": 4,
            "min": 0,
            "orientation": "horizontal",
            "style": "IPY_MODEL_722279679af548d2907f2b8af7e82ae0",
            "value": 4
          }
        },
        "d7bc51b7ae2b4609b76e0572bbdc0bc1": {
          "model_module": "@jupyter-widgets/controls",
          "model_name": "HTMLModel",
          "model_module_version": "1.5.0",
          "state": {
            "_dom_classes": [],
            "_model_module": "@jupyter-widgets/controls",
            "_model_module_version": "1.5.0",
            "_model_name": "HTMLModel",
            "_view_count": null,
            "_view_module": "@jupyter-widgets/controls",
            "_view_module_version": "1.5.0",
            "_view_name": "HTMLView",
            "description": "",
            "description_tooltip": null,
            "layout": "IPY_MODEL_ad4de71644f6418abffd6ecfacce33dc",
            "placeholder": "​",
            "style": "IPY_MODEL_ad09dce7b3a34da6b00ce011e2ef8f0d",
            "value": " 4/4 [02:41&lt;00:00, 40.53s/it]"
          }
        },
        "940aa0913029425eb340b6a5f221713a": {
          "model_module": "@jupyter-widgets/base",
          "model_name": "LayoutModel",
          "model_module_version": "1.2.0",
          "state": {
            "_model_module": "@jupyter-widgets/base",
            "_model_module_version": "1.2.0",
            "_model_name": "LayoutModel",
            "_view_count": null,
            "_view_module": "@jupyter-widgets/base",
            "_view_module_version": "1.2.0",
            "_view_name": "LayoutView",
            "align_content": null,
            "align_items": null,
            "align_self": null,
            "border": null,
            "bottom": null,
            "display": null,
            "flex": null,
            "flex_flow": null,
            "grid_area": null,
            "grid_auto_columns": null,
            "grid_auto_flow": null,
            "grid_auto_rows": null,
            "grid_column": null,
            "grid_gap": null,
            "grid_row": null,
            "grid_template_areas": null,
            "grid_template_columns": null,
            "grid_template_rows": null,
            "height": null,
            "justify_content": null,
            "justify_items": null,
            "left": null,
            "margin": null,
            "max_height": null,
            "max_width": null,
            "min_height": null,
            "min_width": null,
            "object_fit": null,
            "object_position": null,
            "order": null,
            "overflow": null,
            "overflow_x": null,
            "overflow_y": null,
            "padding": null,
            "right": null,
            "top": null,
            "visibility": null,
            "width": null
          }
        },
        "ecb2b5370a1f4c8994d0ad7d60ed2b19": {
          "model_module": "@jupyter-widgets/base",
          "model_name": "LayoutModel",
          "model_module_version": "1.2.0",
          "state": {
            "_model_module": "@jupyter-widgets/base",
            "_model_module_version": "1.2.0",
            "_model_name": "LayoutModel",
            "_view_count": null,
            "_view_module": "@jupyter-widgets/base",
            "_view_module_version": "1.2.0",
            "_view_name": "LayoutView",
            "align_content": null,
            "align_items": null,
            "align_self": null,
            "border": null,
            "bottom": null,
            "display": null,
            "flex": null,
            "flex_flow": null,
            "grid_area": null,
            "grid_auto_columns": null,
            "grid_auto_flow": null,
            "grid_auto_rows": null,
            "grid_column": null,
            "grid_gap": null,
            "grid_row": null,
            "grid_template_areas": null,
            "grid_template_columns": null,
            "grid_template_rows": null,
            "height": null,
            "justify_content": null,
            "justify_items": null,
            "left": null,
            "margin": null,
            "max_height": null,
            "max_width": null,
            "min_height": null,
            "min_width": null,
            "object_fit": null,
            "object_position": null,
            "order": null,
            "overflow": null,
            "overflow_x": null,
            "overflow_y": null,
            "padding": null,
            "right": null,
            "top": null,
            "visibility": null,
            "width": null
          }
        },
        "1a0d55a7c4024b06a4a9d09f9284c36e": {
          "model_module": "@jupyter-widgets/controls",
          "model_name": "DescriptionStyleModel",
          "model_module_version": "1.5.0",
          "state": {
            "_model_module": "@jupyter-widgets/controls",
            "_model_module_version": "1.5.0",
            "_model_name": "DescriptionStyleModel",
            "_view_count": null,
            "_view_module": "@jupyter-widgets/base",
            "_view_module_version": "1.2.0",
            "_view_name": "StyleView",
            "description_width": ""
          }
        },
        "fa5cc6f739e9449eb315a271451ee589": {
          "model_module": "@jupyter-widgets/base",
          "model_name": "LayoutModel",
          "model_module_version": "1.2.0",
          "state": {
            "_model_module": "@jupyter-widgets/base",
            "_model_module_version": "1.2.0",
            "_model_name": "LayoutModel",
            "_view_count": null,
            "_view_module": "@jupyter-widgets/base",
            "_view_module_version": "1.2.0",
            "_view_name": "LayoutView",
            "align_content": null,
            "align_items": null,
            "align_self": null,
            "border": null,
            "bottom": null,
            "display": null,
            "flex": null,
            "flex_flow": null,
            "grid_area": null,
            "grid_auto_columns": null,
            "grid_auto_flow": null,
            "grid_auto_rows": null,
            "grid_column": null,
            "grid_gap": null,
            "grid_row": null,
            "grid_template_areas": null,
            "grid_template_columns": null,
            "grid_template_rows": null,
            "height": null,
            "justify_content": null,
            "justify_items": null,
            "left": null,
            "margin": null,
            "max_height": null,
            "max_width": null,
            "min_height": null,
            "min_width": null,
            "object_fit": null,
            "object_position": null,
            "order": null,
            "overflow": null,
            "overflow_x": null,
            "overflow_y": null,
            "padding": null,
            "right": null,
            "top": null,
            "visibility": null,
            "width": null
          }
        },
        "722279679af548d2907f2b8af7e82ae0": {
          "model_module": "@jupyter-widgets/controls",
          "model_name": "ProgressStyleModel",
          "model_module_version": "1.5.0",
          "state": {
            "_model_module": "@jupyter-widgets/controls",
            "_model_module_version": "1.5.0",
            "_model_name": "ProgressStyleModel",
            "_view_count": null,
            "_view_module": "@jupyter-widgets/base",
            "_view_module_version": "1.2.0",
            "_view_name": "StyleView",
            "bar_color": null,
            "description_width": ""
          }
        },
        "ad4de71644f6418abffd6ecfacce33dc": {
          "model_module": "@jupyter-widgets/base",
          "model_name": "LayoutModel",
          "model_module_version": "1.2.0",
          "state": {
            "_model_module": "@jupyter-widgets/base",
            "_model_module_version": "1.2.0",
            "_model_name": "LayoutModel",
            "_view_count": null,
            "_view_module": "@jupyter-widgets/base",
            "_view_module_version": "1.2.0",
            "_view_name": "LayoutView",
            "align_content": null,
            "align_items": null,
            "align_self": null,
            "border": null,
            "bottom": null,
            "display": null,
            "flex": null,
            "flex_flow": null,
            "grid_area": null,
            "grid_auto_columns": null,
            "grid_auto_flow": null,
            "grid_auto_rows": null,
            "grid_column": null,
            "grid_gap": null,
            "grid_row": null,
            "grid_template_areas": null,
            "grid_template_columns": null,
            "grid_template_rows": null,
            "height": null,
            "justify_content": null,
            "justify_items": null,
            "left": null,
            "margin": null,
            "max_height": null,
            "max_width": null,
            "min_height": null,
            "min_width": null,
            "object_fit": null,
            "object_position": null,
            "order": null,
            "overflow": null,
            "overflow_x": null,
            "overflow_y": null,
            "padding": null,
            "right": null,
            "top": null,
            "visibility": null,
            "width": null
          }
        },
        "ad09dce7b3a34da6b00ce011e2ef8f0d": {
          "model_module": "@jupyter-widgets/controls",
          "model_name": "DescriptionStyleModel",
          "model_module_version": "1.5.0",
          "state": {
            "_model_module": "@jupyter-widgets/controls",
            "_model_module_version": "1.5.0",
            "_model_name": "DescriptionStyleModel",
            "_view_count": null,
            "_view_module": "@jupyter-widgets/base",
            "_view_module_version": "1.2.0",
            "_view_name": "StyleView",
            "description_width": ""
          }
        },
        "1fc9ff5746684d4b82de630522f9258b": {
          "model_module": "@jupyter-widgets/controls",
          "model_name": "HBoxModel",
          "model_module_version": "1.5.0",
          "state": {
            "_dom_classes": [],
            "_model_module": "@jupyter-widgets/controls",
            "_model_module_version": "1.5.0",
            "_model_name": "HBoxModel",
            "_view_count": null,
            "_view_module": "@jupyter-widgets/controls",
            "_view_module_version": "1.5.0",
            "_view_name": "HBoxView",
            "box_style": "",
            "children": [
              "IPY_MODEL_912ed01a66cc4a4c923cdd37b7882169",
              "IPY_MODEL_1aabb49884b940b997c92d68ed019a83",
              "IPY_MODEL_00ba94a9b4e8496ca206a8f0b720c2ed"
            ],
            "layout": "IPY_MODEL_172f981e8a124a28bd492e8f0d5542e2"
          }
        },
        "912ed01a66cc4a4c923cdd37b7882169": {
          "model_module": "@jupyter-widgets/controls",
          "model_name": "HTMLModel",
          "model_module_version": "1.5.0",
          "state": {
            "_dom_classes": [],
            "_model_module": "@jupyter-widgets/controls",
            "_model_module_version": "1.5.0",
            "_model_name": "HTMLModel",
            "_view_count": null,
            "_view_module": "@jupyter-widgets/controls",
            "_view_module_version": "1.5.0",
            "_view_name": "HTMLView",
            "description": "",
            "description_tooltip": null,
            "layout": "IPY_MODEL_5a0c9a450a6346229979513dd810ac96",
            "placeholder": "​",
            "style": "IPY_MODEL_5f8bec213fa043d49516599633c25bf6",
            "value": "Making predictions: 100%"
          }
        },
        "1aabb49884b940b997c92d68ed019a83": {
          "model_module": "@jupyter-widgets/controls",
          "model_name": "FloatProgressModel",
          "model_module_version": "1.5.0",
          "state": {
            "_dom_classes": [],
            "_model_module": "@jupyter-widgets/controls",
            "_model_module_version": "1.5.0",
            "_model_name": "FloatProgressModel",
            "_view_count": null,
            "_view_module": "@jupyter-widgets/controls",
            "_view_module_version": "1.5.0",
            "_view_name": "ProgressView",
            "bar_style": "success",
            "description": "",
            "description_tooltip": null,
            "layout": "IPY_MODEL_57362871fc6f4217b22d882d7953cca9",
            "max": 157,
            "min": 0,
            "orientation": "horizontal",
            "style": "IPY_MODEL_2cfdf267fdcb42f09870151b0d659dfe",
            "value": 157
          }
        },
        "00ba94a9b4e8496ca206a8f0b720c2ed": {
          "model_module": "@jupyter-widgets/controls",
          "model_name": "HTMLModel",
          "model_module_version": "1.5.0",
          "state": {
            "_dom_classes": [],
            "_model_module": "@jupyter-widgets/controls",
            "_model_module_version": "1.5.0",
            "_model_name": "HTMLModel",
            "_view_count": null,
            "_view_module": "@jupyter-widgets/controls",
            "_view_module_version": "1.5.0",
            "_view_name": "HTMLView",
            "description": "",
            "description_tooltip": null,
            "layout": "IPY_MODEL_9a530272c97144bdaad0dabdec1997fc",
            "placeholder": "​",
            "style": "IPY_MODEL_c1e96f733b7747beac2694c3a80ce9c6",
            "value": " 157/157 [00:02&lt;00:00, 81.93it/s]"
          }
        },
        "172f981e8a124a28bd492e8f0d5542e2": {
          "model_module": "@jupyter-widgets/base",
          "model_name": "LayoutModel",
          "model_module_version": "1.2.0",
          "state": {
            "_model_module": "@jupyter-widgets/base",
            "_model_module_version": "1.2.0",
            "_model_name": "LayoutModel",
            "_view_count": null,
            "_view_module": "@jupyter-widgets/base",
            "_view_module_version": "1.2.0",
            "_view_name": "LayoutView",
            "align_content": null,
            "align_items": null,
            "align_self": null,
            "border": null,
            "bottom": null,
            "display": null,
            "flex": null,
            "flex_flow": null,
            "grid_area": null,
            "grid_auto_columns": null,
            "grid_auto_flow": null,
            "grid_auto_rows": null,
            "grid_column": null,
            "grid_gap": null,
            "grid_row": null,
            "grid_template_areas": null,
            "grid_template_columns": null,
            "grid_template_rows": null,
            "height": null,
            "justify_content": null,
            "justify_items": null,
            "left": null,
            "margin": null,
            "max_height": null,
            "max_width": null,
            "min_height": null,
            "min_width": null,
            "object_fit": null,
            "object_position": null,
            "order": null,
            "overflow": null,
            "overflow_x": null,
            "overflow_y": null,
            "padding": null,
            "right": null,
            "top": null,
            "visibility": null,
            "width": null
          }
        },
        "5a0c9a450a6346229979513dd810ac96": {
          "model_module": "@jupyter-widgets/base",
          "model_name": "LayoutModel",
          "model_module_version": "1.2.0",
          "state": {
            "_model_module": "@jupyter-widgets/base",
            "_model_module_version": "1.2.0",
            "_model_name": "LayoutModel",
            "_view_count": null,
            "_view_module": "@jupyter-widgets/base",
            "_view_module_version": "1.2.0",
            "_view_name": "LayoutView",
            "align_content": null,
            "align_items": null,
            "align_self": null,
            "border": null,
            "bottom": null,
            "display": null,
            "flex": null,
            "flex_flow": null,
            "grid_area": null,
            "grid_auto_columns": null,
            "grid_auto_flow": null,
            "grid_auto_rows": null,
            "grid_column": null,
            "grid_gap": null,
            "grid_row": null,
            "grid_template_areas": null,
            "grid_template_columns": null,
            "grid_template_rows": null,
            "height": null,
            "justify_content": null,
            "justify_items": null,
            "left": null,
            "margin": null,
            "max_height": null,
            "max_width": null,
            "min_height": null,
            "min_width": null,
            "object_fit": null,
            "object_position": null,
            "order": null,
            "overflow": null,
            "overflow_x": null,
            "overflow_y": null,
            "padding": null,
            "right": null,
            "top": null,
            "visibility": null,
            "width": null
          }
        },
        "5f8bec213fa043d49516599633c25bf6": {
          "model_module": "@jupyter-widgets/controls",
          "model_name": "DescriptionStyleModel",
          "model_module_version": "1.5.0",
          "state": {
            "_model_module": "@jupyter-widgets/controls",
            "_model_module_version": "1.5.0",
            "_model_name": "DescriptionStyleModel",
            "_view_count": null,
            "_view_module": "@jupyter-widgets/base",
            "_view_module_version": "1.2.0",
            "_view_name": "StyleView",
            "description_width": ""
          }
        },
        "57362871fc6f4217b22d882d7953cca9": {
          "model_module": "@jupyter-widgets/base",
          "model_name": "LayoutModel",
          "model_module_version": "1.2.0",
          "state": {
            "_model_module": "@jupyter-widgets/base",
            "_model_module_version": "1.2.0",
            "_model_name": "LayoutModel",
            "_view_count": null,
            "_view_module": "@jupyter-widgets/base",
            "_view_module_version": "1.2.0",
            "_view_name": "LayoutView",
            "align_content": null,
            "align_items": null,
            "align_self": null,
            "border": null,
            "bottom": null,
            "display": null,
            "flex": null,
            "flex_flow": null,
            "grid_area": null,
            "grid_auto_columns": null,
            "grid_auto_flow": null,
            "grid_auto_rows": null,
            "grid_column": null,
            "grid_gap": null,
            "grid_row": null,
            "grid_template_areas": null,
            "grid_template_columns": null,
            "grid_template_rows": null,
            "height": null,
            "justify_content": null,
            "justify_items": null,
            "left": null,
            "margin": null,
            "max_height": null,
            "max_width": null,
            "min_height": null,
            "min_width": null,
            "object_fit": null,
            "object_position": null,
            "order": null,
            "overflow": null,
            "overflow_x": null,
            "overflow_y": null,
            "padding": null,
            "right": null,
            "top": null,
            "visibility": null,
            "width": null
          }
        },
        "2cfdf267fdcb42f09870151b0d659dfe": {
          "model_module": "@jupyter-widgets/controls",
          "model_name": "ProgressStyleModel",
          "model_module_version": "1.5.0",
          "state": {
            "_model_module": "@jupyter-widgets/controls",
            "_model_module_version": "1.5.0",
            "_model_name": "ProgressStyleModel",
            "_view_count": null,
            "_view_module": "@jupyter-widgets/base",
            "_view_module_version": "1.2.0",
            "_view_name": "StyleView",
            "bar_color": null,
            "description_width": ""
          }
        },
        "9a530272c97144bdaad0dabdec1997fc": {
          "model_module": "@jupyter-widgets/base",
          "model_name": "LayoutModel",
          "model_module_version": "1.2.0",
          "state": {
            "_model_module": "@jupyter-widgets/base",
            "_model_module_version": "1.2.0",
            "_model_name": "LayoutModel",
            "_view_count": null,
            "_view_module": "@jupyter-widgets/base",
            "_view_module_version": "1.2.0",
            "_view_name": "LayoutView",
            "align_content": null,
            "align_items": null,
            "align_self": null,
            "border": null,
            "bottom": null,
            "display": null,
            "flex": null,
            "flex_flow": null,
            "grid_area": null,
            "grid_auto_columns": null,
            "grid_auto_flow": null,
            "grid_auto_rows": null,
            "grid_column": null,
            "grid_gap": null,
            "grid_row": null,
            "grid_template_areas": null,
            "grid_template_columns": null,
            "grid_template_rows": null,
            "height": null,
            "justify_content": null,
            "justify_items": null,
            "left": null,
            "margin": null,
            "max_height": null,
            "max_width": null,
            "min_height": null,
            "min_width": null,
            "object_fit": null,
            "object_position": null,
            "order": null,
            "overflow": null,
            "overflow_x": null,
            "overflow_y": null,
            "padding": null,
            "right": null,
            "top": null,
            "visibility": null,
            "width": null
          }
        },
        "c1e96f733b7747beac2694c3a80ce9c6": {
          "model_module": "@jupyter-widgets/controls",
          "model_name": "DescriptionStyleModel",
          "model_module_version": "1.5.0",
          "state": {
            "_model_module": "@jupyter-widgets/controls",
            "_model_module_version": "1.5.0",
            "_model_name": "DescriptionStyleModel",
            "_view_count": null,
            "_view_module": "@jupyter-widgets/base",
            "_view_module_version": "1.2.0",
            "_view_name": "StyleView",
            "description_width": ""
          }
        }
      }
    }
  },
  "cells": [
    {
      "cell_type": "code",
      "execution_count": 1,
      "metadata": {
        "colab": {
          "base_uri": "https://localhost:8080/"
        },
        "id": "Kg0hTKc32fyP",
        "outputId": "fb96f9cc-b753-4340-8b4c-cda1db21bd34"
      },
      "outputs": [
        {
          "output_type": "stream",
          "name": "stdout",
          "text": [
            "PyTorch version: 2.0.0+cu118      \n",
            "torchvision version: 0.15.1+cu118\n"
          ]
        }
      ],
      "source": [
        "# example from https://www.learnpytorch.io/03_pytorch_computer_vision/\n",
        "# Import PyTorch\n",
        "import torch\n",
        "from torch import nn\n",
        "\n",
        "# Import torchvision \n",
        "import torchvision\n",
        "from torchvision import datasets\n",
        "from torchvision.transforms import ToTensor\n",
        "\n",
        "# Import matplotlib for visualization\n",
        "import matplotlib.pyplot as plt\n",
        "\n",
        "# Check versions\n",
        "# Note: your PyTorch version shouldn't be lower \n",
        "# than 1.10.0 and torchvision version shouldn't be lower than 0.11\n",
        "print(f\"PyTorch version: {torch.__version__}\\\n",
        "      \\ntorchvision version: {torchvision.__version__}\")"
      ]
    },
    {
      "cell_type": "code",
      "source": [
        "# Setup training data\n",
        "train_data = datasets.FashionMNIST(\n",
        "    root=\"data\", # where to download data to?\n",
        "    train=True, # get training data\n",
        "    download=True, # download data if it doesn't exist on disk\n",
        "    transform=ToTensor(), #images are PIL format, we want Torch tensors\n",
        "    target_transform=None # you can transform labels as well\n",
        ")\n",
        "\n",
        "# Setup validation data\n",
        "validation_data = datasets.FashionMNIST(\n",
        "    root=\"data\",\n",
        "    train=False, # get validation data\n",
        "    download=True,\n",
        "    transform=ToTensor()\n",
        ")"
      ],
      "metadata": {
        "colab": {
          "base_uri": "https://localhost:8080/"
        },
        "id": "9cbkPllh5tdp",
        "outputId": "1f37f0a7-0529-47fa-cebb-a4441a734d3b"
      },
      "execution_count": 2,
      "outputs": [
        {
          "output_type": "stream",
          "name": "stdout",
          "text": [
            "Downloading http://fashion-mnist.s3-website.eu-central-1.amazonaws.com/train-images-idx3-ubyte.gz\n",
            "Downloading http://fashion-mnist.s3-website.eu-central-1.amazonaws.com/train-images-idx3-ubyte.gz to data/FashionMNIST/raw/train-images-idx3-ubyte.gz\n"
          ]
        },
        {
          "output_type": "stream",
          "name": "stderr",
          "text": [
            "100%|██████████| 26421880/26421880 [00:01<00:00, 16490913.66it/s]\n"
          ]
        },
        {
          "output_type": "stream",
          "name": "stdout",
          "text": [
            "Extracting data/FashionMNIST/raw/train-images-idx3-ubyte.gz to data/FashionMNIST/raw\n",
            "\n",
            "Downloading http://fashion-mnist.s3-website.eu-central-1.amazonaws.com/train-labels-idx1-ubyte.gz\n",
            "Downloading http://fashion-mnist.s3-website.eu-central-1.amazonaws.com/train-labels-idx1-ubyte.gz to data/FashionMNIST/raw/train-labels-idx1-ubyte.gz\n"
          ]
        },
        {
          "output_type": "stream",
          "name": "stderr",
          "text": [
            "100%|██████████| 29515/29515 [00:00<00:00, 337651.57it/s]\n"
          ]
        },
        {
          "output_type": "stream",
          "name": "stdout",
          "text": [
            "Extracting data/FashionMNIST/raw/train-labels-idx1-ubyte.gz to data/FashionMNIST/raw\n",
            "\n",
            "Downloading http://fashion-mnist.s3-website.eu-central-1.amazonaws.com/t10k-images-idx3-ubyte.gz\n",
            "Downloading http://fashion-mnist.s3-website.eu-central-1.amazonaws.com/t10k-images-idx3-ubyte.gz to data/FashionMNIST/raw/t10k-images-idx3-ubyte.gz\n"
          ]
        },
        {
          "output_type": "stream",
          "name": "stderr",
          "text": [
            "100%|██████████| 4422102/4422102 [00:00<00:00, 5447977.71it/s]\n"
          ]
        },
        {
          "output_type": "stream",
          "name": "stdout",
          "text": [
            "Extracting data/FashionMNIST/raw/t10k-images-idx3-ubyte.gz to data/FashionMNIST/raw\n",
            "\n",
            "Downloading http://fashion-mnist.s3-website.eu-central-1.amazonaws.com/t10k-labels-idx1-ubyte.gz\n",
            "Downloading http://fashion-mnist.s3-website.eu-central-1.amazonaws.com/t10k-labels-idx1-ubyte.gz to data/FashionMNIST/raw/t10k-labels-idx1-ubyte.gz\n"
          ]
        },
        {
          "output_type": "stream",
          "name": "stderr",
          "text": [
            "100%|██████████| 5148/5148 [00:00<00:00, 13411352.17it/s]\n"
          ]
        },
        {
          "output_type": "stream",
          "name": "stdout",
          "text": [
            "Extracting data/FashionMNIST/raw/t10k-labels-idx1-ubyte.gz to data/FashionMNIST/raw\n",
            "\n"
          ]
        }
      ]
    },
    {
      "cell_type": "code",
      "source": [
        "train_data"
      ],
      "metadata": {
        "id": "5Uzb_MSRLviZ"
      },
      "execution_count": null,
      "outputs": []
    },
    {
      "cell_type": "code",
      "source": [
        "train_data[0]"
      ],
      "metadata": {
        "colab": {
          "base_uri": "https://localhost:8080/"
        },
        "id": "oh-md9qvazKo",
        "outputId": "a336d7d2-ec50-4f83-b6de-7e87d9ed6b13"
      },
      "execution_count": 3,
      "outputs": [
        {
          "output_type": "execute_result",
          "data": {
            "text/plain": [
              "(tensor([[[0.0000, 0.0000, 0.0000, 0.0000, 0.0000, 0.0000, 0.0000, 0.0000,\n",
              "           0.0000, 0.0000, 0.0000, 0.0000, 0.0000, 0.0000, 0.0000, 0.0000,\n",
              "           0.0000, 0.0000, 0.0000, 0.0000, 0.0000, 0.0000, 0.0000, 0.0000,\n",
              "           0.0000, 0.0000, 0.0000, 0.0000],\n",
              "          [0.0000, 0.0000, 0.0000, 0.0000, 0.0000, 0.0000, 0.0000, 0.0000,\n",
              "           0.0000, 0.0000, 0.0000, 0.0000, 0.0000, 0.0000, 0.0000, 0.0000,\n",
              "           0.0000, 0.0000, 0.0000, 0.0000, 0.0000, 0.0000, 0.0000, 0.0000,\n",
              "           0.0000, 0.0000, 0.0000, 0.0000],\n",
              "          [0.0000, 0.0000, 0.0000, 0.0000, 0.0000, 0.0000, 0.0000, 0.0000,\n",
              "           0.0000, 0.0000, 0.0000, 0.0000, 0.0000, 0.0000, 0.0000, 0.0000,\n",
              "           0.0000, 0.0000, 0.0000, 0.0000, 0.0000, 0.0000, 0.0000, 0.0000,\n",
              "           0.0000, 0.0000, 0.0000, 0.0000],\n",
              "          [0.0000, 0.0000, 0.0000, 0.0000, 0.0000, 0.0000, 0.0000, 0.0000,\n",
              "           0.0000, 0.0000, 0.0000, 0.0000, 0.0039, 0.0000, 0.0000, 0.0510,\n",
              "           0.2863, 0.0000, 0.0000, 0.0039, 0.0157, 0.0000, 0.0000, 0.0000,\n",
              "           0.0000, 0.0039, 0.0039, 0.0000],\n",
              "          [0.0000, 0.0000, 0.0000, 0.0000, 0.0000, 0.0000, 0.0000, 0.0000,\n",
              "           0.0000, 0.0000, 0.0000, 0.0000, 0.0118, 0.0000, 0.1412, 0.5333,\n",
              "           0.4980, 0.2431, 0.2118, 0.0000, 0.0000, 0.0000, 0.0039, 0.0118,\n",
              "           0.0157, 0.0000, 0.0000, 0.0118],\n",
              "          [0.0000, 0.0000, 0.0000, 0.0000, 0.0000, 0.0000, 0.0000, 0.0000,\n",
              "           0.0000, 0.0000, 0.0000, 0.0000, 0.0235, 0.0000, 0.4000, 0.8000,\n",
              "           0.6902, 0.5255, 0.5647, 0.4824, 0.0902, 0.0000, 0.0000, 0.0000,\n",
              "           0.0000, 0.0471, 0.0392, 0.0000],\n",
              "          [0.0000, 0.0000, 0.0000, 0.0000, 0.0000, 0.0000, 0.0000, 0.0000,\n",
              "           0.0000, 0.0000, 0.0000, 0.0000, 0.0000, 0.0000, 0.6078, 0.9255,\n",
              "           0.8118, 0.6980, 0.4196, 0.6118, 0.6314, 0.4275, 0.2510, 0.0902,\n",
              "           0.3020, 0.5098, 0.2824, 0.0588],\n",
              "          [0.0000, 0.0000, 0.0000, 0.0000, 0.0000, 0.0000, 0.0000, 0.0000,\n",
              "           0.0000, 0.0000, 0.0000, 0.0039, 0.0000, 0.2706, 0.8118, 0.8745,\n",
              "           0.8549, 0.8471, 0.8471, 0.6392, 0.4980, 0.4745, 0.4784, 0.5725,\n",
              "           0.5529, 0.3451, 0.6745, 0.2588],\n",
              "          [0.0000, 0.0000, 0.0000, 0.0000, 0.0000, 0.0000, 0.0000, 0.0000,\n",
              "           0.0000, 0.0039, 0.0039, 0.0039, 0.0000, 0.7843, 0.9098, 0.9098,\n",
              "           0.9137, 0.8980, 0.8745, 0.8745, 0.8431, 0.8353, 0.6431, 0.4980,\n",
              "           0.4824, 0.7686, 0.8980, 0.0000],\n",
              "          [0.0000, 0.0000, 0.0000, 0.0000, 0.0000, 0.0000, 0.0000, 0.0000,\n",
              "           0.0000, 0.0000, 0.0000, 0.0000, 0.0000, 0.7176, 0.8824, 0.8471,\n",
              "           0.8745, 0.8941, 0.9216, 0.8902, 0.8784, 0.8706, 0.8784, 0.8667,\n",
              "           0.8745, 0.9608, 0.6784, 0.0000],\n",
              "          [0.0000, 0.0000, 0.0000, 0.0000, 0.0000, 0.0000, 0.0000, 0.0000,\n",
              "           0.0000, 0.0000, 0.0000, 0.0000, 0.0000, 0.7569, 0.8941, 0.8549,\n",
              "           0.8353, 0.7765, 0.7059, 0.8314, 0.8235, 0.8275, 0.8353, 0.8745,\n",
              "           0.8627, 0.9529, 0.7922, 0.0000],\n",
              "          [0.0000, 0.0000, 0.0000, 0.0000, 0.0000, 0.0000, 0.0000, 0.0000,\n",
              "           0.0000, 0.0039, 0.0118, 0.0000, 0.0471, 0.8588, 0.8627, 0.8314,\n",
              "           0.8549, 0.7529, 0.6627, 0.8902, 0.8157, 0.8549, 0.8784, 0.8314,\n",
              "           0.8863, 0.7725, 0.8196, 0.2039],\n",
              "          [0.0000, 0.0000, 0.0000, 0.0000, 0.0000, 0.0000, 0.0000, 0.0000,\n",
              "           0.0000, 0.0000, 0.0235, 0.0000, 0.3882, 0.9569, 0.8706, 0.8627,\n",
              "           0.8549, 0.7961, 0.7765, 0.8667, 0.8431, 0.8353, 0.8706, 0.8627,\n",
              "           0.9608, 0.4667, 0.6549, 0.2196],\n",
              "          [0.0000, 0.0000, 0.0000, 0.0000, 0.0000, 0.0000, 0.0000, 0.0000,\n",
              "           0.0000, 0.0157, 0.0000, 0.0000, 0.2157, 0.9255, 0.8941, 0.9020,\n",
              "           0.8941, 0.9412, 0.9098, 0.8353, 0.8549, 0.8745, 0.9176, 0.8510,\n",
              "           0.8510, 0.8196, 0.3608, 0.0000],\n",
              "          [0.0000, 0.0000, 0.0039, 0.0157, 0.0235, 0.0275, 0.0078, 0.0000,\n",
              "           0.0000, 0.0000, 0.0000, 0.0000, 0.9294, 0.8863, 0.8510, 0.8745,\n",
              "           0.8706, 0.8588, 0.8706, 0.8667, 0.8471, 0.8745, 0.8980, 0.8431,\n",
              "           0.8549, 1.0000, 0.3020, 0.0000],\n",
              "          [0.0000, 0.0118, 0.0000, 0.0000, 0.0000, 0.0000, 0.0000, 0.0000,\n",
              "           0.0000, 0.2431, 0.5686, 0.8000, 0.8941, 0.8118, 0.8353, 0.8667,\n",
              "           0.8549, 0.8157, 0.8275, 0.8549, 0.8784, 0.8745, 0.8588, 0.8431,\n",
              "           0.8784, 0.9569, 0.6235, 0.0000],\n",
              "          [0.0000, 0.0000, 0.0000, 0.0000, 0.0706, 0.1725, 0.3216, 0.4196,\n",
              "           0.7412, 0.8941, 0.8627, 0.8706, 0.8510, 0.8863, 0.7843, 0.8039,\n",
              "           0.8275, 0.9020, 0.8784, 0.9176, 0.6902, 0.7373, 0.9804, 0.9725,\n",
              "           0.9137, 0.9333, 0.8431, 0.0000],\n",
              "          [0.0000, 0.2235, 0.7333, 0.8157, 0.8784, 0.8667, 0.8784, 0.8157,\n",
              "           0.8000, 0.8392, 0.8157, 0.8196, 0.7843, 0.6235, 0.9608, 0.7569,\n",
              "           0.8078, 0.8745, 1.0000, 1.0000, 0.8667, 0.9176, 0.8667, 0.8275,\n",
              "           0.8627, 0.9098, 0.9647, 0.0000],\n",
              "          [0.0118, 0.7922, 0.8941, 0.8784, 0.8667, 0.8275, 0.8275, 0.8392,\n",
              "           0.8039, 0.8039, 0.8039, 0.8627, 0.9412, 0.3137, 0.5882, 1.0000,\n",
              "           0.8980, 0.8667, 0.7373, 0.6039, 0.7490, 0.8235, 0.8000, 0.8196,\n",
              "           0.8706, 0.8941, 0.8824, 0.0000],\n",
              "          [0.3843, 0.9137, 0.7765, 0.8235, 0.8706, 0.8980, 0.8980, 0.9176,\n",
              "           0.9765, 0.8627, 0.7608, 0.8431, 0.8510, 0.9451, 0.2549, 0.2863,\n",
              "           0.4157, 0.4588, 0.6588, 0.8588, 0.8667, 0.8431, 0.8510, 0.8745,\n",
              "           0.8745, 0.8784, 0.8980, 0.1137],\n",
              "          [0.2941, 0.8000, 0.8314, 0.8000, 0.7569, 0.8039, 0.8275, 0.8824,\n",
              "           0.8471, 0.7255, 0.7725, 0.8078, 0.7765, 0.8353, 0.9412, 0.7647,\n",
              "           0.8902, 0.9608, 0.9373, 0.8745, 0.8549, 0.8314, 0.8196, 0.8706,\n",
              "           0.8627, 0.8667, 0.9020, 0.2627],\n",
              "          [0.1882, 0.7961, 0.7176, 0.7608, 0.8353, 0.7725, 0.7255, 0.7451,\n",
              "           0.7608, 0.7529, 0.7922, 0.8392, 0.8588, 0.8667, 0.8627, 0.9255,\n",
              "           0.8824, 0.8471, 0.7804, 0.8078, 0.7294, 0.7098, 0.6941, 0.6745,\n",
              "           0.7098, 0.8039, 0.8078, 0.4510],\n",
              "          [0.0000, 0.4784, 0.8588, 0.7569, 0.7020, 0.6706, 0.7176, 0.7686,\n",
              "           0.8000, 0.8235, 0.8353, 0.8118, 0.8275, 0.8235, 0.7843, 0.7686,\n",
              "           0.7608, 0.7490, 0.7647, 0.7490, 0.7765, 0.7529, 0.6902, 0.6118,\n",
              "           0.6549, 0.6941, 0.8235, 0.3608],\n",
              "          [0.0000, 0.0000, 0.2902, 0.7412, 0.8314, 0.7490, 0.6863, 0.6745,\n",
              "           0.6863, 0.7098, 0.7255, 0.7373, 0.7412, 0.7373, 0.7569, 0.7765,\n",
              "           0.8000, 0.8196, 0.8235, 0.8235, 0.8275, 0.7373, 0.7373, 0.7608,\n",
              "           0.7529, 0.8471, 0.6667, 0.0000],\n",
              "          [0.0078, 0.0000, 0.0000, 0.0000, 0.2588, 0.7843, 0.8706, 0.9294,\n",
              "           0.9373, 0.9490, 0.9647, 0.9529, 0.9569, 0.8667, 0.8627, 0.7569,\n",
              "           0.7490, 0.7020, 0.7137, 0.7137, 0.7098, 0.6902, 0.6510, 0.6588,\n",
              "           0.3882, 0.2275, 0.0000, 0.0000],\n",
              "          [0.0000, 0.0000, 0.0000, 0.0000, 0.0000, 0.0000, 0.0000, 0.1569,\n",
              "           0.2392, 0.1725, 0.2824, 0.1608, 0.1373, 0.0000, 0.0000, 0.0000,\n",
              "           0.0000, 0.0000, 0.0000, 0.0000, 0.0000, 0.0000, 0.0000, 0.0000,\n",
              "           0.0000, 0.0000, 0.0000, 0.0000],\n",
              "          [0.0000, 0.0000, 0.0000, 0.0000, 0.0000, 0.0000, 0.0000, 0.0000,\n",
              "           0.0000, 0.0000, 0.0000, 0.0000, 0.0000, 0.0000, 0.0000, 0.0000,\n",
              "           0.0000, 0.0000, 0.0000, 0.0000, 0.0000, 0.0000, 0.0000, 0.0000,\n",
              "           0.0000, 0.0000, 0.0000, 0.0000],\n",
              "          [0.0000, 0.0000, 0.0000, 0.0000, 0.0000, 0.0000, 0.0000, 0.0000,\n",
              "           0.0000, 0.0000, 0.0000, 0.0000, 0.0000, 0.0000, 0.0000, 0.0000,\n",
              "           0.0000, 0.0000, 0.0000, 0.0000, 0.0000, 0.0000, 0.0000, 0.0000,\n",
              "           0.0000, 0.0000, 0.0000, 0.0000]]]),\n",
              " 9)"
            ]
          },
          "metadata": {},
          "execution_count": 3
        }
      ]
    },
    {
      "cell_type": "code",
      "source": [
        "train_data[0][0].shape\n"
      ],
      "metadata": {
        "colab": {
          "base_uri": "https://localhost:8080/"
        },
        "id": "tqhqrw6RaRNI",
        "outputId": "521d7c07-4005-41a1-fe3a-125f1be7092f"
      },
      "execution_count": 4,
      "outputs": [
        {
          "output_type": "execute_result",
          "data": {
            "text/plain": [
              "torch.Size([1, 28, 28])"
            ]
          },
          "metadata": {},
          "execution_count": 4
        }
      ]
    },
    {
      "cell_type": "code",
      "source": [
        "train_data[0][0].squeeze().shape # remove the colour channel. \n"
      ],
      "metadata": {
        "colab": {
          "base_uri": "https://localhost:8080/"
        },
        "id": "fFNEnD0Ma76f",
        "outputId": "8d1f9b29-9759-4e7d-88aa-421ccb852ff3"
      },
      "execution_count": 5,
      "outputs": [
        {
          "output_type": "execute_result",
          "data": {
            "text/plain": [
              "torch.Size([28, 28])"
            ]
          },
          "metadata": {},
          "execution_count": 5
        }
      ]
    },
    {
      "cell_type": "code",
      "source": [
        "plt.imshow(train_data[0][0].squeeze())"
      ],
      "metadata": {
        "colab": {
          "base_uri": "https://localhost:8080/",
          "height": 448
        },
        "id": "ykUyqbQSZ6y6",
        "outputId": "256496f4-d4dd-4aba-c91e-fe1fa46c5d7e"
      },
      "execution_count": 6,
      "outputs": [
        {
          "output_type": "execute_result",
          "data": {
            "text/plain": [
              "<matplotlib.image.AxesImage at 0x7f60f56fdca0>"
            ]
          },
          "metadata": {},
          "execution_count": 6
        },
        {
          "output_type": "display_data",
          "data": {
            "text/plain": [
              "<Figure size 640x480 with 1 Axes>"
            ],
            "image/png": "[encoded data removed]"
          },
          "metadata": {}
        }
      ]
    },
    {
      "cell_type": "code",
      "source": [
        "torch.manual_seed(42)\n",
        "class_names = train_data.classes\n",
        "fig = plt.figure(figsize=(9, 9))\n",
        "rows, cols = 4, 4\n",
        "for i in range(1, rows * cols + 1):\n",
        "    random_idx = torch.randint(0, len(train_data), size=[1]).item()\n",
        "    img, label = train_data[random_idx]\n",
        "    fig.add_subplot(rows, cols, i)\n",
        "    plt.imshow(img.squeeze(), cmap=\"gray\")\n",
        "    plt.title(class_names[label])\n",
        "    plt.axis(False);"
      ],
      "metadata": {
        "colab": {
          "base_uri": "https://localhost:8080/",
          "height": 752
        },
        "id": "uNGFAJ6g5864",
        "outputId": "4680adae-6497-4a36-f1b4-353d506c56cd"
      },
      "execution_count": 7,
      "outputs": [
        {
          "output_type": "display_data",
          "data": {
            "text/plain": [
              "<Figure size 900x900 with 16 Axes>"
            ],
            "image/png": "[encoded data removed]"
          },
          "metadata": {}
        }
      ]
    },
    {
      "cell_type": "code",
      "source": [
        "test_data[0]"
      ],
      "metadata": {
        "colab": {
          "base_uri": "https://localhost:8080/"
        },
        "id": "htgScS1yL4Ma",
        "outputId": "877b2b97-3a46-4389-ed98-6fb0e212e4bf"
      },
      "execution_count": 74,
      "outputs": [
        {
          "output_type": "execute_result",
          "data": {
            "text/plain": [
              "(tensor([[[0.0000, 0.0000, 0.0000, 0.0039, 0.0000, 0.0118, 0.0000, 0.0000,\n",
              "           0.0000, 0.0941, 0.7176, 0.7216, 0.3294, 0.2157, 0.1922, 0.4078,\n",
              "           0.8157, 0.4824, 0.0000, 0.0000, 0.0000, 0.0000, 0.0000, 0.0000,\n",
              "           0.0000, 0.0000, 0.0000, 0.0000],\n",
              "          [0.0000, 0.0000, 0.0000, 0.0000, 0.0000, 0.0000, 0.0000, 0.1961,\n",
              "           0.7059, 1.0000, 0.9098, 0.8902, 0.9961, 1.0000, 1.0000, 0.9686,\n",
              "           0.8667, 0.8824, 0.9725, 0.6078, 0.1255, 0.0000, 0.0000, 0.0000,\n",
              "           0.0000, 0.0000, 0.0000, 0.0000],\n",
              "          [0.0000, 0.0000, 0.0039, 0.0000, 0.0000, 0.3490, 0.7608, 0.9176,\n",
              "           0.9098, 0.8627, 0.8706, 0.8745, 0.8588, 0.8588, 0.8431, 0.8353,\n",
              "           0.8353, 0.8235, 0.8353, 0.8902, 0.8431, 0.6902, 0.1804, 0.0000,\n",
              "           0.0078, 0.0000, 0.0000, 0.0000],\n",
              "          [0.0000, 0.0000, 0.0039, 0.0000, 0.3922, 0.9451, 0.8667, 0.8392,\n",
              "           0.8627, 0.8784, 0.8824, 0.8784, 0.8706, 0.8824, 0.8627, 0.8706,\n",
              "           0.8471, 0.8471, 0.8275, 0.8196, 0.8118, 0.8471, 0.7843, 0.0039,\n",
              "           0.0000, 0.0157, 0.0000, 0.0000],\n",
              "          [0.0000, 0.0000, 0.0000, 0.0000, 0.7294, 0.8706, 0.8314, 0.8784,\n",
              "           0.8784, 0.8745, 0.8667, 0.8941, 0.9647, 0.8980, 0.9529, 0.8471,\n",
              "           0.8667, 0.8353, 0.8588, 0.8353, 0.8196, 0.7725, 0.8275, 0.3412,\n",
              "           0.0000, 0.0039, 0.0000, 0.0000],\n",
              "          [0.0000, 0.0000, 0.0000, 0.1020, 0.8824, 0.8431, 0.8627, 0.8627,\n",
              "           0.8667, 0.9020, 0.9294, 1.0000, 0.7098, 0.9804, 0.5647, 1.0000,\n",
              "           0.9059, 0.8902, 0.8275, 0.8314, 0.8157, 0.7765, 0.8078, 0.6980,\n",
              "           0.0000, 0.0000, 0.0000, 0.0000],\n",
              "          [0.0000, 0.0000, 0.0000, 0.2431, 0.8902, 0.8196, 0.8706, 0.8588,\n",
              "           0.9569, 1.0000, 0.5176, 0.1451, 0.2745, 0.5098, 0.1490, 0.5647,\n",
              "           0.0000, 0.9451, 0.9961, 0.8588, 0.8000, 0.7882, 0.7961, 0.7059,\n",
              "           0.0000, 0.0000, 0.0000, 0.0000],\n",
              "          [0.0000, 0.0000, 0.0000, 0.3843, 0.8941, 0.8118, 0.8902, 0.9333,\n",
              "           0.8588, 0.0000, 0.2510, 0.5020, 0.8863, 0.8392, 0.8980, 0.5373,\n",
              "           0.4588, 0.3529, 0.1294, 0.9569, 0.7882, 0.8039, 0.8157, 0.7647,\n",
              "           0.1333, 0.0000, 0.0000, 0.0000],\n",
              "          [0.0000, 0.0000, 0.0000, 0.5569, 0.8902, 0.8275, 0.9098, 0.9412,\n",
              "           0.8549, 0.0000, 0.7804, 1.0000, 0.8941, 0.8784, 0.8980, 0.9098,\n",
              "           1.0000, 0.3451, 0.0000, 0.7216, 0.8118, 0.8314, 0.8078, 0.7961,\n",
              "           0.2745, 0.0000, 0.0000, 0.0000],\n",
              "          [0.0000, 0.0000, 0.0000, 0.6863, 0.8706, 0.8431, 0.9294, 0.8941,\n",
              "           0.9686, 1.0000, 0.9569, 0.8745, 0.8000, 0.9098, 0.8941, 0.8235,\n",
              "           0.8667, 0.9882, 0.9059, 0.8706, 0.7804, 0.8745, 0.7961, 0.8000,\n",
              "           0.4902, 0.0000, 0.0000, 0.0000],\n",
              "          [0.0000, 0.0000, 0.0000, 0.8235, 0.8549, 0.8471, 0.9961, 0.9137,\n",
              "           0.9098, 0.8314, 0.9490, 0.6980, 0.0000, 0.0510, 0.1647, 0.1412,\n",
              "           0.7804, 0.8627, 0.8275, 0.7765, 0.8275, 0.9176, 0.8039, 0.7922,\n",
              "           0.6980, 0.0000, 0.0000, 0.0000],\n",
              "          [0.0000, 0.0000, 0.0000, 0.9020, 0.8510, 0.8863, 0.8941, 0.8235,\n",
              "           0.9804, 0.8588, 0.8980, 0.8706, 0.3529, 0.5922, 0.6980, 0.6157,\n",
              "           0.8824, 0.8392, 0.8196, 0.8196, 0.7333, 0.9529, 0.8392, 0.7804,\n",
              "           0.8039, 0.0000, 0.0000, 0.0000],\n",
              "          [0.0000, 0.0000, 0.0000, 0.9529, 0.8431, 0.9294, 0.6000, 0.6902,\n",
              "           1.0000, 0.8549, 0.8549, 0.9176, 0.9961, 0.9882, 0.9647, 0.9373,\n",
              "           0.8431, 0.8353, 0.7882, 0.9490, 0.4000, 0.6275, 0.8980, 0.7608,\n",
              "           0.8784, 0.0000, 0.0000, 0.0000],\n",
              "          [0.0000, 0.0000, 0.0392, 0.8431, 0.8275, 1.0000, 0.2706, 0.7451,\n",
              "           1.0000, 0.8510, 0.8627, 0.8863, 0.8353, 0.8392, 0.8510, 0.8549,\n",
              "           0.8431, 0.8392, 0.8000, 0.9569, 0.3294, 0.3412, 0.9490, 0.7608,\n",
              "           0.7882, 0.1765, 0.0000, 0.0000],\n",
              "          [0.0000, 0.0000, 0.2196, 0.8863, 0.8275, 1.0000, 0.0000, 0.7725,\n",
              "           1.0000, 0.8549, 0.8549, 0.8902, 0.8784, 0.8706, 0.8627, 0.8667,\n",
              "           0.8471, 0.8353, 0.7961, 0.9333, 0.4431, 0.0000, 1.0000, 0.7882,\n",
              "           0.8078, 0.2941, 0.0000, 0.0000],\n",
              "          [0.0000, 0.0000, 0.3647, 0.8980, 0.8275, 1.0000, 0.0000, 0.7176,\n",
              "           1.0000, 0.8275, 0.8745, 0.9216, 0.8667, 0.8667, 0.8667, 0.8706,\n",
              "           0.8510, 0.8392, 0.8078, 0.9098, 0.5020, 0.0000, 1.0000, 0.8196,\n",
              "           0.8078, 0.3176, 0.0000, 0.0000],\n",
              "          [0.0000, 0.0000, 0.5569, 0.8784, 0.8392, 1.0000, 0.0000, 0.7961,\n",
              "           1.0000, 0.8235, 0.8824, 0.9333, 0.8627, 0.8706, 0.8824, 0.8706,\n",
              "           0.8510, 0.8235, 0.8196, 0.8824, 0.6157, 0.0000, 0.9882, 0.8000,\n",
              "           0.8039, 0.3843, 0.0000, 0.0000],\n",
              "          [0.0000, 0.0000, 0.5608, 0.8745, 0.8471, 1.0000, 0.0000, 0.8353,\n",
              "           0.9961, 0.8196, 0.8980, 0.9294, 0.8549, 0.8706, 0.8824, 0.8706,\n",
              "           0.8549, 0.8235, 0.8275, 0.8784, 0.7098, 0.0000, 0.9882, 0.8118,\n",
              "           0.7882, 0.4706, 0.0000, 0.0000],\n",
              "          [0.0000, 0.0000, 0.6039, 0.8667, 0.8431, 1.0000, 0.0000, 0.8353,\n",
              "           0.9647, 0.8235, 0.9098, 0.9294, 0.8431, 0.8706, 0.8824, 0.8706,\n",
              "           0.8549, 0.8157, 0.8196, 0.8549, 0.7608, 0.0000, 0.9765, 0.8157,\n",
              "           0.7686, 0.5490, 0.0000, 0.0000],\n",
              "          [0.0000, 0.0000, 0.6431, 0.8627, 0.8431, 0.9804, 0.0000, 0.9255,\n",
              "           0.9294, 0.8314, 0.9176, 0.9333, 0.8392, 0.8706, 0.8824, 0.8706,\n",
              "           0.8549, 0.8235, 0.8118, 0.8275, 0.8471, 0.0000, 0.9294, 0.8157,\n",
              "           0.7686, 0.5843, 0.0000, 0.0000],\n",
              "          [0.0000, 0.0000, 0.7216, 0.8510, 0.8588, 0.8431, 0.0000, 1.0000,\n",
              "           0.8863, 0.8431, 0.9412, 0.9333, 0.8431, 0.8706, 0.8863, 0.8667,\n",
              "           0.8588, 0.8039, 0.8118, 0.7882, 0.9412, 0.0000, 0.8196, 0.8431,\n",
              "           0.7647, 0.6118, 0.0000, 0.0000],\n",
              "          [0.0000, 0.0000, 0.7294, 0.8431, 0.8745, 0.6745, 0.0000, 1.0000,\n",
              "           0.8784, 0.8549, 0.9490, 0.8980, 0.8549, 0.8824, 0.8824, 0.8667,\n",
              "           0.8667, 0.8157, 0.8196, 0.7882, 1.0000, 0.0000, 0.5098, 0.8627,\n",
              "           0.7569, 0.6000, 0.0000, 0.0000],\n",
              "          [0.0000, 0.0000, 0.7176, 0.8392, 0.9020, 0.4392, 0.0000, 1.0000,\n",
              "           0.8627, 0.8784, 0.9451, 0.8667, 0.8706, 0.8824, 0.8784, 0.8627,\n",
              "           0.8784, 0.8157, 0.8235, 0.8353, 1.0000, 0.0000, 0.3647, 0.8745,\n",
              "           0.7569, 0.5294, 0.0000, 0.0000],\n",
              "          [0.0000, 0.0000, 0.6706, 0.8392, 0.9137, 0.2863, 0.1647, 1.0000,\n",
              "           0.8549, 0.9176, 0.9137, 0.8588, 0.8784, 0.8824, 0.8824, 0.8588,\n",
              "           0.8667, 0.8588, 0.8431, 0.8000, 0.9961, 0.0353, 0.4588, 0.8784,\n",
              "           0.7608, 0.4667, 0.0000, 0.0000],\n",
              "          [0.0000, 0.0000, 0.4235, 0.8824, 0.8745, 0.0235, 0.1373, 1.0000,\n",
              "           0.8627, 0.8902, 0.8902, 0.8902, 0.8980, 0.8941, 0.8745, 0.8745,\n",
              "           0.8784, 0.8706, 0.8667, 0.8196, 1.0000, 0.1216, 0.1843, 0.8510,\n",
              "           0.7686, 0.5020, 0.0000, 0.0000],\n",
              "          [0.0000, 0.0000, 0.0941, 0.8510, 0.8392, 0.0000, 0.1216, 0.9647,\n",
              "           0.8667, 0.8863, 0.8784, 0.8863, 0.8824, 0.8902, 0.8745, 0.8706,\n",
              "           0.8745, 0.8392, 0.8314, 0.8078, 0.9922, 0.0980, 0.0000, 0.8314,\n",
              "           0.7490, 0.1725, 0.0000, 0.0000],\n",
              "          [0.0000, 0.0000, 0.0000, 0.8118, 0.9137, 0.0000, 0.1922, 1.0000,\n",
              "           0.9294, 0.9373, 0.9804, 0.9647, 0.9294, 0.9373, 0.9255, 0.9176,\n",
              "           0.9216, 0.9333, 0.8824, 0.8627, 1.0000, 0.1529, 0.0471, 0.8784,\n",
              "           0.7137, 0.0000, 0.0000, 0.0000],\n",
              "          [0.0000, 0.0000, 0.0000, 0.1765, 0.2353, 0.0000, 0.0000, 0.3529,\n",
              "           0.5490, 0.6745, 0.7216, 0.7922, 0.8353, 0.8471, 0.8157, 0.7882,\n",
              "           0.7765, 0.7373, 0.6902, 0.5922, 0.5373, 0.0000, 0.0000, 0.1922,\n",
              "           0.1412, 0.0000, 0.0000, 0.0000]]]),\n",
              " 2)"
            ]
          },
          "metadata": {},
          "execution_count": 74
        }
      ]
    },
    {
      "cell_type": "code",
      "source": [
        "X, y = test_data[0]\n",
        "print(y)"
      ],
      "metadata": {
        "colab": {
          "base_uri": "https://localhost:8080/"
        },
        "id": "FiNki2IvMTaJ",
        "outputId": "9f7d1f1b-5470-4f33-f74a-34d93cbf8b37"
      },
      "execution_count": 85,
      "outputs": [
        {
          "output_type": "stream",
          "name": "stdout",
          "text": [
            "2\n"
          ]
        }
      ]
    },
    {
      "cell_type": "code",
      "source": [
        "from torch.utils.data import DataLoader\n",
        "\n",
        "# Setup the batch size hyperparameter\n",
        "BATCH_SIZE = 32\n",
        "\n",
        "# Turn datasets into iterables (batches)\n",
        "train_batches_dl = DataLoader(train_data, # dataset to turn into iterable\n",
        "                   batch_size=BATCH_SIZE,  \n",
        "                            shuffle=True # shuffle data every epoch? different data in the batch every epoch. \n",
        "                                        )\n",
        "\n",
        "# batching the validation/test data to make it easier to handle \n",
        "test_data, val_data = torch.utils.data.random_split(validation_data, [0.5, 0.5])\n",
        "\n",
        "validation_batches_dl = DataLoader(val_data,\n",
        "                            batch_size=BATCH_SIZE,\n",
        "                            shuffle=False)\n",
        "\n",
        "test_batches_dl = DataLoader(test_data,\n",
        "                            batch_size=BATCH_SIZE,\n",
        "                            shuffle=False)\n",
        "\n",
        "\n",
        "# Let's check out what we've created\n",
        "print(f\"Dataloaders: {train_batches_dl, validation_batches_dl}\") \n",
        "print(f\"Length of train dataloader: {len(train_batches_dl)}\\\n",
        " batches of {BATCH_SIZE}\")\n",
        "print(f\"Length of validation dataloader: {len(validation_batches_dl)}\\\n",
        " batches of {BATCH_SIZE}\")\n",
        "print(f\"Length of test dataloader: {len(test_batches_dl)}\\\n",
        " batches of {BATCH_SIZE}\")"
      ],
      "metadata": {
        "colab": {
          "base_uri": "https://localhost:8080/"
        },
        "id": "bEnkwpQY50Xw",
        "outputId": "e5734927-4c22-4efa-cbed-60e94f3eb579"
      },
      "execution_count": 8,
      "outputs": [
        {
          "output_type": "stream",
          "name": "stdout",
          "text": [
            "Dataloaders: (<torch.utils.data.dataloader.DataLoader object at 0x7f60f575edc0>, <torch.utils.data.dataloader.DataLoader object at 0x7f60f31549d0>)\n",
            "Length of train dataloader: 1875 batches of 32\n",
            "Length of validation dataloader: 157 batches of 32\n",
            "Length of validation dataloader: 157 batches of 32\n"
          ]
        }
      ]
    },
    {
      "cell_type": "code",
      "source": [
        "X, y = test_data[0]\n",
        "print(y)"
      ],
      "metadata": {
        "colab": {
          "base_uri": "https://localhost:8080/"
        },
        "id": "GPwrslxVN6D3",
        "outputId": "80f827ab-899e-45bf-8fee-e97d16fc729b"
      },
      "execution_count": 87,
      "outputs": [
        {
          "output_type": "stream",
          "name": "stdout",
          "text": [
            "2\n"
          ]
        }
      ]
    },
    {
      "cell_type": "code",
      "source": [
        "# Check out what's inside the training dataloader\n",
        "train_features_batch, train_labels_batch = next(iter(train_batches_dl))\n",
        "train_features_batch.shape, train_labels_batch.shape"
      ],
      "metadata": {
        "colab": {
          "base_uri": "https://localhost:8080/"
        },
        "id": "c5oaSEMN7cq-",
        "outputId": "ef5ab5ca-d898-4c96-a6f6-48791ed07887"
      },
      "execution_count": 9,
      "outputs": [
        {
          "output_type": "execute_result",
          "data": {
            "text/plain": [
              "(torch.Size([32, 1, 28, 28]), torch.Size([32]))"
            ]
          },
          "metadata": {},
          "execution_count": 9
        }
      ]
    },
    {
      "cell_type": "code",
      "source": [
        "# Show a sample\n",
        "torch.manual_seed(42)\n",
        "random_idx = torch.randint(0, len(train_features_batch), size=[1]).item()\n",
        "img, label = train_features_batch[random_idx], train_labels_batch[random_idx]\n",
        "plt.imshow(img.squeeze(), cmap=\"gray\")\n",
        "plt.title(class_names[label])\n",
        "plt.axis(\"Off\")\n",
        "print(f\"Image size: {img.shape}\")\n",
        "print(f\"Label: {label}, label size: {label.shape}\")"
      ],
      "metadata": {
        "colab": {
          "base_uri": "https://localhost:8080/",
          "height": 465
        },
        "id": "7lsaTuTq7kjF",
        "outputId": "939c2241-5096-49f4-aafa-e6e5265dddaa"
      },
      "execution_count": 10,
      "outputs": [
        {
          "output_type": "stream",
          "name": "stdout",
          "text": [
            "Image size: torch.Size([1, 28, 28])\n",
            "Label: 2, label size: torch.Size([])\n"
          ]
        },
        {
          "output_type": "display_data",
          "data": {
            "text/plain": [
              "<Figure size 640x480 with 1 Axes>"
            ],
            "image/png": "[encoded data removed]"
          },
          "metadata": {}
        }
      ]
    },
    {
      "cell_type": "code",
      "source": [
        "# before moving to CNNs going to train a flattened model like they did before the CNN was demonstrated to be a better solution!\n",
        "# Create a flatten layer\n",
        "flatten_model = nn.Flatten() # all nn modules function as a model (can do a forward pass)\n",
        "\n",
        "# Get a single sample\n",
        "x = train_features_batch[0]\n",
        "\n",
        "# Flatten the sample\n",
        "output = flatten_model(x) # perform forward pass\n",
        "\n",
        "# Print out what happened\n",
        "print(f\"Shape before flattening: {x.shape} -> [color_channels, height, width]\")\n",
        "print(f\"Shape after flattening: {output.shape} -> [color_channels, height*width]\")\n",
        "\n"
      ],
      "metadata": {
        "colab": {
          "base_uri": "https://localhost:8080/"
        },
        "id": "DRHYB9OD7rgl",
        "outputId": "6dfcb227-e02d-4043-c259-953233aceb66"
      },
      "execution_count": 11,
      "outputs": [
        {
          "output_type": "stream",
          "name": "stdout",
          "text": [
            "Shape before flattening: torch.Size([1, 28, 28]) -> [color_channels, height, width]\n",
            "Shape after flattening: torch.Size([1, 784]) -> [color_channels, height*width]\n"
          ]
        }
      ]
    },
    {
      "cell_type": "code",
      "source": [
        "# before moving to CNNs going to train a flattened model like they did before the CNN was demonstrated to be a better solution!\n",
        "# Create a flatten layer\n",
        "\n",
        "# Get a single sample\n",
        "x = train_features_batch[0]\n",
        "\n",
        "# Flatten the sample\n",
        "output = torch.flatten(x) # perform forward pass\n",
        "\n",
        "# Print out what happened\n",
        "print(f\"Shape before flattening: {x.shape} -> [color_channels, height, width]\")\n",
        "print(f\"Shape after flattening: {output.shape} -> [color_channels, height*width]\")"
      ],
      "metadata": {
        "colab": {
          "base_uri": "https://localhost:8080/"
        },
        "id": "NidGs98YiFkk",
        "outputId": "b30d7650-6f44-4dac-91fa-d85335d2497f"
      },
      "execution_count": 12,
      "outputs": [
        {
          "output_type": "stream",
          "name": "stdout",
          "text": [
            "Shape before flattening: torch.Size([1, 28, 28]) -> [color_channels, height, width]\n",
            "Shape after flattening: torch.Size([784]) -> [color_channels, height*width]\n"
          ]
        }
      ]
    },
    {
      "cell_type": "code",
      "source": [
        "from torch import nn\n",
        "class FashionMNISTModelV0(nn.Module):\n",
        "    def __init__(self, input_shape: int, hidden_units: int, output_shape: int):\n",
        "        super().__init__()\n",
        "        self.layer_stack = nn.Sequential(\n",
        "            nn.Flatten(), # neural networks like their inputs in vector form\n",
        "            nn.Linear(in_features=input_shape, out_features=hidden_units), # in_features = number of features in a data sample (784 pixels)\n",
        "            nn.Linear(in_features=hidden_units, out_features=output_shape)\n",
        "        )\n",
        "    \n",
        "    def forward(self, x):\n",
        "        return self.layer_stack(x)"
      ],
      "metadata": {
        "id": "M7FaoNM39JuL"
      },
      "execution_count": 13,
      "outputs": []
    },
    {
      "cell_type": "code",
      "source": [
        "# Import library\n",
        "import torch\n",
        "# Describe the variable by using torch.tensor() function\n",
        "f = torch.tensor([[[2, 4],\n",
        "                   [6, 8]],\n",
        "                   [[10, 12],\n",
        "                   [14, 16]]])\n",
        "# Using the torch.flatten() method\n",
        "torch.flatten(f)\n",
        "f.shape\n",
        "print(f)\n"
      ],
      "metadata": {
        "colab": {
          "base_uri": "https://localhost:8080/"
        },
        "id": "f1bHF629hWHF",
        "outputId": "e581d7d6-1205-405d-a9ae-115b93578228"
      },
      "execution_count": 14,
      "outputs": [
        {
          "output_type": "stream",
          "name": "stdout",
          "text": [
            "tensor([[[ 2,  4],\n",
            "         [ 6,  8]],\n",
            "\n",
            "        [[10, 12],\n",
            "         [14, 16]]])\n"
          ]
        }
      ]
    },
    {
      "cell_type": "code",
      "source": [
        "# define the model\n",
        "from torch import nn\n",
        "import torch.nn.functional as F\n",
        "class Fashion_MNIST_flat_model(nn.Module):\n",
        "    def __init__(self, input_shape: int, hidden_units: int, output_shape: int):\n",
        "        super().__init__()\n",
        "        self.flatten = nn.Flatten() #define as a layer so produces a tensor output\n",
        "        self.L0 = nn.Linear(input_shape, hidden_units)\n",
        "        self.L1 = nn.Linear(hidden_units, hidden_units)\n",
        "        self.L2 = nn.Linear(hidden_units, output_shape)\n",
        "        nn.init.constant_(self.L0.bias, 0.0)\n",
        "        nn.init.kaiming_normal_(self.L0.weight, \\\n",
        "                              mode='fan_in', \\\n",
        "                              nonlinearity='relu')\n",
        "        nn.init.constant_(self.L1.bias, 0.0)\n",
        "        nn.init.kaiming_normal_(self.L1.weight, \\\n",
        "                                mode='fan_in', \\\n",
        "                                nonlinearity='relu')\n",
        "        with torch.no_grad():\n",
        "          self.L2.weight.data = self.L2.weight.data * 0.01\n",
        "          nn.init.constant_(self.L2.bias, 0.0)\n",
        "\n",
        "    def forward(self, X):\n",
        "      X = self.flatten(X) \n",
        "      X = self.L0(X)\n",
        "      #X = F.relu(self.L0(X))\n",
        "      #X = F.relu(self.L1(X))\n",
        "      X = self.L2(X)\n",
        "      return X\n"
      ],
      "metadata": {
        "id": "djHCGClG9Lfi"
      },
      "execution_count": 15,
      "outputs": []
    },
    {
      "cell_type": "code",
      "source": [
        "# Instantiate a model\n",
        "model_0 = Fashion_MNIST_flat_model(input_shape=784, # one for every pixel (28x28)\n",
        "    hidden_units=10, # how many units in the hiden layer\n",
        "    output_shape=len(class_names)) # one for every class\n",
        "model_0.to(\"cpu\") # keep model on CPU to begin with"
      ],
      "metadata": {
        "colab": {
          "base_uri": "https://localhost:8080/"
        },
        "id": "l-pxYnQb-XnB",
        "outputId": "b067f23a-f5e1-41f7-c2f9-46b56b2e05e1"
      },
      "execution_count": 16,
      "outputs": [
        {
          "output_type": "execute_result",
          "data": {
            "text/plain": [
              "Fashion_MNIST_flat_model(\n",
              "  (flatten): Flatten(start_dim=1, end_dim=-1)\n",
              "  (L0): Linear(in_features=784, out_features=10, bias=True)\n",
              "  (L1): Linear(in_features=10, out_features=10, bias=True)\n",
              "  (L2): Linear(in_features=10, out_features=10, bias=True)\n",
              ")"
            ]
          },
          "metadata": {},
          "execution_count": 16
        }
      ]
    },
    {
      "cell_type": "code",
      "source": [
        "train_batches_dl"
      ],
      "metadata": {
        "colab": {
          "base_uri": "https://localhost:8080/"
        },
        "id": "ExEbiccY_f_v",
        "outputId": "cee94f28-f8c7-4a12-82ea-6bd587e98013"
      },
      "execution_count": 17,
      "outputs": [
        {
          "output_type": "execute_result",
          "data": {
            "text/plain": [
              "<torch.utils.data.dataloader.DataLoader at 0x7f60f575edc0>"
            ]
          },
          "metadata": {},
          "execution_count": 17
        }
      ]
    },
    {
      "cell_type": "code",
      "source": [
        "len(train_batches_dl)"
      ],
      "metadata": {
        "colab": {
          "base_uri": "https://localhost:8080/"
        },
        "id": "RUpehtxxBf6c",
        "outputId": "6ae02a1c-e9a0-4dd4-aff1-16659677854a"
      },
      "execution_count": 18,
      "outputs": [
        {
          "output_type": "execute_result",
          "data": {
            "text/plain": [
              "1875"
            ]
          },
          "metadata": {},
          "execution_count": 18
        }
      ]
    },
    {
      "cell_type": "code",
      "source": [
        "def calculate_accuracy(Y_train, Y_pred_class): \n",
        "  true_positives=(Y_pred_class==Y_train).sum()\n",
        "  number_of_predictions = len(Y_pred_class)\n",
        "  return 100 * true_positives/number_of_predictions"
      ],
      "metadata": {
        "id": "TNGebrP9kkT4"
      },
      "execution_count": 19,
      "outputs": []
    },
    {
      "cell_type": "code",
      "source": [
        "# Import tqdm for progress bar\n",
        "from tqdm.auto import tqdm\n",
        "\n",
        "LEARNING_RATE = 0.1\n",
        "\n",
        "# Setup loss function and optimizer\n",
        "calculate_loss = nn.CrossEntropyLoss()\n",
        "optimizer = torch.optim.SGD(params=model_0.parameters(), lr=LEARNING_RATE)\n",
        "\n",
        "# Set the seed and start the timer\n",
        "torch.manual_seed(42)\n",
        "#train_time_start_on_cpu = timer()\n",
        "\n",
        "EPOCHS = 4\n",
        "\n",
        "# Create training and testing loop\n",
        "for epoch in tqdm(range(EPOCHS)):\n",
        "    print(f\"Epoch: {epoch}\\n-------\")\n",
        "    ### Training\n",
        "    train_loss = 0\n",
        "    # Add a loop to loop through training batches\n",
        "    for batch, (X, y) in enumerate(train_batches_dl):\n",
        "        model_0.train() # ensuring in training mode, which it should be by default\n",
        "        # 1. Forward pass\n",
        "        y_pred = model_0(X)\n",
        "        #print(y_pred)\n",
        "\n",
        "        # 2. Calculate loss (per batch)\n",
        "        loss = calculate_loss(y_pred, y)\n",
        "        train_loss += loss # accumulatively add up the loss per epoch \n",
        "\n",
        "        # 3. Optimizer zero grad\n",
        "        optimizer.zero_grad()\n",
        "\n",
        "        # 4. Loss backward\n",
        "        loss.backward()\n",
        "\n",
        "        # 5. Optimizer step\n",
        "        optimizer.step()\n",
        "\n",
        "       # # Print out how many samples have been seen\n",
        "        #if batch % 400 == 0:\n",
        "         #   print(f\"Looked at {batch * len(X)}/{len(train_dataloader.dataset)} samples\")\n",
        "\n",
        "    # Divide total train loss by length of train dataloader (average loss per batch per epoch)\n",
        "    train_loss /= len(train_batches_dl)\n",
        "    \n",
        "    ### Validation\n",
        "    # Setup variables for accumulatively adding up loss and accuracy \n",
        "    val_loss, val_acc = 0, 0 \n",
        "    model_0.eval()\n",
        "    with torch.inference_mode():\n",
        "    # doing in batches allows less memory usage but may not be the fastest\n",
        "        for X, y in validation_batches_dl: \n",
        "            # 1. Forward pass\n",
        "            val_pred = model_0(X)\n",
        "           \n",
        "            # 2. Calculate loss (accumatively)\n",
        "            val_loss += calculate_loss(val_pred, y) # accumulatively add up the loss per epoch\n",
        "\n",
        "            # 3. Calculate accuracy (preds need to be same as y_true)\n",
        "            val_acc += calculate_accuracy(y, val_pred.argmax(dim=1))\n",
        "        \n",
        "        # Calculations on test metrics need to happen inside torch.inference_mode()\n",
        "        # Divide total test loss by length of test dataloader (per batch)\n",
        "        val_loss /= len(validation_batches_dl)\n",
        "\n",
        "        # Divide total accuracy by length of test dataloader (per batch)\n",
        "        val_acc /= len(validation_batches_dl)\n",
        "\n",
        "    ## Print out what's happening\n",
        "    print(f\"\\n Average train loss per batch last epoch: {train_loss:.5f} |\\\n",
        "     Validation loss: {val_loss:.5f}, Validation acc: {val_acc:.2f}%\\n\")\n",
        "\n",
        "## Calculate training time      \n",
        "#train_time_end_on_cpu = timer()\n",
        "#total_train_time_model_0 = print_train_time(start=train_time_start_on_cpu, \n",
        "#                                           end=train_time_end_on_cpu,\n",
        "#                                           device=str(next(model_0.parameters()).device))"
      ],
      "metadata": {
        "colab": {
          "base_uri": "https://localhost:8080/",
          "height": 418,
          "referenced_widgets": [
            "97e4fad82c574401a7aa4b35a89ac4c0",
            "9dd3b3f8a2754ade81ff21c360e9a06a",
            "965224fdd4514027a560cb6762533c8f",
            "3f5fd0e1e83f45e588d523d315450098",
            "9eb707693d584194904e80dcc80260c5",
            "bf9ebc1cdc484d09a95affcca6bebfa4",
            "18641994c50d4d7b98acb3bdccb15ab1",
            "c550d470191949898bd54edc9d25c6f9",
            "6b2110488b124174baef6a02283f7b17",
            "10097e5dc1104189ae35245f9bbaec99",
            "6771f8816f474d01b2170868ba0fd711"
          ]
        },
        "id": "vrCuvang_Wgn",
        "outputId": "519320f5-7252-463b-ec49-3ce52e9c74cd"
      },
      "execution_count": 20,
      "outputs": [
        {
          "output_type": "display_data",
          "data": {
            "text/plain": [
              "  0%|          | 0/4 [00:00<?, ?it/s]"
            ],
            "application/vnd.jupyter.widget-view+json": {
              "version_major": 2,
              "version_minor": 0,
              "model_id": "97e4fad82c574401a7aa4b35a89ac4c0"
            }
          },
          "metadata": {}
        },
        {
          "output_type": "stream",
          "name": "stdout",
          "text": [
            "Epoch: 0\n",
            "-------\n",
            "\n",
            " Average train loss per batch last epoch: 0.62339 |     Validation loss: 0.50138, Validation acc: 81.73%\n",
            "\n",
            "Epoch: 1\n",
            "-------\n",
            "\n",
            " Average train loss per batch last epoch: 0.48261 |     Validation loss: 0.48367, Validation acc: 82.38%\n",
            "\n",
            "Epoch: 2\n",
            "-------\n",
            "\n",
            " Average train loss per batch last epoch: 0.45979 |     Validation loss: 0.48019, Validation acc: 82.74%\n",
            "\n",
            "Epoch: 3\n",
            "-------\n",
            "\n",
            " Average train loss per batch last epoch: 0.44659 |     Validation loss: 0.45590, Validation acc: 83.42%\n",
            "\n"
          ]
        }
      ]
    },
    {
      "cell_type": "code",
      "source": [
        "train_data[0][0].shape"
      ],
      "metadata": {
        "colab": {
          "base_uri": "https://localhost:8080/"
        },
        "id": "4__hKdaqsbrH",
        "outputId": "cfb7597b-0619-43be-aea4-d926aad67e28"
      },
      "execution_count": 21,
      "outputs": [
        {
          "output_type": "execute_result",
          "data": {
            "text/plain": [
              "torch.Size([1, 28, 28])"
            ]
          },
          "metadata": {},
          "execution_count": 21
        }
      ]
    },
    {
      "cell_type": "code",
      "source": [
        "# Setup device agnostic code\n",
        "import torch\n",
        "device = \"cuda\" if torch.cuda.is_available() else \"cpu\"\n",
        "device"
      ],
      "metadata": {
        "colab": {
          "base_uri": "https://localhost:8080/",
          "height": 36
        },
        "id": "QPruTz57t_RL",
        "outputId": "709a3663-11e5-4613-e212-c5f7e3a4a089"
      },
      "execution_count": 22,
      "outputs": [
        {
          "output_type": "execute_result",
          "data": {
            "text/plain": [
              "'cpu'"
            ],
            "application/vnd.google.colaboratory.intrinsic+json": {
              "type": "string"
            }
          },
          "metadata": {},
          "execution_count": 22
        }
      ]
    },
    {
      "cell_type": "code",
      "source": [
        "# not going to try and optimise the fully connected model above for learning rate etc., at least not now. Let's crack on with a conv net. \n",
        "# Create a convolutional neural network \n",
        "# takes input of size 28 by 28 \n",
        "class Fashion_MNIST_cnn_model(nn.Module):\n",
        "    \"\"\"\n",
        "    Model architecture copying TinyVGG from: \n",
        "    https://poloclub.github.io/cnn-explainer/\n",
        "    via\n",
        "    https://www.learnpytorch.io/03_pytorch_computer_vision/\n",
        "    Implementation adapted slightly.\n",
        "    \"\"\"\n",
        "    def __init__(self, input_channels: int, kernels: int, output_shape: int):\n",
        "        super().__init__()\n",
        "        self.block_1 = nn.Sequential(\n",
        "            nn.Conv2d(in_channels=input_channels, \n",
        "                      out_channels=kernels,   # number of kernels used\n",
        "                      kernel_size=3, # how big is the square that's going over the image?\n",
        "                      stride=1, # default\n",
        "                      padding=1), # pad 1 either side of output which returns to original size\n",
        "            nn.ReLU(),\n",
        "            nn.Conv2d(in_channels=kernels, \n",
        "                      out_channels=kernels,\n",
        "                      kernel_size=3,\n",
        "                      stride=1,\n",
        "                      padding=1),\n",
        "            nn.ReLU(),\n",
        "            nn.MaxPool2d(kernel_size=2,\n",
        "                         stride=2) # default stride value is same as kernel_size\n",
        "                         # pooling reduces size from 28 by 28 to 14 by 14\n",
        "        )\n",
        "        self.block_2 = nn.Sequential(\n",
        "            nn.Conv2d(kernels, kernels, 3, padding=1),\n",
        "            nn.ReLU(),\n",
        "            nn.Conv2d(kernels, kernels, 3, padding=1),\n",
        "            nn.ReLU(),\n",
        "            nn.MaxPool2d(2)\n",
        "        )\n",
        "        # max pool reduces 14 by 14  to 7 by 7\n",
        "        self.classifier = nn.Sequential(\n",
        "            nn.Flatten(),\n",
        "            # flatten the height number of layers and the compressed 2D image\n",
        "            # which is now 7 by 7 into input for linear layer\n",
        "            nn.Linear(in_features=kernels*7*7, \n",
        "                      out_features=output_shape)\n",
        "        )\n",
        "    \n",
        "    def forward(self, x: torch.Tensor):\n",
        "        x = self.block_1(x)\n",
        "        # print(x.shape)\n",
        "        x = self.block_2(x)\n",
        "        # print(x.shape)\n",
        "        x = self.classifier(x)\n",
        "        # print(x.shape)\n",
        "        return x\n",
        "\n"
      ],
      "metadata": {
        "id": "LV82xjJ0v1gE"
      },
      "execution_count": 23,
      "outputs": []
    },
    {
      "cell_type": "code",
      "source": [
        "torch.manual_seed(42)\n",
        "\n",
        "# trying out an input.\n",
        "conv_layer = nn.Conv2d(in_channels=1,\n",
        "                       out_channels=10,\n",
        "                       kernel_size=3,\n",
        "                       stride=1,\n",
        "                       padding=0) \n",
        "\n",
        "# Pass the data through the convolutional layer\n",
        "conv_layer(train_data[0][0]) # Note: If running PyTorch <1.11.0, this will error because of shape issues (nn.Conv.2d() expects a 4d tensor as input) "
      ],
      "metadata": {
        "colab": {
          "base_uri": "https://localhost:8080/"
        },
        "id": "VV4XmFXNmpGg",
        "outputId": "3a55381b-af9b-4735-dddf-1fcfab41f5c3"
      },
      "execution_count": 24,
      "outputs": [
        {
          "output_type": "execute_result",
          "data": {
            "text/plain": [
              "tensor([[[ 0.0705,  0.0705,  0.0705,  ...,  0.0705,  0.0705,  0.0705],\n",
              "         [ 0.0705,  0.0705,  0.0705,  ...,  0.0716,  0.0724,  0.0706],\n",
              "         [ 0.0705,  0.0705,  0.0705,  ...,  0.0719,  0.0679,  0.0748],\n",
              "         ...,\n",
              "         [ 0.0502,  0.0929,  0.3020,  ...,  0.5952,  0.5469,  0.5404],\n",
              "         [ 0.0725,  0.0705,  0.0503,  ...,  0.3280,  0.2323,  0.1284],\n",
              "         [ 0.0705,  0.0705,  0.0705,  ...,  0.0705,  0.0705,  0.0705]],\n",
              "\n",
              "        [[-0.0850, -0.0850, -0.0850,  ..., -0.0850, -0.0850, -0.0850],\n",
              "         [-0.0850, -0.0850, -0.0850,  ..., -0.0848, -0.0838, -0.0842],\n",
              "         [-0.0850, -0.0850, -0.0850,  ..., -0.0809, -0.0849, -0.0833],\n",
              "         ...,\n",
              "         [-0.0650,  0.0453,  0.1523,  ...,  0.2163,  0.1238, -0.0430],\n",
              "         [-0.0869, -0.0850, -0.0688,  ..., -0.1194, -0.1140, -0.1406],\n",
              "         [-0.0850, -0.0850, -0.0850,  ..., -0.0850, -0.0850, -0.0850]],\n",
              "\n",
              "        [[ 0.1987,  0.1987,  0.1987,  ...,  0.1987,  0.1987,  0.1987],\n",
              "         [ 0.1987,  0.1987,  0.1987,  ...,  0.1983,  0.1977,  0.1971],\n",
              "         [ 0.1987,  0.1987,  0.1987,  ...,  0.1941,  0.1949,  0.1969],\n",
              "         ...,\n",
              "         [ 0.1538,  0.1095,  0.1461,  ..., -0.0138,  0.0051,  0.1146],\n",
              "         [ 0.1975,  0.1987,  0.1589,  ...,  0.0942,  0.1576,  0.1633],\n",
              "         [ 0.1987,  0.1987,  0.1987,  ...,  0.1987,  0.1987,  0.1987]],\n",
              "\n",
              "        ...,\n",
              "\n",
              "        [[-0.1125, -0.1125, -0.1125,  ..., -0.1125, -0.1125, -0.1125],\n",
              "         [-0.1125, -0.1125, -0.1125,  ..., -0.1120, -0.1109, -0.1121],\n",
              "         [-0.1125, -0.1125, -0.1125,  ..., -0.1109, -0.1172, -0.1109],\n",
              "         ...,\n",
              "         [-0.1305, -0.1343, -0.1793,  ..., -0.1215, -0.0963, -0.0787],\n",
              "         [-0.1134, -0.1125, -0.1305,  ..., -0.1642, -0.1338, -0.1386],\n",
              "         [-0.1125, -0.1125, -0.1125,  ..., -0.1125, -0.1125, -0.1125]],\n",
              "\n",
              "        [[-0.1182, -0.1182, -0.1182,  ..., -0.1182, -0.1182, -0.1182],\n",
              "         [-0.1182, -0.1182, -0.1182,  ..., -0.1188, -0.1178, -0.1166],\n",
              "         [-0.1182, -0.1182, -0.1182,  ..., -0.1119, -0.1166, -0.1221],\n",
              "         ...,\n",
              "         [-0.2162, -0.4431, -0.4689,  ..., -0.5895, -0.4824, -0.0892],\n",
              "         [-0.1157, -0.1182, -0.2037,  ..., -0.0889, -0.0562, -0.0452],\n",
              "         [-0.1182, -0.1182, -0.1182,  ..., -0.1182, -0.1182, -0.1182]],\n",
              "\n",
              "        [[-0.3225, -0.3225, -0.3225,  ..., -0.3225, -0.3225, -0.3225],\n",
              "         [-0.3225, -0.3225, -0.3225,  ..., -0.3221, -0.3228, -0.3242],\n",
              "         [-0.3225, -0.3225, -0.3225,  ..., -0.3275, -0.3262, -0.3209],\n",
              "         ...,\n",
              "         [-0.3600, -0.3711, -0.3201,  ..., -0.3304, -0.3731, -0.3511],\n",
              "         [-0.3243, -0.3225, -0.3574,  ..., -0.4342, -0.3705, -0.3742],\n",
              "         [-0.3225, -0.3225, -0.3225,  ..., -0.3225, -0.3225, -0.3225]]],\n",
              "       grad_fn=<SqueezeBackward1>)"
            ]
          },
          "metadata": {},
          "execution_count": 24
        }
      ]
    },
    {
      "cell_type": "code",
      "source": [
        "# Get shapes of weight and bias tensors within conv_layer\n",
        "print(f\"conv_layer weight shape: \\n{conv_layer.weight.shape}\")\n",
        "print(f\"\\nconv_layer bias shape: \\n{conv_layer.bias.shape}\")"
      ],
      "metadata": {
        "colab": {
          "base_uri": "https://localhost:8080/"
        },
        "id": "SMFEWfpyv0bJ",
        "outputId": "1580b8d8-3e18-4510-ccbc-98f1a25e0084"
      },
      "execution_count": 25,
      "outputs": [
        {
          "output_type": "stream",
          "name": "stdout",
          "text": [
            "conv_layer weight shape: \n",
            "torch.Size([10, 1, 3, 3])\n",
            "\n",
            "conv_layer bias shape: \n",
            "torch.Size([10])\n"
          ]
        }
      ]
    },
    {
      "cell_type": "code",
      "source": [
        "# Instantiate a model\n",
        "torch.manual_seed(42)\n",
        "model_cnn = Fashion_MNIST_cnn_model(input_channels=1, \n",
        "    kernels=10, \n",
        "    output_shape=len(class_names)).to(device)\n",
        "model_cnn\n"
      ],
      "metadata": {
        "colab": {
          "base_uri": "https://localhost:8080/"
        },
        "id": "lGWe9JDT0VhY",
        "outputId": "3bed1230-72ef-4204-c5a2-27e6b5425c44"
      },
      "execution_count": 26,
      "outputs": [
        {
          "output_type": "execute_result",
          "data": {
            "text/plain": [
              "Fashion_MNIST_cnn_model(\n",
              "  (block_1): Sequential(\n",
              "    (0): Conv2d(1, 10, kernel_size=(3, 3), stride=(1, 1), padding=(1, 1))\n",
              "    (1): ReLU()\n",
              "    (2): Conv2d(10, 10, kernel_size=(3, 3), stride=(1, 1), padding=(1, 1))\n",
              "    (3): ReLU()\n",
              "    (4): MaxPool2d(kernel_size=2, stride=2, padding=0, dilation=1, ceil_mode=False)\n",
              "  )\n",
              "  (block_2): Sequential(\n",
              "    (0): Conv2d(10, 10, kernel_size=(3, 3), stride=(1, 1), padding=(1, 1))\n",
              "    (1): ReLU()\n",
              "    (2): Conv2d(10, 10, kernel_size=(3, 3), stride=(1, 1), padding=(1, 1))\n",
              "    (3): ReLU()\n",
              "    (4): MaxPool2d(kernel_size=2, stride=2, padding=0, dilation=1, ceil_mode=False)\n",
              "  )\n",
              "  (classifier): Sequential(\n",
              "    (0): Flatten(start_dim=1, end_dim=-1)\n",
              "    (1): Linear(in_features=490, out_features=10, bias=True)\n",
              "  )\n",
              ")"
            ]
          },
          "metadata": {},
          "execution_count": 26
        }
      ]
    },
    {
      "cell_type": "code",
      "source": [
        "# cut and paste training loop from before\n",
        "# Import tqdm for progress bar\n",
        "from tqdm.auto import tqdm\n",
        "\n",
        "LEARNING_RATE = 0.1\n",
        "\n",
        "# Setup loss function and optimizer\n",
        "calculate_loss = nn.CrossEntropyLoss()\n",
        "optimizer = torch.optim.SGD(params=model_cnn.parameters(), lr=LEARNING_RATE)\n",
        "\n",
        "# Set the seed and start the timer\n",
        "torch.manual_seed(42)\n",
        "#train_time_start_on_cpu = timer()\n",
        "\n",
        "EPOCHS = 4\n",
        "\n",
        "# Create training and testing loop\n",
        "for epoch in tqdm(range(EPOCHS)):\n",
        "    print(f\"Epoch: {epoch}\\n-------\")\n",
        "    ### Training\n",
        "    train_loss = 0\n",
        "    # Add a loop to loop through training batches\n",
        "    for batch, (X, y) in enumerate(train_batches_dl):\n",
        "        model_cnn.train() # ensuring in training mode, which it should be by default\n",
        "        # 1. Forward pass\n",
        "        y_pred = model_cnn(X)\n",
        "        #print(y_pred)\n",
        "\n",
        "        # 2. Calculate loss (per batch)\n",
        "        loss = calculate_loss(y_pred, y)\n",
        "        train_loss += loss # accumulatively add up the loss per epoch \n",
        "\n",
        "        # 3. Optimizer zero grad\n",
        "        optimizer.zero_grad()\n",
        "\n",
        "        # 4. Loss backward\n",
        "        loss.backward()\n",
        "\n",
        "        # 5. Optimizer step\n",
        "        optimizer.step()\n",
        "\n",
        "       # # Print out how many samples have been seen\n",
        "        #if batch % 400 == 0:\n",
        "         #   print(f\"Looked at {batch * len(X)}/{len(train_dataloader.dataset)} samples\")\n",
        "\n",
        "    # Divide total train loss by length of train dataloader (average loss per batch per epoch)\n",
        "    train_loss /= len(train_batches_dl)\n",
        "    \n",
        "    ### Validation\n",
        "    # Setup variables for accumulatively adding up loss and accuracy \n",
        "    val_loss, val_acc = 0, 0 \n",
        "    model_cnn.eval()\n",
        "    with torch.inference_mode():\n",
        "    # doing in batches allows less memory usage but may not be the fastest\n",
        "        for X, y in validation_batches_dl: \n",
        "            # 1. Forward pass\n",
        "            val_pred = model_cnn(X)\n",
        "           \n",
        "            # 2. Calculate loss (accumatively)\n",
        "            val_loss += calculate_loss(val_pred, y) # accumulatively add up the loss per epoch\n",
        "\n",
        "            # 3. Calculate accuracy (preds need to be same as y_true)\n",
        "            val_acc += calculate_accuracy(y, val_pred.argmax(dim=1))\n",
        "        \n",
        "        # Calculations on test metrics need to happen inside torch.inference_mode()\n",
        "        # Divide total test loss by length of test dataloader (per batch)\n",
        "        val_loss /= len(validation_batches_dl)\n",
        "\n",
        "        # Divide total accuracy by length of test dataloader (per batch)\n",
        "        val_acc /= len(validation_batches_dl)\n",
        "\n",
        "    ## Print out what's happening\n",
        "    print(f\"\\n Average train loss per batch last epoch: {train_loss:.5f} |\\\n",
        "     Validation loss: {val_loss:.5f}, Validation acc: {val_acc:.2f}%\\n\")\n"
      ],
      "metadata": {
        "colab": {
          "base_uri": "https://localhost:8080/",
          "height": 418,
          "referenced_widgets": [
            "a976bf0f282c4199a21a975ba260e76b",
            "28bd62769db44ddcbb4015b3e3eb7023",
            "afb1fe4a057747efaa089bc5d2549349",
            "c061b148fbb741efadde8941c1aeee02",
            "3e654627b7004b599bdc4792d926ae3e",
            "9b18ae9f38e54ee8a097424bf0f1a84d",
            "d7d8345bc42c430b9541a86183b65c09",
            "2a561e98240a43a194852870f00ad99c",
            "ca6a6ea2dc344523b97c2ad4f9790389",
            "b61952a945004b689ed03088c53fb709",
            "79a732759970422bb19942aa67128c23"
          ]
        },
        "outputId": "06bf2cab-c836-46c0-ab7d-4ddf3dccfa07",
        "id": "FpEZsom-0YrN"
      },
      "execution_count": 27,
      "outputs": [
        {
          "output_type": "display_data",
          "data": {
            "text/plain": [
              "  0%|          | 0/4 [00:00<?, ?it/s]"
            ],
            "application/vnd.jupyter.widget-view+json": {
              "version_major": 2,
              "version_minor": 0,
              "model_id": "a976bf0f282c4199a21a975ba260e76b"
            }
          },
          "metadata": {}
        },
        {
          "output_type": "stream",
          "name": "stdout",
          "text": [
            "Epoch: 0\n",
            "-------\n",
            "\n",
            " Average train loss per batch last epoch: 0.59518 |     Validation loss: 0.40086, Validation acc: 85.71%\n",
            "\n",
            "Epoch: 1\n",
            "-------\n",
            "\n",
            " Average train loss per batch last epoch: 0.36536 |     Validation loss: 0.35564, Validation acc: 86.52%\n",
            "\n",
            "Epoch: 2\n",
            "-------\n",
            "\n",
            " Average train loss per batch last epoch: 0.32588 |     Validation loss: 0.33178, Validation acc: 87.74%\n",
            "\n",
            "Epoch: 3\n",
            "-------\n",
            "\n",
            " Average train loss per batch last epoch: 0.30489 |     Validation loss: 0.33054, Validation acc: 88.00%\n",
            "\n"
          ]
        }
      ]
    },
    {
      "cell_type": "code",
      "source": [
        "# not going to try and optimise the fully connected model above for learning rate etc., at least not now. Let's crack on with a conv net. \n",
        "# Create a convolutional neural network \n",
        "# takes input of size 28 by 28 \n",
        "# same model but with different weight initialisations\n",
        "class Fashion_MNIST_cnn_model_1(nn.Module):\n",
        "    \"\"\"\n",
        "    Model architecture copying TinyVGG from: \n",
        "    https://poloclub.github.io/cnn-explainer/\n",
        "    via\n",
        "    https://www.learnpytorch.io/03_pytorch_computer_vision/\n",
        "    Implementation adapted slightly.\n",
        "    \"\"\"\n",
        "    def __init__(self, input_channels: int, kernels: int, output_shape: int):\n",
        "        super().__init__()\n",
        "        self.L0 = nn.Conv2d(in_channels=input_channels, \n",
        "                      out_channels=kernels,   # number of kernels used\n",
        "                      kernel_size=3, # how big is the square that's going over the image?\n",
        "                      stride=1, # default\n",
        "                      padding=1) # pad 1 either side of output which returns to original size\n",
        "        self.L1 = nn.Conv2d(in_channels=kernels, \n",
        "                      out_channels=kernels,\n",
        "                      kernel_size=3,\n",
        "                      stride=1,\n",
        "                      padding=1)\n",
        "        nn.init.constant_(self.L0.bias, 0.0)\n",
        "        nn.init.kaiming_normal_(self.L0.weight, \\\n",
        "                              mode='fan_in', \\\n",
        "                             nonlinearity='relu')\n",
        "        nn.init.constant_(self.L1.bias, 0.0)\n",
        "        nn.init.kaiming_normal_(self.L1.weight, \\\n",
        "                                mode='fan_in', \\\n",
        "                                nonlinearity='relu')\n",
        "        \n",
        "        self.L2 = nn.Conv2d(in_channels=kernels, \n",
        "                      out_channels=kernels,\n",
        "                      kernel_size=3,\n",
        "                      stride=1,\n",
        "                      padding=1)\n",
        "        nn.init.constant_(self.L2.bias, 0.0)\n",
        "        nn.init.kaiming_normal_(self.L2.weight, \\\n",
        "                                mode='fan_in', \\\n",
        "                                nonlinearity='relu')\n",
        "              \n",
        "        self.L3 = nn.Conv2d(in_channels=kernels, \n",
        "                      out_channels=kernels,\n",
        "                      kernel_size=3,\n",
        "                      stride=1,\n",
        "                      padding=1)\n",
        "        nn.init.constant_(self.L3.bias, 0.0)\n",
        "        nn.init.kaiming_normal_(self.L3.weight, \\\n",
        "                                mode='fan_in', \\\n",
        "                                nonlinearity='relu')\n",
        "        \n",
        "\n",
        "        self.L4 = nn.Linear(in_features=kernels*7*7, \n",
        "                      out_features=output_shape)\n",
        "        with torch.no_grad():\n",
        "          self.L4.weight.data = self.L4.weight.data * 0.01\n",
        "          nn.init.constant_(self.L4.bias, 0.0)\n",
        "\n",
        "        self.pool_1 = nn.MaxPool2d(kernel_size=2,\n",
        "                         stride=2)\n",
        "        self.pool_2 = nn.MaxPool2d(kernel_size=2,\n",
        "                         stride=2)\n",
        "        \n",
        "        self.relu1 = nn.ReLU()\n",
        "        self.relu2 = nn.ReLU()\n",
        "        self.relu3 = nn.ReLU()\n",
        "        self.flatten = nn.Flatten()\n",
        "\n",
        "\n",
        "    def forward(self, x: torch.Tensor):\n",
        "      x = self.L0(x)\n",
        "      x = self.relu1(x)\n",
        "      x = self.pool_1(x)\n",
        "      x = self.L2(x)\n",
        "      x = self.relu2(x)\n",
        "      x = self.L3(x)\n",
        "      x = self.relu3(x)\n",
        "      x = self.pool_1(x)\n",
        "      x = self.flatten(x)\n",
        "      x = self.L4(x)\n",
        "      return x\n",
        "      \n",
        "\n"
      ],
      "metadata": {
        "id": "dxPJpafO4M6g"
      },
      "execution_count": 28,
      "outputs": []
    },
    {
      "cell_type": "code",
      "source": [
        "# Instantiate a model\n",
        "torch.manual_seed(42)\n",
        "model_cnn_1 = Fashion_MNIST_cnn_model_1(input_channels=1, \n",
        "    kernels=10, \n",
        "    output_shape=len(class_names)).to(device)\n",
        "model_cnn_1"
      ],
      "metadata": {
        "colab": {
          "base_uri": "https://localhost:8080/"
        },
        "id": "wdGFCWQM7T72",
        "outputId": "ac1671b0-19ca-496f-bf64-f8ab69e9f3c6"
      },
      "execution_count": 29,
      "outputs": [
        {
          "output_type": "execute_result",
          "data": {
            "text/plain": [
              "Fashion_MNIST_cnn_model_1(\n",
              "  (L0): Conv2d(1, 10, kernel_size=(3, 3), stride=(1, 1), padding=(1, 1))\n",
              "  (L1): Conv2d(10, 10, kernel_size=(3, 3), stride=(1, 1), padding=(1, 1))\n",
              "  (L2): Conv2d(10, 10, kernel_size=(3, 3), stride=(1, 1), padding=(1, 1))\n",
              "  (L3): Conv2d(10, 10, kernel_size=(3, 3), stride=(1, 1), padding=(1, 1))\n",
              "  (L4): Linear(in_features=490, out_features=10, bias=True)\n",
              "  (pool_1): MaxPool2d(kernel_size=2, stride=2, padding=0, dilation=1, ceil_mode=False)\n",
              "  (pool_2): MaxPool2d(kernel_size=2, stride=2, padding=0, dilation=1, ceil_mode=False)\n",
              "  (relu1): ReLU()\n",
              "  (relu2): ReLU()\n",
              "  (relu3): ReLU()\n",
              "  (flatten): Flatten(start_dim=1, end_dim=-1)\n",
              ")"
            ]
          },
          "metadata": {},
          "execution_count": 29
        }
      ]
    },
    {
      "cell_type": "code",
      "source": [
        "# cut and paste training loop from before\n",
        "# Import tqdm for progress bar\n",
        "from tqdm.auto import tqdm\n",
        "\n",
        "LEARNING_RATE = 0.1\n",
        "MODEL_NAME = model_cnn_1\n",
        "\n",
        "# Setup loss function and optimizer\n",
        "calculate_loss = nn.CrossEntropyLoss()\n",
        "optimizer = torch.optim.SGD(params=MODEL_NAME.parameters(), lr=LEARNING_RATE)\n",
        "\n",
        "# Set the seed and start the timer\n",
        "torch.manual_seed(42)\n",
        "#train_time_start_on_cpu = timer()\n",
        "\n",
        "EPOCHS = 4\n",
        "\n",
        "# Create training and testing loop\n",
        "for epoch in tqdm(range(EPOCHS)):\n",
        "    print(f\"Epoch: {epoch}\\n-------\")\n",
        "    ### Training\n",
        "    train_loss = 0\n",
        "    # Add a loop to loop through training batches\n",
        "    for batch, (X, y) in enumerate(train_batches_dl):\n",
        "        MODEL_NAME.train() # ensuring in training mode, which it should be by default\n",
        "        # 1. Forward pass\n",
        "        y_pred = MODEL_NAME(X)\n",
        "        #print(y_pred)\n",
        "\n",
        "        # 2. Calculate loss (per batch)\n",
        "        loss = calculate_loss(y_pred, y)\n",
        "        train_loss += loss # accumulatively add up the loss per epoch \n",
        "\n",
        "        # 3. Optimizer zero grad\n",
        "        optimizer.zero_grad()\n",
        "\n",
        "        # 4. Loss backward\n",
        "        loss.backward()\n",
        "\n",
        "        # 5. Optimizer step\n",
        "        optimizer.step()\n",
        "\n",
        "       # # Print out how many samples have been seen\n",
        "        #if batch % 400 == 0:\n",
        "         #   print(f\"Looked at {batch * len(X)}/{len(train_dataloader.dataset)} samples\")\n",
        "\n",
        "    # Divide total train loss by length of train dataloader (average loss per batch per epoch)\n",
        "    train_loss /= len(train_batches_dl)\n",
        "    \n",
        "    ### Validation\n",
        "    # Setup variables for accumulatively adding up loss and accuracy \n",
        "    val_loss, val_acc = 0, 0 \n",
        "    MODEL_NAME.eval()\n",
        "    with torch.inference_mode():\n",
        "    # doing in batches allows less memory usage but may not be the fastest\n",
        "        for X, y in validation_batches_dl: \n",
        "            # 1. Forward pass\n",
        "            val_pred = MODEL_NAME(X)\n",
        "           \n",
        "            # 2. Calculate loss (accumatively)\n",
        "            val_loss += calculate_loss(val_pred, y) # accumulatively add up the loss per epoch\n",
        "\n",
        "            # 3. Calculate accuracy (preds need to be same as y_true)\n",
        "            val_acc += calculate_accuracy(y, val_pred.argmax(dim=1))\n",
        "        \n",
        "        # Calculations on test metrics need to happen inside torch.inference_mode()\n",
        "        # Divide total test loss by length of test dataloader (per batch)\n",
        "        val_loss /= len(validation_batches_dl)\n",
        "\n",
        "        # Divide total accuracy by length of test dataloader (per batch)\n",
        "        val_acc /= len(validation_batches_dl)\n",
        "\n",
        "    ## Print out what's happening\n",
        "    print(f\"\\n Average train loss per batch last epoch: {train_loss:.5f} |\\\n",
        "     Validation loss: {val_loss:.5f}, Validation acc: {val_acc:.2f}%\\n\")"
      ],
      "metadata": {
        "colab": {
          "base_uri": "https://localhost:8080/",
          "height": 418,
          "referenced_widgets": [
            "b4ef098c98004b93a89421f649b7cc8e",
            "5efc53327c864e55981d6c8c1bade031",
            "88b2204367fd43738f22787f02759d7e",
            "d7bc51b7ae2b4609b76e0572bbdc0bc1",
            "940aa0913029425eb340b6a5f221713a",
            "ecb2b5370a1f4c8994d0ad7d60ed2b19",
            "1a0d55a7c4024b06a4a9d09f9284c36e",
            "fa5cc6f739e9449eb315a271451ee589",
            "722279679af548d2907f2b8af7e82ae0",
            "ad4de71644f6418abffd6ecfacce33dc",
            "ad09dce7b3a34da6b00ce011e2ef8f0d"
          ]
        },
        "id": "jypyuOOQ6rMG",
        "outputId": "f9f9d2d6-f349-4eca-96fb-1e62711697a3"
      },
      "execution_count": 30,
      "outputs": [
        {
          "output_type": "display_data",
          "data": {
            "text/plain": [
              "  0%|          | 0/4 [00:00<?, ?it/s]"
            ],
            "application/vnd.jupyter.widget-view+json": {
              "version_major": 2,
              "version_minor": 0,
              "model_id": "b4ef098c98004b93a89421f649b7cc8e"
            }
          },
          "metadata": {}
        },
        {
          "output_type": "stream",
          "name": "stdout",
          "text": [
            "Epoch: 0\n",
            "-------\n",
            "\n",
            " Average train loss per batch last epoch: 0.48127 |     Validation loss: 0.38380, Validation acc: 85.81%\n",
            "\n",
            "Epoch: 1\n",
            "-------\n",
            "\n",
            " Average train loss per batch last epoch: 0.34161 |     Validation loss: 0.33982, Validation acc: 87.00%\n",
            "\n",
            "Epoch: 2\n",
            "-------\n",
            "\n",
            " Average train loss per batch last epoch: 0.31140 |     Validation loss: 0.32312, Validation acc: 87.94%\n",
            "\n",
            "Epoch: 3\n",
            "-------\n",
            "\n",
            " Average train loss per batch last epoch: 0.29388 |     Validation loss: 0.31657, Validation acc: 88.48%\n",
            "\n"
          ]
        }
      ]
    },
    {
      "cell_type": "markdown",
      "source": [
        "From the above we see that good initialisation gets us two epochs worth of training ahead of the game! (although would need to show this from more randome seeds to be convincing that this was generalisable!)"
      ],
      "metadata": {
        "id": "yNwOqdFvS-1O"
      }
    },
    {
      "cell_type": "code",
      "source": [
        "def make_predictions(model: torch.nn.Module, data: list, device: torch.device = device):\n",
        "    pred_probs = []\n",
        "    model.eval()\n",
        "    with torch.inference_mode():\n",
        "        for sample in data:\n",
        "            # Prepare sample\n",
        "            sample = torch.unsqueeze(sample, dim=0).to(device) # Add an extra dimension and send sample to device\n",
        "\n",
        "            # Forward pass (model outputs raw logit)\n",
        "            pred_logit = model(sample)\n",
        "\n",
        "            # Get prediction probability (logit -> prediction probability)\n",
        "            pred_prob = torch.softmax(pred_logit.squeeze(), dim=0)\n",
        "\n",
        "            # Get pred_prob off GPU for further calculations\n",
        "            pred_probs.append(pred_prob.cpu())\n",
        "            \n",
        "    # Stack the pred_probs to turn list into a tensor\n",
        "    return torch.stack(pred_probs)\n",
        "\n",
        "    "
      ],
      "metadata": {
        "id": "IFp_resH3LdU"
      },
      "execution_count": 31,
      "outputs": []
    },
    {
      "cell_type": "code",
      "source": [
        "# sample from our test data\n",
        "import random\n",
        "random.seed(42)\n",
        "test_samples = []\n",
        "test_labels = []\n",
        "for sample, label in random.sample(list(test_data), k=9):\n",
        "    test_samples.append(sample)\n",
        "    test_labels.append(label)\n",
        "\n",
        "# View the first test sample shape and label\n",
        "print(f\"Test sample image shape: {test_samples[0].shape}\\nTest sample label: {test_labels[0]} ({class_names[test_labels[0]]})\")\n",
        "print(f\"Test sample image shape: {test_samples[0].shape}\\nTest sample label: {test_labels[1]} ({class_names[test_labels[1]]})\")\n",
        "\n",
        "# Make predictions on test samples with model_cnn_1\n",
        "pred_probs= make_predictions(model=model_cnn_1, \n",
        "                             data=test_samples)\n",
        "\n",
        "# View first two prediction probabilities list\n",
        "pred_probs[:2]"
      ],
      "metadata": {
        "colab": {
          "base_uri": "https://localhost:8080/"
        },
        "id": "O4fXtWwO39bz",
        "outputId": "2607b103-bfae-4204-bef4-df9f36e0cf7d"
      },
      "execution_count": 32,
      "outputs": [
        {
          "output_type": "stream",
          "name": "stdout",
          "text": [
            "Test sample image shape: torch.Size([1, 28, 28])\n",
            "Test sample label: 6 (Shirt)\n",
            "Test sample image shape: torch.Size([1, 28, 28])\n",
            "Test sample label: 6 (Shirt)\n"
          ]
        },
        {
          "output_type": "execute_result",
          "data": {
            "text/plain": [
              "tensor([[3.4172e-03, 7.9099e-04, 1.5188e-01, 1.3130e-01, 5.0661e-01, 2.5196e-04,\n",
              "         1.7829e-01, 1.9535e-04, 2.6997e-02, 2.6363e-04],\n",
              "        [7.8914e-04, 6.4704e-05, 2.0670e-02, 7.9454e-04, 7.0983e-02, 5.4028e-05,\n",
              "         9.0632e-01, 1.7654e-05, 2.4591e-04, 6.1136e-05]])"
            ]
          },
          "metadata": {},
          "execution_count": 32
        }
      ]
    },
    {
      "cell_type": "markdown",
      "source": [
        "So we got the first example wrong and the second correct!\n"
      ],
      "metadata": {
        "id": "y8JLnwMYUeCc"
      }
    },
    {
      "cell_type": "code",
      "source": [
        "# Turn the prediction probabilities into prediction labels by taking the argmax()\n",
        "pred_classes = pred_probs.argmax(dim=1)\n",
        "pred_classes"
      ],
      "metadata": {
        "colab": {
          "base_uri": "https://localhost:8080/"
        },
        "id": "xtKPNzyMUEqR",
        "outputId": "fa896bd7-2bbd-4298-d70c-8c94054028fc"
      },
      "execution_count": 33,
      "outputs": [
        {
          "output_type": "execute_result",
          "data": {
            "text/plain": [
              "tensor([4, 6, 2, 9, 5, 9, 6, 4, 1])"
            ]
          },
          "metadata": {},
          "execution_count": 33
        }
      ]
    },
    {
      "cell_type": "code",
      "source": [
        "# Are our predictions in the same form as our test labels? \n",
        "test_labels, pred_classes"
      ],
      "metadata": {
        "colab": {
          "base_uri": "https://localhost:8080/"
        },
        "id": "uEEtZnRJUn4g",
        "outputId": "54a4ecaa-0d64-4a39-9bc3-06d3b02902b0"
      },
      "execution_count": 34,
      "outputs": [
        {
          "output_type": "execute_result",
          "data": {
            "text/plain": [
              "([6, 6, 6, 9, 5, 9, 6, 4, 1], tensor([4, 6, 2, 9, 5, 9, 6, 4, 1]))"
            ]
          },
          "metadata": {},
          "execution_count": 34
        }
      ]
    },
    {
      "cell_type": "code",
      "source": [
        "# calculate test set accuracy and compare to validation \n",
        "    ### test set confirmation of best model\n",
        "MODEL_NAME = model_cnn_1\n",
        "# Setup variables for accumulatively adding up loss and accuracy \n",
        "test_loss, test_acc = 0, 0 \n",
        "MODEL_NAME.eval()\n",
        "with torch.inference_mode():\n",
        "# doing in batches allows less memory usage but may not be the fastest\n",
        "    for X, y in validation_batches_dl: \n",
        "        # 1. Forward pass\n",
        "        test_pred = MODEL_NAME(X)\n",
        "        \n",
        "        # 2. Calculate loss (accumatively)\n",
        "        test_loss += calculate_loss(test_pred, y) # accumulatively add up the loss per epoch\n",
        "\n",
        "        # 3. Calculate accuracy (preds need to be same as y_true)\n",
        "        test_acc += calculate_accuracy(y, test_pred.argmax(dim=1))\n",
        "    \n",
        "    # Calculations on test metrics need to happen inside torch.inference_mode()\n",
        "    # Divide total test loss by length of test dataloader (per batch)\n",
        "    test_loss /= len(validation_batches_dl)\n",
        "\n",
        "    # Divide total accuracy by length of test dataloader (per batch)\n",
        "    test_acc /= len(validation_batches_dl)\n",
        "\n",
        "## Print out what's happening\n",
        "print(f\"\\n \\\n",
        "  Test set loss: {test_loss:.5f}, Test set acc: {test_acc:.2f}%\\n\")\n"
      ],
      "metadata": {
        "colab": {
          "base_uri": "https://localhost:8080/"
        },
        "id": "Qq_NN0WCU5T_",
        "outputId": "d089bb5c-b6e9-4d54-a898-4edadd2af164"
      },
      "execution_count": 38,
      "outputs": [
        {
          "output_type": "stream",
          "name": "stdout",
          "text": [
            "\n",
            "   Test set loss: 0.31657, Test set acc: 88.48%\n",
            "\n"
          ]
        }
      ]
    },
    {
      "cell_type": "code",
      "source": [
        "# calculate the confusion matrix\n",
        "# Import tqdm for progress bar\n",
        "from tqdm.auto import tqdm\n",
        "\n",
        "# 1. Make predictions with trained model\n",
        "y_preds = []\n",
        "MODEL_NAME.eval()\n",
        "with torch.inference_mode():\n",
        "  for X, y in tqdm(test_batches_dl, desc=\"Making predictions\"):\n",
        "    # Send data and targets to target device\n",
        "    X, y = X.to(device), y.to(device)\n",
        "    # Do the forward pass\n",
        "    y_logit = MODEL_NAME(X)\n",
        "    # Turn predictions from logits -> prediction probabilities -> predictions labels\n",
        "    y_pred = torch.softmax(y_logit, dim=1).argmax(dim=1)\n",
        "    # Put predictions on CPU for evaluation\n",
        "    y_preds.append(y_pred.cpu())\n",
        "# Concatenate list of predictions into a tensor\n",
        "y_pred_tensor = torch.cat(y_preds)"
      ],
      "metadata": {
        "colab": {
          "base_uri": "https://localhost:8080/",
          "height": 49,
          "referenced_widgets": [
            "1fc9ff5746684d4b82de630522f9258b",
            "912ed01a66cc4a4c923cdd37b7882169",
            "1aabb49884b940b997c92d68ed019a83",
            "00ba94a9b4e8496ca206a8f0b720c2ed",
            "172f981e8a124a28bd492e8f0d5542e2",
            "5a0c9a450a6346229979513dd810ac96",
            "5f8bec213fa043d49516599633c25bf6",
            "57362871fc6f4217b22d882d7953cca9",
            "2cfdf267fdcb42f09870151b0d659dfe",
            "9a530272c97144bdaad0dabdec1997fc",
            "c1e96f733b7747beac2694c3a80ce9c6"
          ]
        },
        "id": "EqYcVZxLU_rH",
        "outputId": "9e188531-1333-4448-dd1b-033f32ab1ea0"
      },
      "execution_count": 40,
      "outputs": [
        {
          "output_type": "display_data",
          "data": {
            "text/plain": [
              "Making predictions:   0%|          | 0/157 [00:00<?, ?it/s]"
            ],
            "application/vnd.jupyter.widget-view+json": {
              "version_major": 2,
              "version_minor": 0,
              "model_id": "1fc9ff5746684d4b82de630522f9258b"
            }
          },
          "metadata": {}
        }
      ]
    },
    {
      "cell_type": "code",
      "source": [
        "import torchmetrics, mlxtend"
      ],
      "metadata": {
        "colab": {
          "base_uri": "https://localhost:8080/",
          "height": 320
        },
        "id": "QUS4sV70Fuif",
        "outputId": "7a1024c5-24a1-488f-8c8b-498e26cd97ad"
      },
      "execution_count": 43,
      "outputs": [
        {
          "output_type": "error",
          "ename": "ModuleNotFoundError",
          "evalue": "ignored",
          "traceback": [
            "\u001b[0;31m---------------------------------------------------------------------------\u001b[0m",
            "\u001b[0;31mModuleNotFoundError\u001b[0m                       Traceback (most recent call last)",
            "\u001b[0;32m<ipython-input-43-164c7c00d81e>\u001b[0m in \u001b[0;36m<cell line: 1>\u001b[0;34m()\u001b[0m\n\u001b[0;32m----> 1\u001b[0;31m \u001b[0;32mimport\u001b[0m \u001b[0mtorchmetrics\u001b[0m\u001b[0;34m,\u001b[0m \u001b[0mmlxtend\u001b[0m\u001b[0;34m\u001b[0m\u001b[0;34m\u001b[0m\u001b[0m\n\u001b[0m",
            "\u001b[0;31mModuleNotFoundError\u001b[0m: No module named 'torchmetrics'",
            "",
            "\u001b[0;31m---------------------------------------------------------------------------\u001b[0;32m\nNOTE: If your import is failing due to a missing package, you can\nmanually install dependencies using either !pip or !apt.\n\nTo view examples of installing some common dependencies, click the\n\"Open Examples\" button below.\n\u001b[0;31m---------------------------------------------------------------------------\u001b[0m\n"
          ],
          "errorDetails": {
            "actions": [
              {
                "action": "open_url",
                "actionText": "Open Examples",
                "url": "/notebooks/snippets/importing_libraries.ipynb"
              }
            ]
          }
        }
      ]
    },
    {
      "cell_type": "code",
      "source": [
        "# See if torchmetrics exists, if not, install it\n",
        "try:\n",
        "    import torchmetrics, mlxtend\n",
        "    print(f\"mlxtend version: {mlxtend.__version__}\")\n",
        "    assert int(mlxtend.__version__.split(\".\")[1]) >= 19, \"mlxtend verison should be 0.19.0 or higher\"\n",
        "except:\n",
        "    !pip install -q torchmetrics -U mlxtend # <- Note: If you're using Google Colab, this may require restarting the runtime\n",
        "    import torchmetrics, mlxtend\n",
        "    print(f\"mlxtend version: {mlxtend.__version__}\")\n",
        "    "
      ],
      "metadata": {
        "colab": {
          "base_uri": "https://localhost:8080/"
        },
        "id": "LBVewEXVFr3M",
        "outputId": "224f92e0-2ceb-4fcb-f2cc-d33ebb760964"
      },
      "execution_count": 44,
      "outputs": [
        {
          "output_type": "stream",
          "name": "stdout",
          "text": [
            "\u001b[2K     \u001b[90m━━━━━━━━━━━━━━━━━━━━━━━━━━━━━━━━━━━━━━━\u001b[0m \u001b[32m519.2/519.2 KB\u001b[0m \u001b[31m8.2 MB/s\u001b[0m eta \u001b[36m0:00:00\u001b[0m\n",
            "\u001b[2K     \u001b[90m━━━━━━━━━━━━━━━━━━━━━━━━━━━━━━━━━━━━━━━━\u001b[0m \u001b[32m1.4/1.4 MB\u001b[0m \u001b[31m36.8 MB/s\u001b[0m eta \u001b[36m0:00:00\u001b[0m\n",
            "\u001b[?25hmlxtend version: 0.22.0\n"
          ]
        }
      ]
    },
    {
      "cell_type": "code",
      "source": [
        "type(test_data)"
      ],
      "metadata": {
        "colab": {
          "base_uri": "https://localhost:8080/"
        },
        "id": "7M-vbDJwIgtP",
        "outputId": "e6aab729-439f-4d4e-b6a6-42800a310c2c"
      },
      "execution_count": 66,
      "outputs": [
        {
          "output_type": "execute_result",
          "data": {
            "text/plain": [
              "torch.utils.data.dataset.Subset"
            ]
          },
          "metadata": {},
          "execution_count": 66
        }
      ]
    },
    {
      "cell_type": "code",
      "source": [
        "len(test_data)"
      ],
      "metadata": {
        "colab": {
          "base_uri": "https://localhost:8080/"
        },
        "id": "cOkFmkqSJgt3",
        "outputId": "7306d918-2520-4349-d843-e23486c3283a"
      },
      "execution_count": 67,
      "outputs": [
        {
          "output_type": "execute_result",
          "data": {
            "text/plain": [
              "5000"
            ]
          },
          "metadata": {},
          "execution_count": 67
        }
      ]
    },
    {
      "cell_type": "code",
      "source": [],
      "metadata": {
        "id": "eZ9dkw2ALmvT"
      },
      "execution_count": null,
      "outputs": []
    },
    {
      "cell_type": "code",
      "source": [
        "X, y = test_data[0]\n",
        "print(y)"
      ],
      "metadata": {
        "colab": {
          "base_uri": "https://localhost:8080/"
        },
        "id": "OJlSzG_POC1u",
        "outputId": "a94d412f-6ff9-438b-b226-4dd2703bddba"
      },
      "execution_count": 88,
      "outputs": [
        {
          "output_type": "stream",
          "name": "stdout",
          "text": [
            "2\n"
          ]
        }
      ]
    },
    {
      "cell_type": "code",
      "source": [
        "test_data[1][0][0]"
      ],
      "metadata": {
        "colab": {
          "base_uri": "https://localhost:8080/"
        },
        "id": "mob9AiOWLKbK",
        "outputId": "5ea81d64-0ede-4e3a-ab95-29c412c3af19"
      },
      "execution_count": 75,
      "outputs": [
        {
          "output_type": "execute_result",
          "data": {
            "text/plain": [
              "tensor([[0.0000, 0.0000, 0.0000, 0.0000, 0.0000, 0.0000, 0.0000, 0.0000, 0.0000,\n",
              "         0.0627, 0.3529, 0.1686, 0.0000, 0.0000, 0.0000, 0.0000, 0.0000, 0.0000,\n",
              "         0.1569, 0.3176, 0.0667, 0.0000, 0.0000, 0.0000, 0.0000, 0.0000, 0.0000,\n",
              "         0.0000],\n",
              "        [0.0000, 0.0000, 0.0000, 0.0000, 0.0000, 0.0039, 0.0000, 0.0196, 0.2314,\n",
              "         0.3098, 0.0980, 0.2510, 0.1137, 0.1098, 0.3020, 0.0706, 0.0588, 0.2392,\n",
              "         0.1137, 0.1490, 0.2588, 0.2000, 0.0157, 0.0000, 0.0000, 0.0000, 0.0000,\n",
              "         0.0000],\n",
              "        [0.0000, 0.0000, 0.0000, 0.0039, 0.0078, 0.0000, 0.0471, 0.3216, 0.1882,\n",
              "         0.0314, 0.1412, 1.0000, 0.5059, 0.5059, 0.8392, 0.7882, 0.7569, 0.4784,\n",
              "         0.7216, 0.2588, 0.0039, 0.2941, 0.2627, 0.0000, 0.0000, 0.0000, 0.0000,\n",
              "         0.0000],\n",
              "        [0.0000, 0.0039, 0.0000, 0.0078, 0.0000, 0.0196, 0.2000, 0.3294, 0.1961,\n",
              "         0.0275, 0.9843, 0.8824, 0.8902, 0.7451, 0.4588, 0.4863, 0.5961, 0.7882,\n",
              "         0.9451, 0.8431, 0.2471, 0.0196, 0.3647, 0.1961, 0.0000, 0.0000, 0.0000,\n",
              "         0.0000],\n",
              "        [0.0000, 0.0000, 0.0000, 0.0000, 0.0000, 0.1412, 0.1843, 0.2745, 0.0000,\n",
              "         0.7373, 0.9059, 0.8275, 0.8353, 0.9451, 0.9804, 0.9804, 0.9529, 0.8824,\n",
              "         0.8118, 0.9059, 0.8706, 0.0863, 0.1608, 0.2745, 0.0235, 0.0000, 0.0039,\n",
              "         0.0000],\n",
              "        [0.0000, 0.0000, 0.0000, 0.0000, 0.0000, 0.2078, 0.1843, 0.0392, 0.4588,\n",
              "         0.9098, 0.8314, 0.8510, 0.8784, 0.8235, 0.8275, 0.8157, 0.8196, 0.8314,\n",
              "         0.8706, 0.8235, 0.9059, 0.3725, 0.0314, 0.2667, 0.1137, 0.0000, 0.0078,\n",
              "         0.0000],\n",
              "        [0.0000, 0.0000, 0.0039, 0.0000, 0.0784, 0.2235, 0.1490, 0.0902, 0.9961,\n",
              "         0.8549, 0.8549, 0.8471, 0.8392, 0.8510, 0.8510, 0.8510, 0.8667, 0.8510,\n",
              "         0.8588, 0.8627, 0.8941, 0.8745, 0.0196, 0.2157, 0.2000, 0.0000, 0.0000,\n",
              "         0.0000],\n",
              "        [0.0000, 0.0000, 0.0000, 0.0000, 0.1686, 0.2000, 0.0902, 0.1804, 0.8745,\n",
              "         0.8392, 0.8471, 0.8510, 0.8510, 0.8510, 0.8392, 0.8431, 0.8392, 0.8353,\n",
              "         0.8275, 0.8588, 0.8745, 0.9725, 0.0549, 0.1529, 0.2549, 0.0078, 0.0000,\n",
              "         0.0039],\n",
              "        [0.0000, 0.0000, 0.0000, 0.0118, 0.2196, 0.2078, 0.0196, 0.2588, 0.9020,\n",
              "         0.8392, 0.8549, 0.8510, 0.8471, 0.8510, 0.8392, 0.8549, 0.8471, 0.8196,\n",
              "         0.8275, 0.8549, 0.8824, 0.9373, 0.0392, 0.1412, 0.2353, 0.1020, 0.0000,\n",
              "         0.0078],\n",
              "        [0.0000, 0.0039, 0.0000, 0.0824, 0.2039, 0.2196, 0.0000, 0.3490, 0.9176,\n",
              "         0.8392, 0.8510, 0.8471, 0.8471, 0.8510, 0.8471, 0.8588, 0.8510, 0.8353,\n",
              "         0.8431, 0.8510, 0.8824, 0.9373, 0.0118, 0.1216, 0.2039, 0.1647, 0.0000,\n",
              "         0.0039],\n",
              "        [0.0000, 0.0039, 0.0000, 0.1451, 0.1686, 0.2157, 0.0196, 0.4549, 0.9255,\n",
              "         0.8314, 0.8549, 0.8471, 0.8510, 0.8471, 0.8431, 0.8392, 0.8431, 0.8510,\n",
              "         0.8471, 0.8353, 0.8824, 0.9647, 0.0392, 0.1255, 0.1490, 0.2667, 0.0196,\n",
              "         0.0000],\n",
              "        [0.0000, 0.0000, 0.0000, 0.1882, 0.1725, 0.1490, 0.0000, 0.5882, 0.9176,\n",
              "         0.8157, 0.8588, 0.8510, 0.8510, 0.8471, 0.8510, 0.8510, 0.8510, 0.8510,\n",
              "         0.8471, 0.8510, 0.8667, 0.9922, 0.1294, 0.0706, 0.1922, 0.2353, 0.0510,\n",
              "         0.0000],\n",
              "        [0.0000, 0.0000, 0.0000, 0.2078, 0.1922, 0.1725, 0.0000, 0.6706, 0.9059,\n",
              "         0.8235, 0.8588, 0.8510, 0.8510, 0.8471, 0.8510, 0.8510, 0.8510, 0.8510,\n",
              "         0.8471, 0.8549, 0.8549, 0.9922, 0.1961, 0.0235, 0.1569, 0.2235, 0.1451,\n",
              "         0.0000],\n",
              "        [0.0000, 0.0000, 0.0549, 0.2196, 0.1451, 0.1961, 0.0000, 0.7608, 0.8941,\n",
              "         0.8275, 0.8549, 0.8510, 0.8510, 0.8471, 0.8510, 0.8510, 0.8510, 0.8510,\n",
              "         0.8510, 0.8471, 0.8431, 0.9020, 0.3020, 0.0353, 0.1922, 0.2000, 0.1961,\n",
              "         0.0000],\n",
              "        [0.0000, 0.0000, 0.1255, 0.2078, 0.1490, 0.2314, 0.0000, 0.7882, 0.8941,\n",
              "         0.8235, 0.8588, 0.8510, 0.8510, 0.8471, 0.8549, 0.8510, 0.8510, 0.8510,\n",
              "         0.8471, 0.8431, 0.8314, 0.9294, 0.3569, 0.0000, 0.2157, 0.1608, 0.2196,\n",
              "         0.0039],\n",
              "        [0.0000, 0.0000, 0.1373, 0.2000, 0.1608, 0.2078, 0.0000, 0.8471, 0.8824,\n",
              "         0.8314, 0.8510, 0.8510, 0.8510, 0.8471, 0.8471, 0.8471, 0.8510, 0.8510,\n",
              "         0.8471, 0.8510, 0.8353, 0.9333, 0.4510, 0.0000, 0.2118, 0.1451, 0.2431,\n",
              "         0.0627],\n",
              "        [0.0000, 0.0000, 0.1490, 0.2000, 0.1608, 0.1412, 0.0000, 0.9412, 0.8706,\n",
              "         0.8471, 0.8471, 0.8510, 0.8510, 0.8510, 0.8431, 0.8471, 0.8510, 0.8510,\n",
              "         0.8510, 0.8549, 0.8275, 0.9098, 0.6000, 0.0000, 0.2157, 0.1412, 0.2157,\n",
              "         0.0863],\n",
              "        [0.0000, 0.0039, 0.2118, 0.1765, 0.2275, 0.0314, 0.0000, 0.9922, 0.8549,\n",
              "         0.8510, 0.8471, 0.8510, 0.8510, 0.8510, 0.8471, 0.8471, 0.8471, 0.8510,\n",
              "         0.8588, 0.8392, 0.8314, 0.8824, 0.7725, 0.0000, 0.2118, 0.1451, 0.2078,\n",
              "         0.1765],\n",
              "        [0.0000, 0.0196, 0.2196, 0.1373, 0.2510, 0.0000, 0.1490, 0.9137, 0.8353,\n",
              "         0.8510, 0.8471, 0.8510, 0.8510, 0.8510, 0.8510, 0.8510, 0.8471, 0.8431,\n",
              "         0.8471, 0.8392, 0.8275, 0.8588, 0.8980, 0.0000, 0.1569, 0.2039, 0.1529,\n",
              "         0.2118],\n",
              "        [0.0000, 0.1255, 0.2235, 0.2039, 0.2627, 0.0000, 0.2941, 0.9176, 0.8275,\n",
              "         0.8510, 0.8471, 0.8510, 0.8510, 0.8510, 0.8510, 0.8510, 0.8471, 0.8471,\n",
              "         0.8353, 0.8431, 0.8235, 0.8392, 0.9529, 0.0000, 0.0118, 0.2706, 0.2078,\n",
              "         0.2902],\n",
              "        [0.0000, 0.0235, 0.0863, 0.1804, 0.1333, 0.0000, 0.5961, 0.9137, 0.8392,\n",
              "         0.8510, 0.8471, 0.8510, 0.8510, 0.8510, 0.8510, 0.8471, 0.8471, 0.8471,\n",
              "         0.8314, 0.8314, 0.8275, 0.8196, 0.9843, 0.0627, 0.0000, 0.1451, 0.0627,\n",
              "         0.0000],\n",
              "        [0.0000, 0.0000, 0.0000, 0.0000, 0.0000, 0.0000, 0.7686, 0.9059, 0.8196,\n",
              "         0.8471, 0.8510, 0.8471, 0.8510, 0.8471, 0.8510, 0.8510, 0.8471, 0.8471,\n",
              "         0.8392, 0.8314, 0.8353, 0.8118, 0.8667, 0.2235, 0.0000, 0.0000, 0.0000,\n",
              "         0.0000],\n",
              "        [0.0000, 0.0039, 0.0039, 0.0039, 0.0000, 0.0000, 0.9255, 0.8706, 0.8275,\n",
              "         0.8471, 0.8510, 0.8510, 0.8510, 0.8510, 0.8549, 0.8510, 0.8510, 0.8471,\n",
              "         0.8471, 0.8314, 0.8353, 0.8078, 0.8902, 0.4157, 0.0000, 0.0157, 0.0078,\n",
              "         0.0039],\n",
              "        [0.0000, 0.0000, 0.0000, 0.0118, 0.0000, 0.0275, 0.8471, 0.8235, 0.8510,\n",
              "         0.8588, 0.8510, 0.8510, 0.8510, 0.8510, 0.8588, 0.8588, 0.8549, 0.8549,\n",
              "         0.8510, 0.8353, 0.8392, 0.7961, 0.8667, 0.4980, 0.0000, 0.0078, 0.0000,\n",
              "         0.0000],\n",
              "        [0.0000, 0.0000, 0.0000, 0.0196, 0.0000, 0.1529, 0.9216, 0.9098, 0.8353,\n",
              "         0.8353, 0.8353, 0.8431, 0.8314, 0.8275, 0.8431, 0.8314, 0.8431, 0.8353,\n",
              "         0.8431, 0.8157, 0.8275, 0.8588, 0.9451, 0.7922, 0.0000, 0.0039, 0.0039,\n",
              "         0.0000],\n",
              "        [0.0000, 0.0000, 0.0000, 0.0039, 0.0000, 0.0000, 0.2980, 0.6588, 0.8902,\n",
              "         0.9294, 0.9098, 0.8980, 0.8824, 0.8824, 0.8745, 0.8941, 0.9098, 0.9098,\n",
              "         0.9137, 0.9098, 0.8980, 0.7490, 0.5608, 0.1333, 0.0000, 0.0039, 0.0000,\n",
              "         0.0000],\n",
              "        [0.0000, 0.0000, 0.0000, 0.0000, 0.0000, 0.0000, 0.0000, 0.0000, 0.0667,\n",
              "         0.4510, 0.6588, 0.8118, 0.8824, 0.8784, 0.8667, 0.8235, 0.7490, 0.7098,\n",
              "         0.5608, 0.2667, 0.0510, 0.0000, 0.0000, 0.0000, 0.0000, 0.0000, 0.0000,\n",
              "         0.0000],\n",
              "        [0.0000, 0.0000, 0.0000, 0.0000, 0.0078, 0.0275, 0.0000, 0.0000, 0.0000,\n",
              "         0.0000, 0.0000, 0.0000, 0.0000, 0.0000, 0.0000, 0.0000, 0.0000, 0.0000,\n",
              "         0.0000, 0.0000, 0.0000, 0.0000, 0.0118, 0.0039, 0.0000, 0.0000, 0.0000,\n",
              "         0.0000]])"
            ]
          },
          "metadata": {},
          "execution_count": 75
        }
      ]
    },
    {
      "cell_type": "code",
      "source": [
        "targets = []\n",
        "for X, y in test_data:\n",
        "  targets.append(y)\n",
        "\n",
        "targets = torch.tensor(targets, dtype=torch.int)"
      ],
      "metadata": {
        "id": "ppgEyJlmOSte"
      },
      "execution_count": 91,
      "outputs": []
    },
    {
      "cell_type": "code",
      "source": [
        "from torchmetrics import ConfusionMatrix\n",
        "from mlxtend.plotting import plot_confusion_matrix\n",
        "\n",
        "# 2. Setup confusion matrix instance and compare predictions to targets\n",
        "confmat = ConfusionMatrix(num_classes=len(class_names), task='multiclass')\n",
        "confmat_tensor = confmat(preds=y_pred_tensor,\n",
        "                         target=targets)\n",
        "\n",
        "# 3. Plot the confusion matrix\n",
        "fig, ax = plot_confusion_matrix(\n",
        "    conf_mat=confmat_tensor.numpy(), # matplotlib likes working with NumPy \n",
        "    class_names=class_names, # turn the row and column labels into class names\n",
        "    figsize=(10, 7)\n",
        ");"
      ],
      "metadata": {
        "colab": {
          "base_uri": "https://localhost:8080/",
          "height": 667
        },
        "id": "CWP72eUp_E6B",
        "outputId": "9b7920b6-db7a-40cc-d5e5-606925a26076"
      },
      "execution_count": 92,
      "outputs": [
        {
          "output_type": "display_data",
          "data": {
            "text/plain": [
              "<Figure size 1000x700 with 1 Axes>"
            ],
            "image/png": "[encoded data removed]"
          },
          "metadata": {}
        }
      ]
    },
    {
      "cell_type": "code",
      "source": [
        "# save models\n",
        "from pathlib import Path\n",
        "\n",
        "# Create models directory (if it doesn't already exist), see: https://docs.python.org/3/library/pathlib.html#pathlib.Path.mkdir\n",
        "MODEL_PATH = Path(\"models\")\n",
        "MODEL_PATH.mkdir(parents=True, # create parent directories if needed\n",
        "                 exist_ok=True # if models directory already exists, don't error\n",
        ")\n",
        "\n",
        "# Create model save path\n",
        "MODEL_NAME = \"model_cnn_1.pth\"\n",
        "MODEL_SAVE_PATH = MODEL_PATH / MODEL_NAME\n",
        "\n",
        "# Save the model state dict\n",
        "print(f\"Saving model to: {MODEL_SAVE_PATH}\")\n",
        "torch.save(obj=model_cnn_1.state_dict(), # only saving the state_dict() only saves the learned parameters\n",
        "           f=MODEL_SAVE_PATH)"
      ],
      "metadata": {
        "colab": {
          "base_uri": "https://localhost:8080/"
        },
        "id": "p-4Wmw_tVDCX",
        "outputId": "76edda96-acb8-4305-d531-ada3e47583c7"
      },
      "execution_count": 96,
      "outputs": [
        {
          "output_type": "stream",
          "name": "stdout",
          "text": [
            "Saving model to: models/model_cnn_1.pth\n"
          ]
        }
      ]
    },
    {
      "cell_type": "code",
      "source": [
        "# practice reloading\n",
        "# Create a new instance of Fashion_MNIST_cnn_model_1 \n",
        "loaded_model_2 = Fashion_MNIST_cnn_model_1(input_channels=1, \n",
        "    kernels=10, \n",
        "    output_shape=len(class_names)).to(device)\n",
        "\n",
        "# load the weights for this instance from file\n",
        "# Note: loading model will error if the shapes here aren't the same as the saved version\n",
        "# Load in the saved state_dict()\n",
        "loaded_model_2.load_state_dict(torch.load(f=MODEL_SAVE_PATH))\n",
        "\n",
        "# Send model to GPU\n",
        "loaded_model_2 = loaded_model_2.to(device)"
      ],
      "metadata": {
        "id": "fyqRZNNUPWaF"
      },
      "execution_count": 100,
      "outputs": []
    },
    {
      "cell_type": "code",
      "source": [
        "# confirm that we get the same results as before loading! Why wouldn't we?\n",
        "# calculate test set accuracy and compare to validation \n",
        "    ### test set confirmation of best model\n",
        "MODEL_NAME = loaded_model_2\n",
        "# Setup variables for accumulatively adding up loss and accuracy \n",
        "test_loss, test_acc = 0, 0 \n",
        "MODEL_NAME.eval()\n",
        "with torch.inference_mode():\n",
        "# doing in batches allows less memory usage but may not be the fastest\n",
        "    for X, y in validation_batches_dl: \n",
        "        # 1. Forward pass\n",
        "        test_pred = MODEL_NAME(X)\n",
        "        \n",
        "        # 2. Calculate loss (accumatively)\n",
        "        test_loss += calculate_loss(test_pred, y) # accumulatively add up the loss per epoch\n",
        "\n",
        "        # 3. Calculate accuracy (preds need to be same as y_true)\n",
        "        test_acc += calculate_accuracy(y, test_pred.argmax(dim=1))\n",
        "    \n",
        "    # Calculations on test metrics need to happen inside torch.inference_mode()\n",
        "    # Divide total test loss by length of test dataloader (per batch)\n",
        "    test_loss /= len(validation_batches_dl)\n",
        "\n",
        "    # Divide total accuracy by length of test dataloader (per batch)\n",
        "    test_acc /= len(validation_batches_dl)\n",
        "\n",
        "## Print out what's happening\n",
        "print(f\"\\n \\\n",
        "  Test set loss: {test_loss:.5f}, Test set acc: {test_acc:.2f}%\\n\")"
      ],
      "metadata": {
        "colab": {
          "base_uri": "https://localhost:8080/"
        },
        "id": "p7awckegRgFh",
        "outputId": "a979aa34-9b93-498f-a180-ab6fad6b13f5"
      },
      "execution_count": 101,
      "outputs": [
        {
          "output_type": "stream",
          "name": "stdout",
          "text": [
            "\n",
            "   Test set loss: 0.31657, Test set acc: 88.48%\n",
            "\n"
          ]
        }
      ]
    }
  ]
}